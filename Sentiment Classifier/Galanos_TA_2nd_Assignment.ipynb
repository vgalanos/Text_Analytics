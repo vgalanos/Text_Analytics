{
 "cells": [
  {
   "cell_type": "markdown",
   "metadata": {
    "colab_type": "text",
    "id": "liMSglMZkfVw"
   },
   "source": [
    "# 2nd Assignment: Sentiment Analysis\n",
    "\n",
    "---\n",
    ">Vasileios Galanos <br>\n",
    ">Registration Number p3351902 <br>\n",
    ">vgalanos@aueb.gr"
   ]
  },
  {
   "cell_type": "markdown",
   "metadata": {
    "colab_type": "text",
    "id": "4M05ONsfmKnZ"
   },
   "source": [
    "This notebook accompanied with the report given provides our solution to the 2nd assignment of the Text Analytics course at Data Science MSc at AUEB. <br>"
   ]
  },
  {
   "cell_type": "markdown",
   "metadata": {
    "colab_type": "text",
    "id": "UG28TqlMaMBz"
   },
   "source": [
    "#### Install required packages\n"
   ]
  },
  {
   "cell_type": "code",
   "execution_count": 0,
   "metadata": {
    "colab": {},
    "colab_type": "code",
    "id": "ux-swtfpaOb7"
   },
   "outputs": [],
   "source": [
    "%%capture\n",
    "!pip install numpy\n",
    "!pip install scikit-learn\n",
    "!pip install pandas\n",
    "!pip install matplotlib"
   ]
  },
  {
   "cell_type": "markdown",
   "metadata": {
    "colab_type": "text",
    "id": "utS1TYaaa29j"
   },
   "source": [
    "#### Import all libraries for later use"
   ]
  },
  {
   "cell_type": "code",
   "execution_count": 7,
   "metadata": {
    "colab": {
     "base_uri": "https://localhost:8080/",
     "height": 34
    },
    "colab_type": "code",
    "id": "whMA-02VaRWF",
    "outputId": "5ab082f4-a831-40f0-e6cd-bb5c5562628d"
   },
   "outputs": [
    {
     "data": {
      "text/plain": [
       "True"
      ]
     },
     "execution_count": 7,
     "metadata": {
      "tags": []
     },
     "output_type": "execute_result"
    }
   ],
   "source": [
    "from pprint import pprint\n",
    "import pandas as pd\n",
    "from sklearn.model_selection import train_test_split\n",
    "from sklearn import preprocessing\n",
    "from sklearn.feature_extraction.text import TfidfVectorizer\n",
    "from nltk.tokenize import WordPunctTokenizer\n",
    "from google.colab import files\n",
    "from sklearn.datasets import load_files\n",
    "from bs4 import BeautifulSoup \n",
    "import re\n",
    "import matplotlib.pyplot as plt\n",
    "import nltk\n",
    "import re\n",
    "from nltk.stem import WordNetLemmatizer\n",
    "from collections import defaultdict\n",
    "from sklearn.linear_model import SGDClassifier\n",
    "from sklearn.linear_model import LogisticRegression\n",
    "from sklearn.feature_extraction.text import TfidfVectorizer\n",
    "from sklearn import metrics\n",
    "from sklearn.model_selection import GridSearchCV\n",
    "from sklearn.model_selection import RandomizedSearchCV\n",
    "from sklearn.pipeline import Pipeline\n",
    "from sklearn.dummy import DummyClassifier\n",
    "from nltk.corpus import stopwords\n",
    "import numpy as np\n",
    "from sklearn.ensemble import RandomForestClassifier\n",
    "from tabulate import tabulate\n",
    "import matplotlib.pyplot as plt\n",
    "from sklearn.metrics import auc\n",
    "from sklearn.naive_bayes import MultinomialNB\n",
    "from sklearn.model_selection import learning_curve\n",
    "from sklearn.model_selection import ShuffleSplit\n",
    "from sklearn.metrics import recall_score,f1_score\n",
    "from sklearn.utils import resample\n",
    "from sklearn.decomposition import TruncatedSVD\n",
    "import time\n",
    "\n",
    "nltk.download('wordnet',quiet=True)\n",
    "nltk.download('stopwords',quiet=True)"
   ]
  },
  {
   "cell_type": "markdown",
   "metadata": {
    "colab_type": "text",
    "id": "TnIYxnYcbHKH"
   },
   "source": [
    "#### Download a sentiment analysis dataset"
   ]
  },
  {
   "cell_type": "code",
   "execution_count": 9,
   "metadata": {
    "colab": {
     "base_uri": "https://localhost:8080/",
     "height": 323
    },
    "colab_type": "code",
    "id": "LlOAA9oo8tqL",
    "outputId": "5179105f-3e68-456d-cf2c-e127c1473680"
   },
   "outputs": [
    {
     "name": "stdout",
     "output_type": "stream",
     "text": [
      "--2020-05-27 13:44:28--  http://cs.stanford.edu/people/alecmgo/trainingandtestdata.zip\n",
      "Resolving cs.stanford.edu (cs.stanford.edu)... 171.64.64.64\n",
      "Connecting to cs.stanford.edu (cs.stanford.edu)|171.64.64.64|:80... connected.\n",
      "HTTP request sent, awaiting response... 301 Moved Permanently\n",
      "Location: https://cs.stanford.edu/people/alecmgo/trainingandtestdata.zip [following]\n",
      "--2020-05-27 13:44:29--  https://cs.stanford.edu/people/alecmgo/trainingandtestdata.zip\n",
      "Connecting to cs.stanford.edu (cs.stanford.edu)|171.64.64.64|:443... connected.\n",
      "HTTP request sent, awaiting response... 200 OK\n",
      "Length: 81363704 (78M) [application/zip]\n",
      "Saving to: ‘trainingandtestdata.zip’\n",
      "\n",
      "trainingandtestdata 100%[===================>]  77.59M  21.1MB/s    in 4.5s    \n",
      "\n",
      "2020-05-27 13:44:34 (17.2 MB/s) - ‘trainingandtestdata.zip’ saved [81363704/81363704]\n",
      "\n",
      "Archive:  trainingandtestdata.zip\n",
      "  inflating: testdata.manual.2009.06.14.csv  \n",
      "  inflating: training.1600000.processed.noemoticon.csv  \n"
     ]
    }
   ],
   "source": [
    "!wget http://cs.stanford.edu/people/alecmgo/trainingandtestdata.zip\n",
    "!unzip \"trainingandtestdata.zip\""
   ]
  },
  {
   "cell_type": "markdown",
   "metadata": {
    "colab_type": "text",
    "id": "RzYXzMsBtInq"
   },
   "source": [
    "#### Load Data from csv file"
   ]
  },
  {
   "cell_type": "code",
   "execution_count": 10,
   "metadata": {
    "colab": {
     "base_uri": "https://localhost:8080/",
     "height": 204
    },
    "colab_type": "code",
    "id": "CSjcKvmraReg",
    "outputId": "3982682e-b09c-4bdb-961c-f7474bc13fdc"
   },
   "outputs": [
    {
     "data": {
      "text/html": [
       "<div>\n",
       "<style scoped>\n",
       "    .dataframe tbody tr th:only-of-type {\n",
       "        vertical-align: middle;\n",
       "    }\n",
       "\n",
       "    .dataframe tbody tr th {\n",
       "        vertical-align: top;\n",
       "    }\n",
       "\n",
       "    .dataframe thead th {\n",
       "        text-align: right;\n",
       "    }\n",
       "</style>\n",
       "<table border=\"1\" class=\"dataframe\">\n",
       "  <thead>\n",
       "    <tr style=\"text-align: right;\">\n",
       "      <th></th>\n",
       "      <th>sentiment</th>\n",
       "      <th>id</th>\n",
       "      <th>date</th>\n",
       "      <th>query_string</th>\n",
       "      <th>user</th>\n",
       "      <th>text</th>\n",
       "    </tr>\n",
       "  </thead>\n",
       "  <tbody>\n",
       "    <tr>\n",
       "      <th>0</th>\n",
       "      <td>0</td>\n",
       "      <td>1467810369</td>\n",
       "      <td>Mon Apr 06 22:19:45 PDT 2009</td>\n",
       "      <td>NO_QUERY</td>\n",
       "      <td>_TheSpecialOne_</td>\n",
       "      <td>@switchfoot http://twitpic.com/2y1zl - Awww, that's a bummer.  You shoulda got David Carr of Third Day to do it. ;D</td>\n",
       "    </tr>\n",
       "    <tr>\n",
       "      <th>1</th>\n",
       "      <td>0</td>\n",
       "      <td>1467810672</td>\n",
       "      <td>Mon Apr 06 22:19:49 PDT 2009</td>\n",
       "      <td>NO_QUERY</td>\n",
       "      <td>scotthamilton</td>\n",
       "      <td>is upset that he can't update his Facebook by texting it... and might cry as a result  School today also. Blah!</td>\n",
       "    </tr>\n",
       "    <tr>\n",
       "      <th>2</th>\n",
       "      <td>0</td>\n",
       "      <td>1467810917</td>\n",
       "      <td>Mon Apr 06 22:19:53 PDT 2009</td>\n",
       "      <td>NO_QUERY</td>\n",
       "      <td>mattycus</td>\n",
       "      <td>@Kenichan I dived many times for the ball. Managed to save 50%  The rest go out of bounds</td>\n",
       "    </tr>\n",
       "    <tr>\n",
       "      <th>3</th>\n",
       "      <td>0</td>\n",
       "      <td>1467811184</td>\n",
       "      <td>Mon Apr 06 22:19:57 PDT 2009</td>\n",
       "      <td>NO_QUERY</td>\n",
       "      <td>ElleCTF</td>\n",
       "      <td>my whole body feels itchy and like its on fire</td>\n",
       "    </tr>\n",
       "    <tr>\n",
       "      <th>4</th>\n",
       "      <td>0</td>\n",
       "      <td>1467811193</td>\n",
       "      <td>Mon Apr 06 22:19:57 PDT 2009</td>\n",
       "      <td>NO_QUERY</td>\n",
       "      <td>Karoli</td>\n",
       "      <td>@nationwideclass no, it's not behaving at all. i'm mad. why am i here? because I can't see you all over there.</td>\n",
       "    </tr>\n",
       "  </tbody>\n",
       "</table>\n",
       "</div>"
      ],
      "text/plain": [
       "   sentiment  ...                                                                                                                 text\n",
       "0          0  ...  @switchfoot http://twitpic.com/2y1zl - Awww, that's a bummer.  You shoulda got David Carr of Third Day to do it. ;D\n",
       "1          0  ...      is upset that he can't update his Facebook by texting it... and might cry as a result  School today also. Blah!\n",
       "2          0  ...                            @Kenichan I dived many times for the ball. Managed to save 50%  The rest go out of bounds\n",
       "3          0  ...                                                                      my whole body feels itchy and like its on fire \n",
       "4          0  ...      @nationwideclass no, it's not behaving at all. i'm mad. why am i here? because I can't see you all over there. \n",
       "\n",
       "[5 rows x 6 columns]"
      ]
     },
     "execution_count": 10,
     "metadata": {
      "tags": []
     },
     "output_type": "execute_result"
    }
   ],
   "source": [
    "pd.set_option('max_colwidth', 800)\n",
    "cols = ['sentiment','id','date','query_string','user','text']\n",
    "tweets_final = pd.read_csv(\"/content/training.1600000.processed.noemoticon.csv\",\n",
    "                 encoding = \"ISO-8859-1\", header=None, names=cols)\n",
    "tweets_final.head()"
   ]
  },
  {
   "cell_type": "markdown",
   "metadata": {
    "colab_type": "text",
    "id": "fF5yYfvftQGo"
   },
   "source": [
    "#### Remove useless columns"
   ]
  },
  {
   "cell_type": "code",
   "execution_count": 11,
   "metadata": {
    "colab": {
     "base_uri": "https://localhost:8080/",
     "height": 204
    },
    "colab_type": "code",
    "id": "FaWss6jnmGPT",
    "outputId": "e4ce2c82-252c-42ec-87d1-4605cf069786"
   },
   "outputs": [
    {
     "data": {
      "text/html": [
       "<div>\n",
       "<style scoped>\n",
       "    .dataframe tbody tr th:only-of-type {\n",
       "        vertical-align: middle;\n",
       "    }\n",
       "\n",
       "    .dataframe tbody tr th {\n",
       "        vertical-align: top;\n",
       "    }\n",
       "\n",
       "    .dataframe thead th {\n",
       "        text-align: right;\n",
       "    }\n",
       "</style>\n",
       "<table border=\"1\" class=\"dataframe\">\n",
       "  <thead>\n",
       "    <tr style=\"text-align: right;\">\n",
       "      <th></th>\n",
       "      <th>sentiment</th>\n",
       "      <th>text</th>\n",
       "    </tr>\n",
       "  </thead>\n",
       "  <tbody>\n",
       "    <tr>\n",
       "      <th>0</th>\n",
       "      <td>0</td>\n",
       "      <td>@switchfoot http://twitpic.com/2y1zl - Awww, that's a bummer.  You shoulda got David Carr of Third Day to do it. ;D</td>\n",
       "    </tr>\n",
       "    <tr>\n",
       "      <th>1</th>\n",
       "      <td>0</td>\n",
       "      <td>is upset that he can't update his Facebook by texting it... and might cry as a result  School today also. Blah!</td>\n",
       "    </tr>\n",
       "    <tr>\n",
       "      <th>2</th>\n",
       "      <td>0</td>\n",
       "      <td>@Kenichan I dived many times for the ball. Managed to save 50%  The rest go out of bounds</td>\n",
       "    </tr>\n",
       "    <tr>\n",
       "      <th>3</th>\n",
       "      <td>0</td>\n",
       "      <td>my whole body feels itchy and like its on fire</td>\n",
       "    </tr>\n",
       "    <tr>\n",
       "      <th>4</th>\n",
       "      <td>0</td>\n",
       "      <td>@nationwideclass no, it's not behaving at all. i'm mad. why am i here? because I can't see you all over there.</td>\n",
       "    </tr>\n",
       "  </tbody>\n",
       "</table>\n",
       "</div>"
      ],
      "text/plain": [
       "   sentiment                                                                                                                 text\n",
       "0          0  @switchfoot http://twitpic.com/2y1zl - Awww, that's a bummer.  You shoulda got David Carr of Third Day to do it. ;D\n",
       "1          0      is upset that he can't update his Facebook by texting it... and might cry as a result  School today also. Blah!\n",
       "2          0                            @Kenichan I dived many times for the ball. Managed to save 50%  The rest go out of bounds\n",
       "3          0                                                                      my whole body feels itchy and like its on fire \n",
       "4          0      @nationwideclass no, it's not behaving at all. i'm mad. why am i here? because I can't see you all over there. "
      ]
     },
     "execution_count": 11,
     "metadata": {
      "tags": []
     },
     "output_type": "execute_result"
    }
   ],
   "source": [
    "tweets_final.drop(['id','date','query_string','user'],axis=1,inplace=True)\n",
    "tweets_final.head()"
   ]
  },
  {
   "cell_type": "markdown",
   "metadata": {
    "colab_type": "text",
    "id": "99sc24JrtV8V"
   },
   "source": [
    "#### Get a count of data to see that there are no neutral tweets"
   ]
  },
  {
   "cell_type": "code",
   "execution_count": 12,
   "metadata": {
    "colab": {
     "base_uri": "https://localhost:8080/",
     "height": 68
    },
    "colab_type": "code",
    "id": "fzufFrszmGSu",
    "outputId": "5e18eff1-fde6-42c4-e92d-f2ab416fcaf5"
   },
   "outputs": [
    {
     "data": {
      "text/plain": [
       "4    800000\n",
       "0    800000\n",
       "Name: sentiment, dtype: int64"
      ]
     },
     "execution_count": 12,
     "metadata": {
      "tags": []
     },
     "output_type": "execute_result"
    }
   ],
   "source": [
    "tweets_final.sentiment.value_counts()"
   ]
  },
  {
   "cell_type": "markdown",
   "metadata": {
    "colab_type": "text",
    "id": "fNK-iSgvtksK"
   },
   "source": [
    "#### Data preprocessing/cleaning/preparation"
   ]
  },
  {
   "cell_type": "code",
   "execution_count": 0,
   "metadata": {
    "colab": {},
    "colab_type": "code",
    "id": "XEY6VJ1WDNRX"
   },
   "outputs": [],
   "source": [
    "tok = WordPunctTokenizer()\n",
    "stemmer = WordNetLemmatizer()\n",
    "\n",
    "#remove references\n",
    "pat1 = r'@[A-Za-z0-9]+'\n",
    "#remove links\n",
    "pat2 = r'https?://[A-Za-z0-9./]+'\n",
    "combined_pat1 = r'|'.join((pat1, pat2))\n",
    "\n",
    "# remove all single characters\n",
    "pat3 = r'\\s+[a-zA-Z]\\s+'\n",
    "#remove hashtags, numbers\n",
    "pat4 = r'\\^[a-zA-Z!]\\s+' \n",
    "# Substituting multiple spaces with single space\n",
    "pat5 = r'\\s+'\n",
    "combined_pat2 = r'|'.join((pat4, pat5))\n",
    "\n",
    "def tweet_cleaner(text):\n",
    "    #remove html related tags\n",
    "    soup = BeautifulSoup(text, 'lxml')\n",
    "    souped = soup.get_text()\n",
    "    stripped = re.sub(combined_pat1, '', souped)\n",
    "    stripped = re.sub(combined_pat2, ' ', stripped)\n",
    "\n",
    "    try:\n",
    "        #replace possibe faulty characters\n",
    "        clean = stripped.replace(u\"\\ufffd\", \"?\")\n",
    "    except:\n",
    "        clean = stripped\n",
    "    #keep only letters\n",
    "    letters_only = re.sub(\"[^a-zA-Z!]\", \" \", clean)\n",
    "    lower_case = letters_only.lower()\n",
    "    lower_case = lower_case.split()\n",
    "    #lemmatize\n",
    "    lower_case = [stemmer.lemmatize(word) for word in lower_case]\n",
    "    lower_case = ' '.join(lower_case)\n",
    "    words = tok.tokenize(lower_case)\n",
    "    return (\" \".join(words)).strip()"
   ]
  },
  {
   "cell_type": "code",
   "execution_count": 14,
   "metadata": {
    "colab": {
     "base_uri": "https://localhost:8080/",
     "height": 190
    },
    "colab_type": "code",
    "id": "QWIX2AuSTVIe",
    "outputId": "dfe7869c-ff8a-4eb5-dd8f-d77983c8e060"
   },
   "outputs": [
    {
     "name": "stdout",
     "output_type": "stream",
     "text": [
      "Time passed 38 seconds\n"
     ]
    },
    {
     "data": {
      "text/html": [
       "<div>\n",
       "<style scoped>\n",
       "    .dataframe tbody tr th:only-of-type {\n",
       "        vertical-align: middle;\n",
       "    }\n",
       "\n",
       "    .dataframe tbody tr th {\n",
       "        vertical-align: top;\n",
       "    }\n",
       "\n",
       "    .dataframe thead th {\n",
       "        text-align: right;\n",
       "    }\n",
       "</style>\n",
       "<table border=\"1\" class=\"dataframe\">\n",
       "  <thead>\n",
       "    <tr style=\"text-align: right;\">\n",
       "      <th></th>\n",
       "      <th>sentiment</th>\n",
       "      <th>text</th>\n",
       "    </tr>\n",
       "  </thead>\n",
       "  <tbody>\n",
       "    <tr>\n",
       "      <th>1220597</th>\n",
       "      <td>4</td>\n",
       "      <td>excellent good time to buy one great pricing co tax benefit hand me down to the kid in month</td>\n",
       "    </tr>\n",
       "    <tr>\n",
       "      <th>1385323</th>\n",
       "      <td>4</td>\n",
       "      <td>hey ! you promised you d tweet me tonight hope to talk to you again soon</td>\n",
       "    </tr>\n",
       "    <tr>\n",
       "      <th>1225205</th>\n",
       "      <td>4</td>\n",
       "      <td>who is this faceless avenger with good tidings !</td>\n",
       "    </tr>\n",
       "    <tr>\n",
       "      <th>1066567</th>\n",
       "      <td>4</td>\n",
       "      <td>they say love hurt lol better to learn it young</td>\n",
       "    </tr>\n",
       "  </tbody>\n",
       "</table>\n",
       "</div>"
      ],
      "text/plain": [
       "         sentiment                                                                                          text\n",
       "1220597          4  excellent good time to buy one great pricing co tax benefit hand me down to the kid in month\n",
       "1385323          4                      hey ! you promised you d tweet me tonight hope to talk to you again soon\n",
       "1225205          4                                              who is this faceless avenger with good tidings !\n",
       "1066567          4                                               they say love hurt lol better to learn it young"
      ]
     },
     "execution_count": 14,
     "metadata": {
      "tags": []
     },
     "output_type": "execute_result"
    }
   ],
   "source": [
    "# set N for sample size\n",
    "N = 100000\n",
    "\n",
    "start_time = time.time()\n",
    "\n",
    "# shuffle\n",
    "tweets_final = tweets_final.sample(frac=1)\n",
    "\n",
    "# get a subspace of the original dataset and preproccess it\n",
    "tweets_final = tweets_final[:N]\n",
    "tweets_final['text'] = tweets_final['text'].apply(lambda x : tweet_cleaner(x))\n",
    "\n",
    "elapsed_time = time.time() - start_time\n",
    "\n",
    "print('Time passed %0.0f seconds' % elapsed_time)\n",
    "tweets_final.head(4)"
   ]
  },
  {
   "cell_type": "markdown",
   "metadata": {
    "colab_type": "text",
    "id": "ncOzCtAJFgp1"
   },
   "source": [
    "#### Change labels to (0,1)\n"
   ]
  },
  {
   "cell_type": "code",
   "execution_count": 0,
   "metadata": {
    "colab": {},
    "colab_type": "code",
    "id": "ZCbHQNIfShZf"
   },
   "outputs": [],
   "source": [
    "tweets_final.loc[tweets_final['sentiment'] == 4, \"sentiment\"] = 1"
   ]
  },
  {
   "cell_type": "markdown",
   "metadata": {
    "colab_type": "text",
    "id": "49FqdzrsFweT"
   },
   "source": [
    "#### Train, Dev & Test split"
   ]
  },
  {
   "cell_type": "code",
   "execution_count": 16,
   "metadata": {
    "colab": {
     "base_uri": "https://localhost:8080/",
     "height": 221
    },
    "colab_type": "code",
    "id": "5QLpSty20Uhb",
    "outputId": "b96a9ffe-ff87-4c56-bf18-b4abbc12148c"
   },
   "outputs": [
    {
     "name": "stdout",
     "output_type": "stream",
     "text": [
      "         sentiment                                                                                          text\n",
      "1220597          1  excellent good time to buy one great pricing co tax benefit hand me down to the kid in month\n",
      "1385323          1                      hey ! you promised you d tweet me tonight hope to talk to you again soon\n",
      "1225205          1                                              who is this faceless avenger with good tidings !\n",
      "         sentiment                                                                     text\n",
      "172019           0     is making cupcake and say i can t have any kelli you re a bad sister\n",
      "1405287          1                                                     you are a crackup !!\n",
      "630560           0  i tried to give you up but i m addicted muse time is running out iphone\n",
      "         sentiment                                                                                                                                   text\n",
      "424912           0                                                                                     phew ! short hair na ako anyway it okay lang naman\n",
      "1543017          1  peter and vandy a great film that truthfully portrays relationship better than any film i ve ever seen before check it out if you can\n",
      "417921           0                                                                                                                    is missing my mattt\n"
     ]
    }
   ],
   "source": [
    "total_length = len(tweets_final)\n",
    "train_set = tweets_final[0:int((total_length*7)/10)]\n",
    "print(train_set[0:3])\n",
    "dev_set = tweets_final[int((total_length*7)/10)+1:int((total_length*9)/10)]\n",
    "print(dev_set[0:3])\n",
    "test_set = tweets_final[int((total_length*9)/10)+1:total_length]\n",
    "print(test_set[0:3])"
   ]
  },
  {
   "cell_type": "markdown",
   "metadata": {
    "colab_type": "text",
    "id": "3kL7jlmA0a4z"
   },
   "source": [
    "#### Some statistics on the dataset\n"
   ]
  },
  {
   "cell_type": "code",
   "execution_count": 17,
   "metadata": {
    "colab": {
     "base_uri": "https://localhost:8080/",
     "height": 102
    },
    "colab_type": "code",
    "id": "7-J-LLGr0cbJ",
    "outputId": "fcc18d6b-67ff-4e1d-de1c-cb24f1af880b"
   },
   "outputs": [
    {
     "name": "stdout",
     "output_type": "stream",
     "text": [
      "Average document length per sentiment is: \n",
      "sentiment\n",
      "0    13.804990\n",
      "1    12.851547\n",
      "Name: text, dtype: float64\n"
     ]
    }
   ],
   "source": [
    "avg_doc_len = tweets_final.groupby('sentiment').text.apply(lambda x: x.str.split().str.len().mean())\n",
    "print(\"Average document length per sentiment is: \")\n",
    "print(avg_doc_len)"
   ]
  },
  {
   "cell_type": "code",
   "execution_count": 0,
   "metadata": {
    "colab": {
     "base_uri": "https://localhost:8080/",
     "height": 34
    },
    "colab_type": "code",
    "id": "v4y6bZAX3xa1",
    "outputId": "8cb175b1-127b-4036-8a45-fd5f6e5e23e6"
   },
   "outputs": [
    {
     "name": "stdout",
     "output_type": "stream",
     "text": [
      "The total number of documents is:  100000 .\n"
     ]
    }
   ],
   "source": [
    "print(\"The total number of documents is: \", total_length, \".\")"
   ]
  },
  {
   "cell_type": "code",
   "execution_count": 18,
   "metadata": {
    "colab": {
     "base_uri": "https://localhost:8080/",
     "height": 68
    },
    "colab_type": "code",
    "id": "4HsYGM6e37d2",
    "outputId": "9194feb7-7e47-4970-ed6d-7069311cfd2c"
   },
   "outputs": [
    {
     "name": "stdout",
     "output_type": "stream",
     "text": [
      "Training set contains:  70000  documents.\n",
      "Developement set contains:  19999  documents.\n",
      "Test set contains:  9999  documents.\n"
     ]
    }
   ],
   "source": [
    "print(\"Training set contains: \", len(train_set),\" documents.\")\n",
    "print(\"Developement set contains: \", len(dev_set),\" documents.\")\n",
    "print(\"Test set contains: \", len(test_set),\" documents.\")"
   ]
  },
  {
   "cell_type": "markdown",
   "metadata": {
    "colab_type": "text",
    "id": "DTLFdDd0EeMS"
   },
   "source": [
    "#### Macro Average - Precision, Recall & F1 scores"
   ]
  },
  {
   "cell_type": "code",
   "execution_count": 0,
   "metadata": {
    "colab": {},
    "colab_type": "code",
    "id": "pbD2s-j8IIFi"
   },
   "outputs": [],
   "source": [
    "def get_scores(y_true, y_scores, threshold):\n",
    "  \"\"\"\n",
    "  input:\n",
    "    y_true: array with gound truth\n",
    "    y_scores: array-like, shape = [n_samples, n_classes], the probability of the sample for each class in the model\n",
    "    threshold: classification threshold in order to classify to positive class\n",
    "\n",
    "  output:\n",
    "    precision: dictionary with scores for all classes + macro precision\n",
    "    recall: dictionary with scores for all classes + macro recall\n",
    "    f1: dictionary with scores for all classes + macro f1\n",
    "\n",
    "  \"\"\"\n",
    "  N_labels = y_scores.shape[1] # number of classes\n",
    "  \n",
    "  precision = {}\n",
    "  recall = {}\n",
    "  f1 = {}\n",
    "\n",
    "  for label in range(N_labels):\n",
    "    \n",
    "    # create array with predictions based on which class is considered positive and a threshold\n",
    "    y_pred = np.array([int(label if elem >= threshold else 1-label) for elem in y_scores[:,label]])\n",
    "  \n",
    "    # calculate True Positive, False Positive, True Negative, False Negative\n",
    "    TP = 0\n",
    "    FP = 0\n",
    "    TN = 0\n",
    "    FN = 0\n",
    "\n",
    "    for i in range(len(y_pred)): \n",
    "      if y_true[i]==y_pred[i]==label:\n",
    "        TP += 1\n",
    "      if y_pred[i]==label and y_true[i]!=y_pred[i]:\n",
    "        FP += 1\n",
    "      if y_pred[i]==1-label and y_true[i]!=y_pred[i]:\n",
    "        FN += 1\n",
    "    precision[label] = 0 if (TP + FP) == 0 else TP / (TP + FP) \n",
    "    recall[label] = 0 if (TP + FN) == 0 else TP / (TP + FN)\n",
    "    f1[label] = 0 if (precision[label] + recall[label]) ==0 else 2 * (precision[label] * recall[label]) / (precision[label] + recall[label]) \n",
    "\n",
    "  precision['macro'] = sum(precision.values())/N_labels\n",
    "  recall['macro'] = sum(recall.values())/N_labels\n",
    "  f1['macro'] = sum(f1.values())/N_labels\n",
    "  \n",
    "  return precision, recall, f1\n",
    "\n",
    "def print_scores(estimator, X, y_true, threshold):\n",
    "  y_pred = estimator.predict_proba(X)\n",
    "  prec_dict, rec_dict, f1_dict = get_scores(y_true, y_pred, threshold)\n",
    "  scores_df = pd.DataFrame.from_dict({'precision': prec_dict, 'recall': rec_dict, 'f1': f1_dict})\n",
    "  print(tabulate(scores_df.round(3), headers='keys', tablefmt='psql'))"
   ]
  },
  {
   "cell_type": "markdown",
   "metadata": {
    "colab_type": "text",
    "id": "QktiYG6OXUx4"
   },
   "source": [
    "\n",
    "#### Baseline"
   ]
  },
  {
   "cell_type": "code",
   "execution_count": 22,
   "metadata": {
    "colab": {
     "base_uri": "https://localhost:8080/",
     "height": 459
    },
    "colab_type": "code",
    "id": "gtUStG3_VhWJ",
    "outputId": "784cf851-327a-4a01-8acd-37be1ffa1149"
   },
   "outputs": [
    {
     "name": "stdout",
     "output_type": "stream",
     "text": [
      "Baseline- Train scores:\n",
      "+-------+-------------+----------+-------+\n",
      "|       |   precision |   recall |    f1 |\n",
      "|-------+-------------+----------+-------|\n",
      "| 0     |       0.501 |      1   | 0.668 |\n",
      "| 1     |       0     |      0   | 0     |\n",
      "| macro |       0.251 |      0.5 | 0.334 |\n",
      "+-------+-------------+----------+-------+\n",
      "---------------------------------------------------------\n",
      "Baseline- Dev scores:\n",
      "+-------+-------------+----------+-------+\n",
      "|       |   precision |   recall |    f1 |\n",
      "|-------+-------------+----------+-------|\n",
      "| 0     |       0.499 |      1   | 0.666 |\n",
      "| 1     |       0     |      0   | 0     |\n",
      "| macro |       0.25  |      0.5 | 0.333 |\n",
      "+-------+-------------+----------+-------+\n",
      "---------------------------------------------------------\n",
      "Baseline- Test scores:\n",
      "+-------+-------------+----------+-------+\n",
      "|       |   precision |   recall |    f1 |\n",
      "|-------+-------------+----------+-------|\n",
      "| 0     |       0.495 |      1   | 0.662 |\n",
      "| 1     |       0     |      0   | 0     |\n",
      "| macro |       0.247 |      0.5 | 0.331 |\n",
      "+-------+-------------+----------+-------+\n"
     ]
    }
   ],
   "source": [
    "def print_classifier_scores(estimator, est_name, X_train, y_train\n",
    "                            ,X_dev, y_dev\n",
    "                            ,X_test,y_test\n",
    "                            , thres):\n",
    "\n",
    "  print(\"{}- Train scores:\".format(est_name))\n",
    "  print_scores(estimator, X_train, y_train, thres)\n",
    "\n",
    "  print(\"---------------------------------------------------------\")\n",
    "  print(\"{}- Dev scores:\".format(est_name))\n",
    "  print_scores(estimator, X_dev ,y_dev, thres)\n",
    "\n",
    "  print(\"---------------------------------------------------------\")\n",
    "  print(\"{}- Test scores:\".format(est_name))\n",
    "  print_scores(estimator, X_test, y_test, thres)\n",
    "\n",
    "# Create pipeline\n",
    "base_pipeline = Pipeline([\n",
    "    ('tfidf_vectorizer', TfidfVectorizer(ngram_range=(1, 2)\n",
    "                             ,max_features = 5000\n",
    "                             ,sublinear_tf=True\n",
    "                             ,stop_words=stopwords.words('english')\n",
    "    )),\n",
    "    ('clf',  DummyClassifier(strategy='most_frequent'))\n",
    "    ])\n",
    "\n",
    "# fit on training set and print scores\n",
    "base_pipeline.fit(train_set.text, train_set.sentiment.to_list())\n",
    "\n",
    "\n",
    "\n",
    "print_classifier_scores(base_pipeline, 'Baseline', train_set.text, train_set.sentiment.to_list()\n",
    "  , dev_set.text, dev_set.sentiment.to_list()\n",
    "  , test_set.text, test_set.sentiment.to_list(),0.5)\n"
   ]
  },
  {
   "cell_type": "markdown",
   "metadata": {
    "colab_type": "text",
    "id": "ezTBolOkVhyE"
   },
   "source": [
    "#### SGD Logistic Regression"
   ]
  },
  {
   "cell_type": "markdown",
   "metadata": {
    "colab_type": "text",
    "id": "oID8AejvaxMq"
   },
   "source": [
    "Pipeline + Gridsearch for SGD\n"
   ]
  },
  {
   "cell_type": "code",
   "execution_count": 0,
   "metadata": {
    "colab": {
     "base_uri": "https://localhost:8080/",
     "height": 68
    },
    "colab_type": "code",
    "id": "Y-61_FNnavnZ",
    "outputId": "870e9f47-693f-4e23-909c-079756c6df59"
   },
   "outputs": [
    {
     "name": "stdout",
     "output_type": "stream",
     "text": [
      "After 131 seconds  Random GridSearch found: \n",
      "Best Score: 0.754\n",
      "Best Params:  {'tfidf_vectorizer__sublinear_tf': False, 'tfidf_vectorizer__ngram_range': (1, 3), 'clf__penalty': 'l2', 'clf__alpha': 0.0001}\n"
     ]
    }
   ],
   "source": [
    "lr_pipeline = Pipeline([\n",
    "    ('tfidf_vectorizer', TfidfVectorizer(stop_words=stopwords.words('english'), max_features=5000)),\n",
    "    ('clf', SGDClassifier(loss=\"log\", max_iter=5000))\n",
    "    ])\n",
    "\n",
    "grid_params = {\n",
    "    'tfidf_vectorizer__ngram_range': [(1,1),(1,2),(1,3)],  \n",
    "    'tfidf_vectorizer__sublinear_tf': [True,False],\n",
    "    \"clf__alpha\" : [0.0001, 0.001, 0.01, 0.1],\n",
    "    \"clf__penalty\" : [\"l2\", \"l1\", \"none\"],\n",
    "}\n",
    "# start timing\n",
    "start_time = time.time()\n",
    "\n",
    "grid_sgd_clf = RandomizedSearchCV(lr_pipeline, grid_params, scoring='f1_macro',n_jobs=-1, random_state=94)\n",
    "\n",
    "# perform gridsearch on both training and dev set with 5-fold cross validation and save the best model\n",
    "grid_sgd_clf.fit(np.concatenate((train_set.text, dev_set.text), axis=0)\n",
    "                ,train_set.sentiment.tolist() + dev_set.sentiment.tolist()\n",
    "                )\n",
    "\n",
    "elapsed_time = time.time() - start_time\n",
    "print('After {:.0f} seconds'.format(elapsed_time), ' Random GridSearch found: ')\n",
    "print(\"Best Score: {:.3f}\" .format(grid_sgd_clf.best_score_))\n",
    "print(\"Best Params: \", grid_sgd_clf.best_params_)\n",
    "\n",
    "# get best estimator\n",
    "sgd_pipeline = grid_sgd_clf.best_estimator_"
   ]
  },
  {
   "cell_type": "code",
   "execution_count": 0,
   "metadata": {
    "colab": {
     "base_uri": "https://localhost:8080/",
     "height": 476
    },
    "colab_type": "code",
    "id": "KzCFRGtZ0I35",
    "outputId": "71de2218-9480-4bde-a409-9f48d486cb7e"
   },
   "outputs": [
    {
     "name": "stdout",
     "output_type": "stream",
     "text": [
      "Fitting ended after 5 seconds.\n",
      "SGD classifier- Train scores:\n",
      "+-------+-------------+----------+-------+\n",
      "|       |   precision |   recall |    f1 |\n",
      "|-------+-------------+----------+-------|\n",
      "| 0     |       0.78  |    0.757 | 0.768 |\n",
      "| 1     |       0.762 |    0.785 | 0.773 |\n",
      "| macro |       0.771 |    0.771 | 0.771 |\n",
      "+-------+-------------+----------+-------+\n",
      "---------------------------------------------------------\n",
      "SGD classifier- Dev scores:\n",
      "+-------+-------------+----------+-------+\n",
      "|       |   precision |   recall |    f1 |\n",
      "|-------+-------------+----------+-------|\n",
      "| 0     |       0.76  |    0.74  | 0.75  |\n",
      "| 1     |       0.748 |    0.767 | 0.757 |\n",
      "| macro |       0.754 |    0.754 | 0.754 |\n",
      "+-------+-------------+----------+-------+\n",
      "---------------------------------------------------------\n",
      "SGD classifier- Test scores:\n",
      "+-------+-------------+----------+-------+\n",
      "|       |   precision |   recall |    f1 |\n",
      "|-------+-------------+----------+-------|\n",
      "| 0     |       0.767 |    0.74  | 0.754 |\n",
      "| 1     |       0.744 |    0.771 | 0.757 |\n",
      "| macro |       0.756 |    0.756 | 0.756 |\n",
      "+-------+-------------+----------+-------+\n"
     ]
    }
   ],
   "source": [
    "start_time = time.time()\n",
    "sgd_pipeline.fit(train_set.text, train_set.sentiment.to_list())\n",
    "\n",
    "elapsed_time = time.time() - start_time\n",
    "print('Fitting ended after {:.0f} seconds.'.format(elapsed_time))\n",
    "\n",
    "print_classifier_scores(sgd_pipeline, 'SGD classifier', train_set.text, train_set.sentiment.to_list()\n",
    "  , dev_set.text, dev_set.sentiment.to_list()\n",
    "  , test_set.text, test_set.sentiment.to_list(),0.5)"
   ]
  },
  {
   "cell_type": "markdown",
   "metadata": {
    "colab_type": "text",
    "id": "2gDnaas9c7DF"
   },
   "source": [
    "#### Random forest classifier"
   ]
  },
  {
   "cell_type": "markdown",
   "metadata": {
    "colab_type": "text",
    "id": "1OySd3CUh6Pa"
   },
   "source": [
    "Pipeline + Gridsearch for Random Forest"
   ]
  },
  {
   "cell_type": "code",
   "execution_count": 0,
   "metadata": {
    "colab": {
     "base_uri": "https://localhost:8080/",
     "height": 68
    },
    "colab_type": "code",
    "id": "QaSeIH8sc-An",
    "outputId": "d1503eaa-f502-415e-efa3-bdfd962883b6"
   },
   "outputs": [
    {
     "name": "stdout",
     "output_type": "stream",
     "text": [
      "After 622 seconds  Random GridSearch found: \n",
      "Best Score: 0.711\n",
      "Best Params:  {'tfidf_vectorizer__sublinear_tf': False, 'tfidf_vectorizer__ngram_range': (1, 3), 'clf__n_estimators': 1000, 'clf__max_depth': 3}\n"
     ]
    }
   ],
   "source": [
    "rf_pipeline = Pipeline([\n",
    "    ('tfidf_vectorizer', TfidfVectorizer(stop_words=stopwords.words('english'), max_features=5000)),\n",
    "    ('clf', RandomForestClassifier(random_state=94))\n",
    "    ])\n",
    "\n",
    "grid_params = {\n",
    "    'tfidf_vectorizer__ngram_range': [(1,1),(1,2),(1,3)],  \n",
    "    'tfidf_vectorizer__sublinear_tf': [True,False],\n",
    "    'clf__n_estimators': [100, 500, 1000, 2000],\n",
    "    'clf__max_depth': [1, 2, 3, 4]\n",
    "}\n",
    "\n",
    "grid_rf_clf = RandomizedSearchCV(rf_pipeline, grid_params, scoring='f1_macro', n_jobs=-1)\n",
    "\n",
    "start_time = time.time()\n",
    "\n",
    "grid_rf_clf.fit(np.concatenate((train_set.text, dev_set.text), axis=0)\n",
    "                ,train_set.sentiment.tolist() + dev_set.sentiment.tolist()\n",
    "                )\n",
    "\n",
    "elapsed_time = time.time() - start_time\n",
    "print('After {:.0f} seconds'.format(elapsed_time), ' Random GridSearch found: ')\n",
    "print(\"Best Score: {:.3f}\" .format(grid_rf_clf.best_score_))\n",
    "print(\"Best Params: \", grid_rf_clf.best_params_)\n",
    "\n",
    "rf_pipeline = grid_rf_clf.best_estimator_"
   ]
  },
  {
   "cell_type": "code",
   "execution_count": 0,
   "metadata": {
    "colab": {
     "base_uri": "https://localhost:8080/",
     "height": 476
    },
    "colab_type": "code",
    "id": "-P07DZwfUDmO",
    "outputId": "2f5daeb4-8c01-4eed-81b4-2f80825953d3"
   },
   "outputs": [
    {
     "name": "stdout",
     "output_type": "stream",
     "text": [
      "Fitting ended after 16 seconds.\n",
      "Random Forest classifier- Train scores:\n",
      "+-------+-------------+----------+-------+\n",
      "|       |   precision |   recall |    f1 |\n",
      "|-------+-------------+----------+-------|\n",
      "| 0     |       0.625 |    0.882 | 0.731 |\n",
      "| 1     |       0.797 |    0.466 | 0.588 |\n",
      "| macro |       0.711 |    0.674 | 0.66  |\n",
      "+-------+-------------+----------+-------+\n",
      "---------------------------------------------------------\n",
      "Random Forest classifier- Dev scores:\n",
      "+-------+-------------+----------+-------+\n",
      "|       |   precision |   recall |    f1 |\n",
      "|-------+-------------+----------+-------|\n",
      "| 0     |       0.617 |    0.876 | 0.724 |\n",
      "| 1     |       0.789 |    0.459 | 0.58  |\n",
      "| macro |       0.703 |    0.668 | 0.652 |\n",
      "+-------+-------------+----------+-------+\n",
      "---------------------------------------------------------\n",
      "Random Forest classifier- Test scores:\n",
      "+-------+-------------+----------+-------+\n",
      "|       |   precision |   recall |    f1 |\n",
      "|-------+-------------+----------+-------|\n",
      "| 0     |       0.62  |    0.883 | 0.729 |\n",
      "| 1     |       0.79  |    0.448 | 0.572 |\n",
      "| macro |       0.705 |    0.666 | 0.65  |\n",
      "+-------+-------------+----------+-------+\n"
     ]
    }
   ],
   "source": [
    "start_time = time.time()\n",
    "rf_pipeline.fit(train_set.text, train_set.sentiment.to_list())\n",
    "\n",
    "elapsed_time = time.time() - start_time\n",
    "print('Fitting ended after {:.0f} seconds.'.format(elapsed_time))\n",
    "\n",
    "print_classifier_scores(rf_pipeline, 'Random Forest classifier', train_set.text, train_set.sentiment.to_list()\n",
    "  , dev_set.text, dev_set.sentiment.to_list()\n",
    "  , test_set.text, test_set.sentiment.to_list(),0.5)"
   ]
  },
  {
   "cell_type": "markdown",
   "metadata": {
    "colab_type": "text",
    "id": "rHH-h55vqkER"
   },
   "source": [
    "#### Naive Bayes"
   ]
  },
  {
   "cell_type": "code",
   "execution_count": 0,
   "metadata": {
    "colab": {
     "base_uri": "https://localhost:8080/",
     "height": 68
    },
    "colab_type": "code",
    "id": "MgW8Zb6AjmDB",
    "outputId": "7fe1b454-510e-4b51-8cf4-7529eabcdfff"
   },
   "outputs": [
    {
     "name": "stdout",
     "output_type": "stream",
     "text": [
      "After 134 seconds  Random GridSearch found: \n",
      "Best Score: 0.748\n",
      "Best Params:  {'tfidf_vectorizer__sublinear_tf': True, 'tfidf_vectorizer__ngram_range': (1, 3), 'clf__alpha': 1.0}\n"
     ]
    }
   ],
   "source": [
    "nb_pipeline = Pipeline([\n",
    "    ('tfidf_vectorizer', TfidfVectorizer(stop_words=stopwords.words('english'), max_features = 5000)),\n",
    "    ('clf', MultinomialNB())\n",
    "    ])\n",
    "\n",
    "grid_params = {\n",
    "    'tfidf_vectorizer__ngram_range': [(1,1),(1,2),(1,3)],  \n",
    "    'tfidf_vectorizer__sublinear_tf': [True,False],\n",
    "    \"clf__alpha\" : np.linspace(0, 1, 5)\n",
    "}\n",
    "\n",
    "start_time = time.time()\n",
    "\n",
    "grid_nb_clf = RandomizedSearchCV(nb_pipeline, grid_params, scoring='f1_macro', n_jobs=-1)\n",
    "grid_nb_clf.fit(np.concatenate((train_set.text, dev_set.text), axis=0)\n",
    "                ,train_set.sentiment.tolist() + dev_set.sentiment.tolist()\n",
    "                )\n",
    "elapsed_time = time.time() - start_time\n",
    "print('After {:.0f} seconds'.format(elapsed_time), ' Random GridSearch found: ')\n",
    "print(\"Best Score: {:.3f}\" .format(grid_nb_clf.best_score_))\n",
    "print(\"Best Params: \", grid_nb_clf.best_params_)\n",
    "\n",
    "nb_pipeline = grid_nb_clf.best_estimator_"
   ]
  },
  {
   "cell_type": "code",
   "execution_count": 0,
   "metadata": {
    "colab": {
     "base_uri": "https://localhost:8080/",
     "height": 476
    },
    "colab_type": "code",
    "id": "N3qUYonIuXT4",
    "outputId": "60841a3f-4822-4c86-e7f4-4abe978bd855"
   },
   "outputs": [
    {
     "name": "stdout",
     "output_type": "stream",
     "text": [
      "Fitting ended after 5 seconds.\n",
      "Naive Bayes classifier- Train scores:\n",
      "+-------+-------------+----------+-------+\n",
      "|       |   precision |   recall |    f1 |\n",
      "|-------+-------------+----------+-------|\n",
      "| 0     |       0.766 |    0.786 | 0.776 |\n",
      "| 1     |       0.778 |    0.758 | 0.768 |\n",
      "| macro |       0.772 |    0.772 | 0.772 |\n",
      "+-------+-------------+----------+-------+\n",
      "---------------------------------------------------------\n",
      "Naive Bayes classifier- Dev scores:\n",
      "+-------+-------------+----------+-------+\n",
      "|       |   precision |   recall |    f1 |\n",
      "|-------+-------------+----------+-------|\n",
      "| 0     |       0.743 |    0.762 | 0.753 |\n",
      "| 1     |       0.758 |    0.738 | 0.748 |\n",
      "| macro |       0.75  |    0.75  | 0.75  |\n",
      "+-------+-------------+----------+-------+\n",
      "---------------------------------------------------------\n",
      "Naive Bayes classifier- Test scores:\n",
      "+-------+-------------+----------+-------+\n",
      "|       |   precision |   recall |    f1 |\n",
      "|-------+-------------+----------+-------|\n",
      "| 0     |       0.74  |    0.767 | 0.753 |\n",
      "| 1     |       0.753 |    0.725 | 0.739 |\n",
      "| macro |       0.746 |    0.746 | 0.746 |\n",
      "+-------+-------------+----------+-------+\n"
     ]
    }
   ],
   "source": [
    "start_time = time.time()\n",
    "nb_pipeline.fit(train_set.text, train_set.sentiment.to_list())\n",
    "\n",
    "elapsed_time = time.time() - start_time\n",
    "print('Fitting ended after {:.0f} seconds.'.format(elapsed_time))\n",
    "\n",
    "print_classifier_scores(nb_pipeline, 'Naive Bayes classifier', train_set.text, train_set.sentiment.to_list()\n",
    "  , dev_set.text, dev_set.sentiment.to_list()\n",
    "  , test_set.text, test_set.sentiment.to_list(),0.5)"
   ]
  },
  {
   "cell_type": "markdown",
   "metadata": {
    "colab_type": "text",
    "id": "vTXN29bhnAfM"
   },
   "source": [
    "#### Precision - Recall Curve\n"
   ]
  },
  {
   "cell_type": "code",
   "execution_count": 0,
   "metadata": {
    "colab": {
     "base_uri": "https://localhost:8080/",
     "height": 1000
    },
    "colab_type": "code",
    "id": "_cTzdA55Fkf5",
    "outputId": "5dd15500-2baf-46ca-88c1-eb25ea332f33"
   },
   "outputs": [
    {
     "data": {
      "image/png": "[encoded data removed]",
      "text/plain": [
       "<Figure size 864x576 with 1 Axes>"
      ]
     },
     "metadata": {
      "needs_background": "light",
      "tags": []
     },
     "output_type": "display_data"
    },
    {
     "data": {
      "image/png": "[encoded data removed]",
      "text/plain": [
       "<Figure size 864x576 with 1 Axes>"
      ]
     },
     "metadata": {
      "needs_background": "light",
      "tags": []
     },
     "output_type": "display_data"
    },
    {
     "data": {
      "image/png": "[encoded data removed]",
      "text/plain": [
       "<Figure size 864x576 with 1 Axes>"
      ]
     },
     "metadata": {
      "needs_background": "light",
      "tags": []
     },
     "output_type": "display_data"
    }
   ],
   "source": [
    "def plot_precision_recall_curve(estimator, estimator_name, X, y_true):\n",
    "  # predict using given estimator\n",
    "  y_pred = estimator.predict_proba(X)\n",
    "  precisions = []\n",
    "  recalls = []\n",
    "  \n",
    "  # thresholds list\n",
    "  thres = np.linspace(0,1,1000)\n",
    "\n",
    "  # keep scores for each threshold\n",
    "  for t in thres:\n",
    "    prec_dict, rec_dict, _ = get_scores(y_true, y_pred, t)\n",
    "\n",
    "    precisions.append(prec_dict['macro'])\n",
    "    recalls.append(rec_dict['macro'])\n",
    "\n",
    "  # calculate area-under-curve\n",
    "  area = auc(recalls, precisions)\n",
    "\n",
    "  # plot\n",
    "  fig, ax = plt.subplots(figsize=(12,8))\n",
    "  ax.set_title('Macro Precision-Recall Curve for %s: AUC=%0.3f' % (estimator_name,area))\n",
    "  ax.plot(recalls, precisions, marker='.', label=estimator_name)\n",
    "  ax.plot(thres,np.zeros(len(thres)), linestyle='--', label='No Skill')\n",
    "  ax.set_xlim(0,1)\n",
    "  ax.legend()\n",
    "  fig.savefig(str(estimator_name)+\"_PR_CURVE.pdf\")\n",
    "\n",
    "\n",
    "pipeline_list = [\n",
    "                [sgd_pipeline,'SGD']\n",
    "               ,[rf_pipeline,'Random Forest']\n",
    "               ,[nb_pipeline,'Naive Bayes']\n",
    "               ]\n",
    "\n",
    "for pipe in pipeline_list:\n",
    "  pipe[0].fit(train_set.text, train_set.sentiment.to_list())\n",
    "  plot_precision_recall_curve(pipe[0], pipe[1], test_set.text, test_set.sentiment.to_list())"
   ]
  },
  {
   "cell_type": "markdown",
   "metadata": {
    "colab_type": "text",
    "id": "4ok-0yQWD-7n"
   },
   "source": [
    "#### Learning Curves"
   ]
  },
  {
   "cell_type": "code",
   "execution_count": 0,
   "metadata": {
    "colab": {
     "base_uri": "https://localhost:8080/",
     "height": 1000
    },
    "colab_type": "code",
    "id": "37qeZKNGw_TH",
    "outputId": "e383b4a1-c43f-4851-b699-fba1d88055a8"
   },
   "outputs": [
    {
     "data": {
      "image/png": "[encoded data removed]",
      "text/plain": [
       "<Figure size 864x576 with 1 Axes>"
      ]
     },
     "metadata": {
      "needs_background": "light",
      "tags": []
     },
     "output_type": "display_data"
    },
    {
     "data": {
      "image/png": "[encoded data removed]",
      "text/plain": [
       "<Figure size 864x576 with 1 Axes>"
      ]
     },
     "metadata": {
      "needs_background": "light",
      "tags": []
     },
     "output_type": "display_data"
    },
    {
     "data": {
      "image/png": "[encoded data removed]",
      "text/plain": [
       "<Figure size 864x576 with 1 Axes>"
      ]
     },
     "metadata": {
      "needs_background": "light",
      "tags": []
     },
     "output_type": "display_data"
    }
   ],
   "source": [
    "def plot_learning_curve(estimator, title, X, y, X_dev, y_dev, ylim=None, train_sizes=np.linspace(.1, 1.0, 5)):\n",
    "   \n",
    "  fig, ax = plt.subplots(figsize=(12,8))\n",
    "  ax.set_title(title)\n",
    "  if ylim is not None:\n",
    "    ax.set_ylim(*ylim)\n",
    "  ax.set_xlabel(\"Training examples\")\n",
    "  ax.set_ylabel(\"Macro F1-score\")\n",
    "\n",
    "  f1_train = []\n",
    "  f1_dev = []\n",
    "\n",
    "  # for each training subset, fit and predict\n",
    "  for t_sz in train_sizes:\n",
    "    X_subset = X[:int(t_sz * total_length)]\n",
    "    y_subset = y[:int(t_sz * total_length)]\n",
    "\n",
    "\n",
    "    estimator.fit(X_subset, y_subset)\n",
    "      \n",
    "    y_pred = estimator.predict_proba(X_subset)\n",
    "    y_pred_dev = estimator.predict_proba(X_dev)\n",
    "\n",
    "    _, _, f1_dict = get_scores(y_subset, y_pred, 0.5)\n",
    "    _, _, f1_dict_dev = get_scores(y_dev, y_pred_dev, 0.5)\n",
    "    f1_train.append(f1_dict['macro'])\n",
    "    f1_dev.append(f1_dict_dev['macro'])\n",
    "\n",
    "  ax.grid()\n",
    "  ax.plot(train_sizes, f1_train, 'o-', color=\"b\",\n",
    "            label=\"Training score\")\n",
    "  ax.plot(train_sizes, f1_dev, 'o-', color=\"orange\",\n",
    "            label=\"Cross-validation score\")\n",
    "\n",
    "  ax.legend(loc=\"lower right\")\n",
    "  fig.savefig(title+'.pdf')\n",
    "\n",
    "for pipe in pipeline_list:\n",
    "  title = \"Learning Curves (\"+str(pipe[1])+\")\"\n",
    "  plot_learning_curve(pipe[0], title\n",
    "                    , train_set.text, train_set.sentiment.to_list()\n",
    "                    , dev_set.text, dev_set.sentiment.to_list()\n",
    "                    , train_sizes=np.linspace(.1, 1.0, 15)\n",
    "                    )"
   ]
  },
  {
   "cell_type": "markdown",
   "metadata": {
    "colab_type": "text",
    "id": "TvaW8CjXHagM"
   },
   "source": [
    "#### Bootstrap Statistical Significance Tests"
   ]
  },
  {
   "cell_type": "code",
   "execution_count": 0,
   "metadata": {
    "colab": {
     "base_uri": "https://localhost:8080/",
     "height": 153
    },
    "colab_type": "code",
    "id": "tNlIgHPqHiNW",
    "outputId": "c2c6b014-26ef-4bc9-bd08-3c40f9fa25ba"
   },
   "outputs": [
    {
     "name": "stdout",
     "output_type": "stream",
     "text": [
      "Base macro-f1: 0.3356\n",
      "SGD macro-f1: 0.7559\n",
      "RF macro-f1: 0.6502\n",
      "NB macro-f1: 0.7460\n",
      "SGD vs BASE, p_value:  0.0000\n",
      "SGD vs Naive, p_value: 0.1820\n",
      "SGD vs Random Forest, p_value: 0.0000\n",
      "Elapsed time 300 seconds\n"
     ]
    }
   ],
   "source": [
    "# Initialize classifiers ##########################################\n",
    "# Base\n",
    "base_pipeline.fit(train_set.text, train_set.sentiment.to_list())\n",
    "y_pred = base_pipeline.predict_proba(test_set.text)\n",
    "_, _, bs_f1 = get_scores(test_set.sentiment.to_list(), y_pred, 0.5)\n",
    "print('Base macro-f1: {:.4f}'.format( bs_f1['macro']))\n",
    "\n",
    "# SGD\n",
    "sgd_pipeline.fit(train_set.text, train_set.sentiment.to_list())\n",
    "y_pred = sgd_pipeline.predict_proba(test_set.text)\n",
    "_, _, sgd_f1 = get_scores(test_set.sentiment.to_list(), y_pred, 0.5)\n",
    "print('SGD macro-f1: {:.4f}'.format(sgd_f1['macro']))\n",
    "\n",
    "# RF\n",
    "rf_pipeline.fit(train_set.text, train_set.sentiment.to_list())\n",
    "y_pred = rf_pipeline.predict_proba(test_set.text)\n",
    "_, _, rf_f1 = get_scores(test_set.sentiment.to_list(), y_pred, 0.5)\n",
    "print('RF macro-f1: {:.4f}'.format( rf_f1['macro']))\n",
    "\n",
    "# NB\n",
    "nb_pipeline.fit(train_set.text, train_set.sentiment.to_list())\n",
    "y_pred = nb_pipeline.predict_proba(test_set.text)\n",
    "_, _, nb_f1 = get_scores(test_set.sentiment.to_list(), y_pred, 0.5)\n",
    "print('NB macro-f1: {:.4f}'.format( nb_f1['macro']))\n",
    "\n",
    "\n",
    "# Bootstrapping significance test ###################################\n",
    "\n",
    "def bootstrap_sign_test(best_estimator, comp_estimator, dataset, b, N):\n",
    "  \"\"\"\n",
    "  Input:\n",
    "    best_estimator: best scoring pipeline in terms of macro-f1\n",
    "    comp_estimator: pipeline to be compared with the best\n",
    "    b: number of sampling datasets\n",
    "    N: size of sampling datasets\n",
    "\n",
    "  Output:\n",
    "    p_value: p-value for the bootstrapping significance test\n",
    "  \"\"\"\n",
    "  y1 = best_estimator.predict_proba(dataset.text)\n",
    "  _, _, e1_f1 = get_scores( dataset.sentiment.to_list(), y1, 0.5)\n",
    "\n",
    "  y2 = comp_estimator.predict_proba(dataset.text)\n",
    "  _, _, e2_f1 = get_scores( dataset.sentiment.to_list(), y2, 0.5)\n",
    "  \n",
    "  # calculate true difference\n",
    "  delta = e1_f1['macro'] - e2_f1['macro']\n",
    "\n",
    "  diffs = []\n",
    "\n",
    "  # calculate a diff for each simulated sample dataset\n",
    "  for i in range(b):\n",
    "    bootstrap = dataset.sample(replace = True, n = N)\n",
    "    y_best = best_estimator.predict_proba( bootstrap.text )\n",
    "    y_comp = comp_estimator.predict_proba( bootstrap.text )\n",
    "\n",
    "    _, _, best_f1 = get_scores(bootstrap.sentiment.to_list(), y_best, 0.5)\n",
    "    _, _, comp_f1 = get_scores(bootstrap.sentiment.to_list(), y_comp, 0.5)\n",
    "    diffs.append(best_f1['macro'] - comp_f1['macro'])\n",
    "  \n",
    "  # calculate p-value\n",
    "  s = 0\n",
    "  for i in range(b):\n",
    "    if diffs[i] > 2 * delta:\n",
    "      s += 1\n",
    "  p_value = s/b\n",
    "  \n",
    "  return p_value\n",
    "\n",
    "# print p-values\n",
    "start_time = time.time()\n",
    "\n",
    "print('SGD vs BASE, p_value:  {:.4f}' .format( bootstrap_sign_test(sgd_pipeline, base_pipeline, test_set, b = 1000, N = 1000) ))\n",
    "print('SGD vs Naive, p_value: {:.4f}' .format( bootstrap_sign_test(sgd_pipeline, nb_pipeline, test_set, b = 1000, N = 1000) ))\n",
    "print('SGD vs Random Forest, p_value: {:.4f}' .format( bootstrap_sign_test(sgd_pipeline, rf_pipeline, test_set, b = 1000, N = 1000) ))\n",
    "\n",
    "elapsed_time = time.time() - start_time\n",
    "\n",
    "print('Elapsed time {:.0f} seconds'.format(elapsed_time))"
   ]
  },
  {
   "cell_type": "markdown",
   "metadata": {
    "colab_type": "text",
    "id": "hZSJEUES8PKP"
   },
   "source": [
    "#### Appendix Α -  Dimensionality Reduction\n"
   ]
  },
  {
   "cell_type": "code",
   "execution_count": 0,
   "metadata": {
    "colab": {
     "base_uri": "https://localhost:8080/",
     "height": 476
    },
    "colab_type": "code",
    "id": "qZdC19RH78lq",
    "outputId": "1387a7f8-364f-4b87-ebaa-39070b1cd51b"
   },
   "outputs": [
    {
     "name": "stdout",
     "output_type": "stream",
     "text": [
      "Fitting ended after 30 seconds.\n",
      "SGD classifier- Train scores:\n",
      "+-------+-------------+----------+-------+\n",
      "|       |   precision |   recall |    f1 |\n",
      "|-------+-------------+----------+-------|\n",
      "| 0     |       0.694 |    0.813 | 0.749 |\n",
      "| 1     |       0.772 |    0.639 | 0.699 |\n",
      "| macro |       0.733 |    0.726 | 0.724 |\n",
      "+-------+-------------+----------+-------+\n",
      "---------------------------------------------------------\n",
      "SGD classifier- Dev scores:\n",
      "+-------+-------------+----------+-------+\n",
      "|       |   precision |   recall |    f1 |\n",
      "|-------+-------------+----------+-------|\n",
      "| 0     |       0.682 |    0.81  | 0.74  |\n",
      "| 1     |       0.768 |    0.625 | 0.689 |\n",
      "| macro |       0.725 |    0.717 | 0.715 |\n",
      "+-------+-------------+----------+-------+\n",
      "---------------------------------------------------------\n",
      "SGD classifier- Test scores:\n",
      "+-------+-------------+----------+-------+\n",
      "|       |   precision |   recall |    f1 |\n",
      "|-------+-------------+----------+-------|\n",
      "| 0     |       0.688 |    0.81  | 0.744 |\n",
      "| 1     |       0.763 |    0.625 | 0.687 |\n",
      "| macro |       0.726 |    0.718 | 0.716 |\n",
      "+-------+-------------+----------+-------+\n"
     ]
    }
   ],
   "source": [
    "# append SVD dimensionality reduction as a second step\n",
    "sgd_pipeline.steps.insert(1,('tfidf_svd', TruncatedSVD(n_components=500, random_state=94))) #insert as second step\n",
    "\n",
    "start_time = time.time()\n",
    "sgd_pipeline.fit(train_set.text, train_set.sentiment.to_list())\n",
    "elapsed_time = time.time() - start_time\n",
    "print('Fitting ended after {:.0f} seconds.'.format(elapsed_time))\n",
    "\n",
    "print_classifier_scores(sgd_pipeline, 'SGD classifier', train_set.text, train_set.sentiment.to_list()\n",
    "  , dev_set.text, dev_set.sentiment.to_list()\n",
    "  , test_set.text, test_set.sentiment.to_list(),0.5)"
   ]
  },
  {
   "cell_type": "code",
   "execution_count": 0,
   "metadata": {
    "colab": {
     "base_uri": "https://localhost:8080/",
     "height": 995
    },
    "colab_type": "code",
    "id": "J5yKoUz4R4Ez",
    "outputId": "2588a59b-2ee7-4357-88fa-2fbdfbe2d9cc"
   },
   "outputs": [
    {
     "data": {
      "image/png": "[encoded data removed]",
      "text/plain": [
       "<Figure size 864x576 with 1 Axes>"
      ]
     },
     "metadata": {
      "needs_background": "light",
      "tags": []
     },
     "output_type": "display_data"
    },
    {
     "data": {
      "image/png": "[encoded data removed]",
      "text/plain": [
       "<Figure size 864x576 with 1 Axes>"
      ]
     },
     "metadata": {
      "needs_background": "light",
      "tags": []
     },
     "output_type": "display_data"
    }
   ],
   "source": [
    "start_time = time.time()\n",
    "# Learning curve\n",
    "plot_learning_curve(sgd_pipeline, 'SGD - with SVD_LC'\n",
    "                    , train_set.text, train_set.sentiment.to_list()\n",
    "                    , dev_set.text, dev_set.sentiment.to_list()\n",
    "                    , train_sizes=np.linspace(.1, 1.0, 15)\n",
    "                    )\n",
    "# Precision Recall curve\n",
    "plot_precision_recall_curve(sgd_pipeline, 'SGD - with SVD_RC', test_set.text, test_set.sentiment.to_list())\n",
    "\n",
    "elapsed_time = time.time() - start_time\n",
    "\n",
    "print('Elapsed time {:.0f} seconds'.format(elapsed_time))"
   ]
  },
  {
   "cell_type": "markdown",
   "metadata": {
    "colab_type": "text",
    "id": "2_F7GSfV_KN3"
   },
   "source": [
    "#### Appendix Β- Word Embeddings"
   ]
  },
  {
   "cell_type": "code",
   "execution_count": 1,
   "metadata": {
    "colab": {
     "base_uri": "https://localhost:8080/",
     "height": 204
    },
    "colab_type": "code",
    "id": "-Aqb94CTW8MB",
    "outputId": "6a9f6099-7859-476b-cf1f-e154f0b1e7ee"
   },
   "outputs": [
    {
     "name": "stdout",
     "output_type": "stream",
     "text": [
      "--2020-05-27 13:39:57--  https://s3.amazonaws.com/dl4j-distribution/GoogleNews-vectors-negative300.bin.gz\n",
      "Resolving s3.amazonaws.com (s3.amazonaws.com)... 52.216.144.101\n",
      "Connecting to s3.amazonaws.com (s3.amazonaws.com)|52.216.144.101|:443... connected.\n",
      "HTTP request sent, awaiting response... 200 OK\n",
      "Length: 1647046227 (1.5G) [application/x-gzip]\n",
      "Saving to: ‘GoogleNews-vectors-negative300.bin.gz’\n",
      "\n",
      "GoogleNews-vectors- 100%[===================>]   1.53G  16.5MB/s    in 98s     \n",
      "\n",
      "2020-05-27 13:41:36 (16.0 MB/s) - ‘GoogleNews-vectors-negative300.bin.gz’ saved [1647046227/1647046227]\n",
      "\n"
     ]
    }
   ],
   "source": [
    "!wget -c \"https://s3.amazonaws.com/dl4j-distribution/GoogleNews-vectors-negative300.bin.gz\""
   ]
  },
  {
   "cell_type": "code",
   "execution_count": 0,
   "metadata": {
    "colab": {},
    "colab_type": "code",
    "id": "Ekk8EP4L-ful"
   },
   "outputs": [],
   "source": [
    "from gensim.models.keyedvectors import KeyedVectors\n",
    "import os\n",
    "import gzip\n",
    "import shutil, sys  \n",
    "\n",
    "#Centroids of Word Embeddings\n",
    "\n",
    "def extract_embeddings():\n",
    "    if os.path.isfile('GoogleNews-vectors-negative300.bin'):\n",
    "        print('File \"GoogleNews-vectors-negative300.bin\" already exists!')\n",
    "        return\n",
    "    print('Extracting...')\n",
    "    with gzip.open('GoogleNews-vectors-negative300.bin.gz', 'r') as f_in, open('GoogleNews-vectors-negative300.bin', 'wb') as f_out:\n",
    "        shutil.copyfileobj(f_in, f_out)\n",
    "    print('File extracted.')\n",
    "\n",
    "def load_embeddings(fname, vocab):\n",
    "    model = KeyedVectors.load_word2vec_format(fname, binary=True)\n",
    "    dim = model.vectors.shape[1]\n",
    "    embeddings = np.zeros((len(vocab), dim))\n",
    "\n",
    "    for word in vocab:\n",
    "        if word in model:\n",
    "            embeddings[vocab[word]] = model[word]\n",
    "        else:\n",
    "            embeddings[vocab[word]] = np.random.uniform(-0.25, 0.25, dim)\n",
    "    return embeddings\n",
    "\n",
    "def EmbeddingMeanVectorizer(docs, model):\n",
    "    dim = model.shape[1]\n",
    "    tweetvec = np.zeros((len(docs), dim))\n",
    "    for i, doc in enumerate(docs):\n",
    "        sent_vec = np.zeros(dim)\n",
    "        numw = 0\n",
    "        for w in doc.split():\n",
    "            try:\n",
    "                sent_vec = np.add(sent_vec, model[vectorizer.vocabulary_[w]])\n",
    "                numw += 1\n",
    "            except:\n",
    "                pass\n",
    "        tweetvec[i] = sent_vec/numw\n",
    "    return tweetvec"
   ]
  },
  {
   "cell_type": "code",
   "execution_count": 5,
   "metadata": {
    "colab": {
     "base_uri": "https://localhost:8080/",
     "height": 51
    },
    "colab_type": "code",
    "id": "NLjdn1YKXLAR",
    "outputId": "086ea03e-4f5f-4a9b-e512-3b5995c36849"
   },
   "outputs": [
    {
     "name": "stdout",
     "output_type": "stream",
     "text": [
      "Extracting...\n",
      "File extracted.\n"
     ]
    }
   ],
   "source": [
    "extract_embeddings()"
   ]
  },
  {
   "cell_type": "code",
   "execution_count": 20,
   "metadata": {
    "colab": {
     "base_uri": "https://localhost:8080/",
     "height": 71
    },
    "colab_type": "code",
    "id": "_7iDWhUrPzyw",
    "outputId": "ba1e55e9-3155-4729-bea0-f10158cecdb7"
   },
   "outputs": [
    {
     "name": "stderr",
     "output_type": "stream",
     "text": [
      "/usr/local/lib/python3.6/dist-packages/smart_open/smart_open_lib.py:253: UserWarning: This function is deprecated, use smart_open.open instead. See the migration notes for details: https://github.com/RaRe-Technologies/smart_open/blob/master/README.rst#migrating-to-the-new-open-function\n",
      "  'See the migration notes for details: %s' % _MIGRATION_NOTES_URL\n"
     ]
    }
   ],
   "source": [
    "np.seterr(divide='ignore', invalid='ignore')\n",
    "vectorizer = TfidfVectorizer(ngram_range=(1, 1))\n",
    "vectorizer.fit(train_set.text)\n",
    "vectorizer.fit(dev_set.text)\n",
    "vectorizer.fit(test_set.text)\n",
    "embeddings = load_embeddings('GoogleNews-vectors-negative300.bin', vectorizer.vocabulary_)\n",
    "\n",
    "X_train = EmbeddingMeanVectorizer(train_set.text, embeddings)\n",
    "X_dev = EmbeddingMeanVectorizer(dev_set.text, embeddings)\n",
    "X_test = EmbeddingMeanVectorizer(test_set.text, embeddings)\n",
    "\n",
    "X_train = np.nan_to_num(X_train)\n",
    "X_dev = np.nan_to_num(X_dev)\n",
    "X_test = np.nan_to_num(X_test)\n",
    "\n",
    "y_train_true = train_set.sentiment.tolist()\n",
    "y_dev_true = dev_set.sentiment.tolist()\n",
    "y_test_true = test_set.sentiment.tolist()"
   ]
  },
  {
   "cell_type": "code",
   "execution_count": 23,
   "metadata": {
    "colab": {
     "base_uri": "https://localhost:8080/",
     "height": 459
    },
    "colab_type": "code",
    "id": "o83BUNqFD6ln",
    "outputId": "dbe7b992-8444-43c2-ca3d-02d63afbc88f"
   },
   "outputs": [
    {
     "name": "stdout",
     "output_type": "stream",
     "text": [
      "SGD classifier with word embeddings- Train scores:\n",
      "+-------+-------------+----------+-------+\n",
      "|       |   precision |   recall |    f1 |\n",
      "|-------+-------------+----------+-------|\n",
      "| 0     |       0.728 |    0.774 | 0.75  |\n",
      "| 1     |       0.757 |    0.71  | 0.733 |\n",
      "| macro |       0.743 |    0.742 | 0.741 |\n",
      "+-------+-------------+----------+-------+\n",
      "---------------------------------------------------------\n",
      "SGD classifier with word embeddings- Dev scores:\n",
      "+-------+-------------+----------+-------+\n",
      "|       |   precision |   recall |    f1 |\n",
      "|-------+-------------+----------+-------|\n",
      "| 0     |       0.726 |    0.776 | 0.75  |\n",
      "| 1     |       0.76  |    0.707 | 0.733 |\n",
      "| macro |       0.743 |    0.742 | 0.741 |\n",
      "+-------+-------------+----------+-------+\n",
      "---------------------------------------------------------\n",
      "SGD classifier with word embeddings- Test scores:\n",
      "+-------+-------------+----------+-------+\n",
      "|       |   precision |   recall |    f1 |\n",
      "|-------+-------------+----------+-------|\n",
      "| 0     |       0.724 |    0.762 | 0.743 |\n",
      "| 1     |       0.755 |    0.716 | 0.735 |\n",
      "| macro |       0.739 |    0.739 | 0.739 |\n",
      "+-------+-------------+----------+-------+\n"
     ]
    }
   ],
   "source": [
    "grid_params = {\n",
    "    \"alpha\" : [0.0001, 0.001, 0.01, 0.1],\n",
    "    \"penalty\" : [\"l2\", \"l1\", \"none\"],\n",
    "}\n",
    "# start timing\n",
    "start_time = time.time()\n",
    "sgd_clf = SGDClassifier(loss=\"log\", penalty='l1', max_iter=5000, alpha=0.0001)\n",
    "grid_sgd_clf = RandomizedSearchCV(sgd_clf, grid_params, scoring='f1_macro',n_jobs=-1, random_state=94)\n",
    "\n",
    "# perform gridsearch on both training and dev set with 5-fold cross validation and save the best model\n",
    "grid_sgd_clf.fit(X_train, y_train_true)\n",
    "\n",
    "elapsed_time = time.time() - start_time\n",
    "sgd_clf = grid_sgd_clf.best_estimator_\n",
    "\n",
    "sgd_clf.fit(X_train, y_train_true)\n",
    "\n",
    "print_classifier_scores(sgd_clf, 'SGD classifier with word embeddings', X_train, y_train_true\n",
    "  , X_dev, y_dev_true\n",
    "  , X_test, y_test_true,0.5)"
   ]
  }
 ],
 "metadata": {
  "colab": {
   "collapsed_sections": [],
   "include_colab_link": true,
   "name": "Copy of Copy of Galanos_Kyrkos_Saltos_TA_2nd_Assignment.ipynb",
   "provenance": []
  },
  "kernelspec": {
   "display_name": "Python 3",
   "language": "python",
   "name": "python3"
  },
  "language_info": {
   "codemirror_mode": {
    "name": "ipython",
    "version": 3
   },
   "file_extension": ".py",
   "mimetype": "text/x-python",
   "name": "python",
   "nbconvert_exporter": "python",
   "pygments_lexer": "ipython3",
   "version": "3.7.3"
  }
 },
 "nbformat": 4,
 "nbformat_minor": 1
}
