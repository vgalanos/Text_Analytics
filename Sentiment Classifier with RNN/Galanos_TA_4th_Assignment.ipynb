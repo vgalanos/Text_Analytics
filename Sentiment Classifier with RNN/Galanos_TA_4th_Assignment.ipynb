{
 "cells": [
  {
   "cell_type": "markdown",
   "metadata": {
    "colab_type": "text",
    "id": "liMSglMZkfVw"
   },
   "source": [
    "# 4th Assignment: Sentiment Analysis with RNNs\n",
    "\n",
    "---\n",
    ">Vasileios Galanos <br>\n",
    ">Registration Number p3351902 <br>\n",
    ">vgalanos@aueb.gr"
   ]
  },
  {
   "cell_type": "markdown",
   "metadata": {
    "colab_type": "text",
    "id": "4M05ONsfmKnZ"
   },
   "source": [
    "This notebook accompanied with the report given provides our solution to the 2nd assignment of the Text Analytics course at Data Science MSc at AUEB. <br>"
   ]
  },
  {
   "cell_type": "markdown",
   "metadata": {
    "colab_type": "text",
    "id": "UG28TqlMaMBz"
   },
   "source": [
    "#### Install required packages\n"
   ]
  },
  {
   "cell_type": "code",
   "execution_count": 2,
   "metadata": {
    "colab": {},
    "colab_type": "code",
    "id": "ux-swtfpaOb7"
   },
   "outputs": [],
   "source": [
    "%%capture\n",
    "!pip install numpy\n",
    "!pip install scikit-learn\n",
    "!pip install pandas\n",
    "!pip install matplotlib\n",
    "!pip install --upgrade tensorflow\n",
    "!pip install emoji --upgrade"
   ]
  },
  {
   "cell_type": "markdown",
   "metadata": {
    "colab_type": "text",
    "id": "THw-KcjLlAS1"
   },
   "source": [
    "#### Mount drive to colab"
   ]
  },
  {
   "cell_type": "code",
   "execution_count": 3,
   "metadata": {
    "colab": {
     "base_uri": "https://localhost:8080/",
     "height": 126
    },
    "colab_type": "code",
    "id": "oZOvYUN2k_Zp",
    "outputId": "a09f1579-4f29-44cb-ef8c-acc61a384b83"
   },
   "outputs": [
    {
     "name": "stdout",
     "output_type": "stream",
     "text": [
      "Go to this URL in a browser: https://accounts.google.com/o/oauth2/auth?client_id=947318989803-6bn6qk8qdgf4n4g3pfee6491hc0brc4i.apps.googleusercontent.com&redirect_uri=urn%3aietf%3awg%3aoauth%3a2.0%3aoob&response_type=code&scope=email%20https%3a%2f%2fwww.googleapis.com%2fauth%2fdocs.test%20https%3a%2f%2fwww.googleapis.com%2fauth%2fdrive%20https%3a%2f%2fwww.googleapis.com%2fauth%2fdrive.photos.readonly%20https%3a%2f%2fwww.googleapis.com%2fauth%2fpeopleapi.readonly\n",
      "\n",
      "Enter your authorization code:\n",
      "··········\n",
      "Mounted at /content/gdrive\n"
     ]
    }
   ],
   "source": [
    "from google.colab import drive\n",
    "drive.mount('/content/gdrive')"
   ]
  },
  {
   "cell_type": "markdown",
   "metadata": {
    "colab_type": "text",
    "id": "TmxhOk-MRdmh"
   },
   "source": [
    "#### Check the GPU allocated"
   ]
  },
  {
   "cell_type": "code",
   "execution_count": 1,
   "metadata": {
    "colab": {
     "base_uri": "https://localhost:8080/",
     "height": 372
    },
    "colab_type": "code",
    "id": "mVhKho8DP3By",
    "outputId": "26dde6c9-fea4-4495-f500-6cd2fc9d4fbf"
   },
   "outputs": [
    {
     "name": "stdout",
     "output_type": "stream",
     "text": [
      "Sun Jun 21 08:23:19 2020       \n",
      "+-----------------------------------------------------------------------------+\n",
      "| NVIDIA-SMI 450.36.06    Driver Version: 418.67       CUDA Version: 10.1     |\n",
      "|-------------------------------+----------------------+----------------------+\n",
      "| GPU  Name        Persistence-M| Bus-Id        Disp.A | Volatile Uncorr. ECC |\n",
      "| Fan  Temp  Perf  Pwr:Usage/Cap|         Memory-Usage | GPU-Util  Compute M. |\n",
      "|                               |                      |               MIG M. |\n",
      "|===============================+======================+======================|\n",
      "|   0  Tesla P100-PCIE...  Off  | 00000000:00:04.0 Off |                    0 |\n",
      "| N/A   37C    P0    26W / 250W |      0MiB / 16280MiB |      0%      Default |\n",
      "|                               |                      |                 ERR! |\n",
      "+-------------------------------+----------------------+----------------------+\n",
      "                                                                               \n",
      "+-----------------------------------------------------------------------------+\n",
      "| Processes:                                                                  |\n",
      "|  GPU   GI   CI        PID   Type   Process name                  GPU Memory |\n",
      "|        ID   ID                                                   Usage      |\n",
      "|=============================================================================|\n",
      "|  No running processes found                                                 |\n",
      "+-----------------------------------------------------------------------------+\n"
     ]
    }
   ],
   "source": [
    "!nvidia-smi"
   ]
  },
  {
   "cell_type": "markdown",
   "metadata": {
    "colab_type": "text",
    "id": "utS1TYaaa29j"
   },
   "source": [
    "#### Import all libraries for later use"
   ]
  },
  {
   "cell_type": "code",
   "execution_count": 4,
   "metadata": {
    "colab": {
     "base_uri": "https://localhost:8080/",
     "height": 35
    },
    "colab_type": "code",
    "id": "whMA-02VaRWF",
    "outputId": "9dedfb77-6b38-4521-9129-a13cc7f8e9da"
   },
   "outputs": [
    {
     "name": "stderr",
     "output_type": "stream",
     "text": [
      "Using TensorFlow backend.\n"
     ]
    }
   ],
   "source": [
    "import pandas as pd\n",
    "import numpy as np\n",
    "import pickle\n",
    "import re\n",
    "import matplotlib.pyplot as plt\n",
    "import nltk\n",
    "import re\n",
    "import itertools\n",
    "import emoji\n",
    "import time\n",
    "import os\n",
    "\n",
    "import tensorflow as tf\n",
    "from sklearn.metrics import f1_score, recall_score, precision_score\n",
    "\n",
    "from nltk.tokenize import WordPunctTokenizer\n",
    "from bs4 import BeautifulSoup \n",
    "from nltk.stem import WordNetLemmatizer\n",
    "from gensim.models.wrappers import FastText\n",
    "from sklearn.model_selection import train_test_split  \n",
    "from sklearn.linear_model import SGDClassifier\n",
    "from sklearn.dummy import DummyClassifier\n",
    "from tabulate import tabulate\n",
    "from sklearn.metrics import auc\n",
    "from sklearn.pipeline import Pipeline\n",
    "from sklearn.base import BaseEstimator, TransformerMixin\n",
    "\n",
    "import warnings\n",
    "import sklearn.exceptions\n",
    "warnings.filterwarnings(\"ignore\", category=sklearn.exceptions.UndefinedMetricWarning)\n",
    "warnings.simplefilter(action='ignore', category=FutureWarning)\n",
    "from keras.callbacks import ModelCheckpoint\n",
    "from keras.callbacks import EarlyStopping\n",
    "from keras.models import Sequential\n",
    "from keras.layers.core import Dense, Dropout\n",
    "from keras.optimizers import Adam\n",
    "from keras import backend as K"
   ]
  },
  {
   "cell_type": "code",
   "execution_count": 5,
   "metadata": {
    "colab": {
     "base_uri": "https://localhost:8080/",
     "height": 35
    },
    "colab_type": "code",
    "id": "kigSUaGmFwxj",
    "outputId": "d54aa166-d5d0-4b49-95ae-327fc4d2ec8a"
   },
   "outputs": [
    {
     "data": {
      "text/plain": [
       "True"
      ]
     },
     "execution_count": 5,
     "metadata": {
      "tags": []
     },
     "output_type": "execute_result"
    }
   ],
   "source": [
    "nltk.download('wordnet',quiet=True)\n",
    "#nltk.download('stopwords',quiet=True)\n",
    "nltk.download('punkt',quiet=True)"
   ]
  },
  {
   "cell_type": "markdown",
   "metadata": {
    "colab_type": "text",
    "id": "FjaVFJ6suKY9"
   },
   "source": [
    "#### Download & unzip fasttext word embeddings"
   ]
  },
  {
   "cell_type": "code",
   "execution_count": 6,
   "metadata": {
    "colab": {
     "base_uri": "https://localhost:8080/",
     "height": 212
    },
    "colab_type": "code",
    "id": "3yniNlDyZng2",
    "outputId": "1f6ffcef-5051-4466-b759-1148e37dfe95"
   },
   "outputs": [
    {
     "name": "stdout",
     "output_type": "stream",
     "text": [
      "--2020-06-21 08:24:38--  https://dl.fbaipublicfiles.com/fasttext/vectors-crawl/cc.en.300.vec.gz\n",
      "Resolving dl.fbaipublicfiles.com (dl.fbaipublicfiles.com)... 172.67.9.4, 104.22.74.142, 104.22.75.142, ...\n",
      "Connecting to dl.fbaipublicfiles.com (dl.fbaipublicfiles.com)|172.67.9.4|:443... connected.\n",
      "HTTP request sent, awaiting response... 200 OK\n",
      "Length: 1325960915 (1.2G) [binary/octet-stream]\n",
      "Saving to: ‘cc.en.300.vec.gz’\n",
      "\n",
      "cc.en.300.vec.gz    100%[===================>]   1.23G  22.2MB/s    in 58s     \n",
      "\n",
      "2020-06-21 08:25:37 (21.9 MB/s) - ‘cc.en.300.vec.gz’ saved [1325960915/1325960915]\n",
      "\n"
     ]
    }
   ],
   "source": [
    "!wget https://dl.fbaipublicfiles.com/fasttext/vectors-crawl/cc.en.300.vec.gz\n",
    "!gzip -d cc.en.300.vec.gz"
   ]
  },
  {
   "cell_type": "markdown",
   "metadata": {
    "colab_type": "text",
    "id": "-97OWistGV6H"
   },
   "source": [
    "#### **Load fasttext embeddings**\n",
    "To load fasttext pre-trained embeddings more efficiently, we can read only once the embeddings file and save:\n",
    "\n",
    "1. A 2D np-array for the embedding vectors\n",
    "2. A dictionary that maps each word to the row index of its embedding on the 2D np-array"
   ]
  },
  {
   "cell_type": "code",
   "execution_count": 7,
   "metadata": {
    "colab": {},
    "colab_type": "code",
    "id": "EY-rK5zGGZ2q"
   },
   "outputs": [],
   "source": [
    "idx = 0\n",
    "vocab = {}\n",
    "with open(\"cc.en.300.vec\", 'r', encoding=\"utf-8\", newline='\\n',errors='ignore') as f:\n",
    "    for l in f:\n",
    "        line = l.rstrip().split(' ')\n",
    "        if idx == 0:\n",
    "            vocab_size = int(line[0]) + 2\n",
    "            dim = int(line[1])\n",
    "            vecs = np.zeros(vocab_size*dim).reshape(vocab_size,dim)\n",
    "            vocab[\"__PADDING__\"] = 0\n",
    "            vocab[\"__UNK__\"] = 1\n",
    "            idx = 2\n",
    "        else:\n",
    "            vocab[line[0]] = idx\n",
    "            emb = np.array(line[1:]).astype(np.float)\n",
    "            if (emb.shape[0] == dim):\n",
    "                vecs[idx,:] = emb\n",
    "                idx+=1\n",
    "            else:\n",
    "                continue\n",
    "\n",
    "    pickle.dump(vocab,open(\"/content/gdrive/My Drive/fasttext_voc.pkl\" ,'wb'))\n",
    "    np.save(\"/content/gdrive/My Drive/fasttext.npy\",vecs)\n",
    "    # Free ram\n",
    "    vecs = None\n",
    "    vocab = None\n",
    "    emb = None"
   ]
  },
  {
   "cell_type": "markdown",
   "metadata": {
    "colab_type": "text",
    "id": "FvL1j_AlLP49"
   },
   "source": [
    "#### **Load embeddings np-array and mapping dictionary**\n",
    "\n"
   ]
  },
  {
   "cell_type": "code",
   "execution_count": 8,
   "metadata": {
    "colab": {},
    "colab_type": "code",
    "id": "lZvkvm98yx4c"
   },
   "outputs": [],
   "source": [
    "fasttext_embed = np.load(\"/content/gdrive/My Drive/fasttext.npy\")\n",
    "fasttext_word_to_index = pickle.load(open(\"/content/gdrive/My Drive/fasttext_voc.pkl\", 'rb'))"
   ]
  },
  {
   "cell_type": "markdown",
   "metadata": {
    "colab_type": "text",
    "id": "TnIYxnYcbHKH"
   },
   "source": [
    "#### Download a sentiment analysis dataset"
   ]
  },
  {
   "cell_type": "code",
   "execution_count": 9,
   "metadata": {
    "colab": {
     "base_uri": "https://localhost:8080/",
     "height": 337
    },
    "colab_type": "code",
    "id": "LlOAA9oo8tqL",
    "outputId": "c4def53c-1990-433f-8303-68e5d41cecc5"
   },
   "outputs": [
    {
     "name": "stdout",
     "output_type": "stream",
     "text": [
      "--2020-06-21 08:40:45--  http://cs.stanford.edu/people/alecmgo/trainingandtestdata.zip\n",
      "Resolving cs.stanford.edu (cs.stanford.edu)... 171.64.64.64\n",
      "Connecting to cs.stanford.edu (cs.stanford.edu)|171.64.64.64|:80... connected.\n",
      "HTTP request sent, awaiting response... 301 Moved Permanently\n",
      "Location: https://cs.stanford.edu/people/alecmgo/trainingandtestdata.zip [following]\n",
      "--2020-06-21 08:40:46--  https://cs.stanford.edu/people/alecmgo/trainingandtestdata.zip\n",
      "Connecting to cs.stanford.edu (cs.stanford.edu)|171.64.64.64|:443... connected.\n",
      "HTTP request sent, awaiting response... 200 OK\n",
      "Length: 81363704 (78M) [application/zip]\n",
      "Saving to: ‘trainingandtestdata.zip’\n",
      "\n",
      "trainingandtestdata 100%[===================>]  77.59M  25.1MB/s    in 3.1s    \n",
      "\n",
      "2020-06-21 08:40:49 (25.1 MB/s) - ‘trainingandtestdata.zip’ saved [81363704/81363704]\n",
      "\n",
      "Archive:  trainingandtestdata.zip\n",
      "  inflating: testdata.manual.2009.06.14.csv  \n",
      "  inflating: training.1600000.processed.noemoticon.csv  \n"
     ]
    }
   ],
   "source": [
    "!wget http://cs.stanford.edu/people/alecmgo/trainingandtestdata.zip\n",
    "!unzip \"trainingandtestdata.zip\""
   ]
  },
  {
   "cell_type": "markdown",
   "metadata": {
    "colab_type": "text",
    "id": "RzYXzMsBtInq"
   },
   "source": [
    "#### Load Data from csv file & remove useless columns"
   ]
  },
  {
   "cell_type": "code",
   "execution_count": 10,
   "metadata": {
    "colab": {
     "base_uri": "https://localhost:8080/",
     "height": 200
    },
    "colab_type": "code",
    "id": "CSjcKvmraReg",
    "outputId": "62dbe034-e7c9-4b39-88fd-9e65be764bb6"
   },
   "outputs": [
    {
     "data": {
      "text/html": [
       "<div>\n",
       "<style scoped>\n",
       "    .dataframe tbody tr th:only-of-type {\n",
       "        vertical-align: middle;\n",
       "    }\n",
       "\n",
       "    .dataframe tbody tr th {\n",
       "        vertical-align: top;\n",
       "    }\n",
       "\n",
       "    .dataframe thead th {\n",
       "        text-align: right;\n",
       "    }\n",
       "</style>\n",
       "<table border=\"1\" class=\"dataframe\">\n",
       "  <thead>\n",
       "    <tr style=\"text-align: right;\">\n",
       "      <th></th>\n",
       "      <th>sentiment</th>\n",
       "      <th>text</th>\n",
       "    </tr>\n",
       "  </thead>\n",
       "  <tbody>\n",
       "    <tr>\n",
       "      <th>0</th>\n",
       "      <td>0</td>\n",
       "      <td>@switchfoot http://twitpic.com/2y1zl - Awww, that's a bummer.  You shoulda got David Carr of Third Day to do it. ;D</td>\n",
       "    </tr>\n",
       "    <tr>\n",
       "      <th>1</th>\n",
       "      <td>0</td>\n",
       "      <td>is upset that he can't update his Facebook by texting it... and might cry as a result  School today also. Blah!</td>\n",
       "    </tr>\n",
       "    <tr>\n",
       "      <th>2</th>\n",
       "      <td>0</td>\n",
       "      <td>@Kenichan I dived many times for the ball. Managed to save 50%  The rest go out of bounds</td>\n",
       "    </tr>\n",
       "    <tr>\n",
       "      <th>3</th>\n",
       "      <td>0</td>\n",
       "      <td>my whole body feels itchy and like its on fire</td>\n",
       "    </tr>\n",
       "    <tr>\n",
       "      <th>4</th>\n",
       "      <td>0</td>\n",
       "      <td>@nationwideclass no, it's not behaving at all. i'm mad. why am i here? because I can't see you all over there.</td>\n",
       "    </tr>\n",
       "  </tbody>\n",
       "</table>\n",
       "</div>"
      ],
      "text/plain": [
       "   sentiment                                                                                                                 text\n",
       "0          0  @switchfoot http://twitpic.com/2y1zl - Awww, that's a bummer.  You shoulda got David Carr of Third Day to do it. ;D\n",
       "1          0      is upset that he can't update his Facebook by texting it... and might cry as a result  School today also. Blah!\n",
       "2          0                            @Kenichan I dived many times for the ball. Managed to save 50%  The rest go out of bounds\n",
       "3          0                                                                      my whole body feels itchy and like its on fire \n",
       "4          0      @nationwideclass no, it's not behaving at all. i'm mad. why am i here? because I can't see you all over there. "
      ]
     },
     "execution_count": 10,
     "metadata": {
      "tags": []
     },
     "output_type": "execute_result"
    }
   ],
   "source": [
    "pd.set_option('max_colwidth', 800)\n",
    "cols = ['sentiment','id','date','query_string','user','text']\n",
    "tweets_final = pd.read_csv(\"/content/training.1600000.processed.noemoticon.csv\", encoding = \"ISO-8859-1\", header=None, names=cols) #import data to dataframe\n",
    "\n",
    "tweets_final.drop(['id','date','query_string','user'],axis=1,inplace=True) # drop useless columns\n",
    "tweets_final.loc[tweets_final['sentiment'] == 4, \"sentiment\"] = 1 #change labels\n",
    "\n",
    "tweets_final.head()"
   ]
  },
  {
   "cell_type": "markdown",
   "metadata": {
    "colab_type": "text",
    "id": "sR8jBj_Z3QIX"
   },
   "source": [
    "#### Delete unnecessary files"
   ]
  },
  {
   "cell_type": "code",
   "execution_count": 11,
   "metadata": {
    "colab": {},
    "colab_type": "code",
    "id": "9E63yG5U3BnY"
   },
   "outputs": [],
   "source": [
    "!rm testdata.manual.2009.06.14.csv\n",
    "!rm cc.en.300.vec\n",
    "!rm training.1600000.processed.noemoticon.csv\n",
    "!rm trainingandtestdata.zip"
   ]
  },
  {
   "cell_type": "markdown",
   "metadata": {
    "colab_type": "text",
    "id": "99sc24JrtV8V"
   },
   "source": [
    "#### Get a count of data to see that there are no neutral tweets"
   ]
  },
  {
   "cell_type": "code",
   "execution_count": 12,
   "metadata": {
    "colab": {
     "base_uri": "https://localhost:8080/",
     "height": 70
    },
    "colab_type": "code",
    "id": "fzufFrszmGSu",
    "outputId": "d48720e0-4820-4dcc-8bde-ef65731a14d4"
   },
   "outputs": [
    {
     "data": {
      "text/plain": [
       "1    800000\n",
       "0    800000\n",
       "Name: sentiment, dtype: int64"
      ]
     },
     "execution_count": 12,
     "metadata": {
      "tags": []
     },
     "output_type": "execute_result"
    }
   ],
   "source": [
    "tweets_final.sentiment.value_counts()"
   ]
  },
  {
   "cell_type": "markdown",
   "metadata": {
    "colab_type": "text",
    "id": "6wh97Gnx36Wg"
   },
   "source": [
    "### Data preprocessing/ cleaning/ preparation"
   ]
  },
  {
   "cell_type": "markdown",
   "metadata": {
    "colab_type": "text",
    "id": "3DUeficR4Gs4"
   },
   "source": [
    "##### Create a dictionary with contractions and smileyfaces\n",
    "https://github.com/charlesmalafosse/FastText-sentiment-analysis-for-tweets/blob/master/betsentiment_sentiment_analysis_fasttext.py"
   ]
  },
  {
   "cell_type": "code",
   "execution_count": 13,
   "metadata": {
    "colab": {},
    "colab_type": "code",
    "id": "1I04k3PM3-GP"
   },
   "outputs": [],
   "source": [
    "def load_dict_smileys():\n",
    "    \n",
    "    return {\n",
    "        \":-)\":\"smiley\",\n",
    "        \":-]\":\"smiley\",\n",
    "        \":-3\":\"smiley\",\n",
    "        \":->\":\"smiley\",\n",
    "        \"8-)\":\"smiley\",\n",
    "        \":-}\":\"smiley\",\n",
    "        \":)\":\"smiley\",\n",
    "        \":]\":\"smiley\",\n",
    "        \":3\":\"smiley\",\n",
    "        \":>\":\"smiley\",\n",
    "        \"8)\":\"smiley\",\n",
    "        \":}\":\"smiley\",\n",
    "        \":o)\":\"smiley\",\n",
    "        \":c)\":\"smiley\",\n",
    "        \":^)\":\"smiley\",\n",
    "        \"=]\":\"smiley\",\n",
    "        \"=)\":\"smiley\",\n",
    "        \":-))\":\"smiley\",\n",
    "        \":‑D\":\"smiley\",\n",
    "        \"8‑D\":\"smiley\",\n",
    "        \"x‑D\":\"smiley\",\n",
    "        \"X‑D\":\"smiley\",\n",
    "        \":D\":\"smiley\",\n",
    "        \"8D\":\"smiley\",\n",
    "        \"xD\":\"smiley\",\n",
    "        \"XD\":\"smiley\",\n",
    "        \":‑(\":\"sad\",\n",
    "        \":‑c\":\"sad\",\n",
    "        \":‑<\":\"sad\",\n",
    "        \":‑[\":\"sad\",\n",
    "        \":(\":\"sad\",\n",
    "        \":c\":\"sad\",\n",
    "        \":<\":\"sad\",\n",
    "        \":[\":\"sad\",\n",
    "        \":-||\":\"sad\",\n",
    "        \">:[\":\"sad\",\n",
    "        \":{\":\"sad\",\n",
    "        \":@\":\"sad\",\n",
    "        \">:(\":\"sad\",\n",
    "        \":'‑(\":\"sad\",\n",
    "        \":'(\":\"sad\",\n",
    "        \":‑P\":\"playful\",\n",
    "        \"X‑P\":\"playful\",\n",
    "        \"x‑p\":\"playful\",\n",
    "        \":‑p\":\"playful\",\n",
    "        \":‑Þ\":\"playful\",\n",
    "        \":‑þ\":\"playful\",\n",
    "        \":‑b\":\"playful\",\n",
    "        \":P\":\"playful\",\n",
    "        \"XP\":\"playful\",\n",
    "        \"xp\":\"playful\",\n",
    "        \":p\":\"playful\",\n",
    "        \":Þ\":\"playful\",\n",
    "        \":þ\":\"playful\",\n",
    "        \":b\":\"playful\",\n",
    "        \"<3\":\"love\"\n",
    "        }\n",
    "\n",
    "\n",
    "def load_dict_contractions():\n",
    "    \n",
    "    return {\n",
    "        \"ain't\":\"is not\",\n",
    "        \"amn't\":\"am not\",\n",
    "        \"aren't\":\"are not\",\n",
    "        \"can't\":\"cannot\",\n",
    "        \"'cause\":\"because\",\n",
    "        \"couldn't\":\"could not\",\n",
    "        \"couldn't've\":\"could not have\",\n",
    "        \"could've\":\"could have\",\n",
    "        \"daren't\":\"dare not\",\n",
    "        \"daresn't\":\"dare not\",\n",
    "        \"dasn't\":\"dare not\",\n",
    "        \"didn't\":\"did not\",\n",
    "        \"doesn't\":\"does not\",\n",
    "        \"don't\":\"do not\",\n",
    "        \"e'er\":\"ever\",\n",
    "        \"em\":\"them\",\n",
    "        \"everyone's\":\"everyone is\",\n",
    "        \"finna\":\"fixing to\",\n",
    "        \"gimme\":\"give me\",\n",
    "        \"gonna\":\"going to\",\n",
    "        \"gon't\":\"go not\",\n",
    "        \"gotta\":\"got to\",\n",
    "        \"hadn't\":\"had not\",\n",
    "        \"hasn't\":\"has not\",\n",
    "        \"haven't\":\"have not\",\n",
    "        \"he'd\":\"he would\",\n",
    "        \"he'll\":\"he will\",\n",
    "        \"he's\":\"he is\",\n",
    "        \"he've\":\"he have\",\n",
    "        \"how'd\":\"how would\",\n",
    "        \"how'll\":\"how will\",\n",
    "        \"how're\":\"how are\",\n",
    "        \"how's\":\"how is\",\n",
    "        \"I'd\":\"I would\",\n",
    "        \"I'll\":\"I will\",\n",
    "        \"I'm\":\"I am\",\n",
    "        \"I'm'a\":\"I am about to\",\n",
    "        \"I'm'o\":\"I am going to\",\n",
    "        \"isn't\":\"is not\",\n",
    "        \"it'd\":\"it would\",\n",
    "        \"it'll\":\"it will\",\n",
    "        \"it's\":\"it is\",\n",
    "        \"I've\":\"I have\",\n",
    "        \"kinda\":\"kind of\",\n",
    "        \"let's\":\"let us\",\n",
    "        \"mayn't\":\"may not\",\n",
    "        \"may've\":\"may have\",\n",
    "        \"mightn't\":\"might not\",\n",
    "        \"might've\":\"might have\",\n",
    "        \"mustn't\":\"must not\",\n",
    "        \"mustn't've\":\"must not have\",\n",
    "        \"must've\":\"must have\",\n",
    "        \"needn't\":\"need not\",\n",
    "        \"ne'er\":\"never\",\n",
    "        \"o'\":\"of\",\n",
    "        \"o'er\":\"over\",\n",
    "        \"ol'\":\"old\",\n",
    "        \"oughtn't\":\"ought not\",\n",
    "        \"shalln't\":\"shall not\",\n",
    "        \"shan't\":\"shall not\",\n",
    "        \"she'd\":\"she would\",\n",
    "        \"she'll\":\"she will\",\n",
    "        \"she's\":\"she is\",\n",
    "        \"shouldn't\":\"should not\",\n",
    "        \"shouldn't've\":\"should not have\",\n",
    "        \"should've\":\"should have\",\n",
    "        \"somebody's\":\"somebody is\",\n",
    "        \"someone's\":\"someone is\",\n",
    "        \"something's\":\"something is\",\n",
    "        \"that'd\":\"that would\",\n",
    "        \"that'll\":\"that will\",\n",
    "        \"that're\":\"that are\",\n",
    "        \"that's\":\"that is\",\n",
    "        \"there'd\":\"there would\",\n",
    "        \"there'll\":\"there will\",\n",
    "        \"there're\":\"there are\",\n",
    "        \"there's\":\"there is\",\n",
    "        \"these're\":\"these are\",\n",
    "        \"they'd\":\"they would\",\n",
    "        \"they'll\":\"they will\",\n",
    "        \"they're\":\"they are\",\n",
    "        \"they've\":\"they have\",\n",
    "        \"this's\":\"this is\",\n",
    "        \"those're\":\"those are\",\n",
    "        \"'tis\":\"it is\",\n",
    "        \"'twas\":\"it was\",\n",
    "        \"wanna\":\"want to\",\n",
    "        \"wasn't\":\"was not\",\n",
    "        \"we'd\":\"we would\",\n",
    "        \"we'd've\":\"we would have\",\n",
    "        \"we'll\":\"we will\",\n",
    "        \"we're\":\"we are\",\n",
    "        \"weren't\":\"were not\",\n",
    "        \"we've\":\"we have\",\n",
    "        \"what'd\":\"what did\",\n",
    "        \"what'll\":\"what will\",\n",
    "        \"what're\":\"what are\",\n",
    "        \"what's\":\"what is\",\n",
    "        \"what've\":\"what have\",\n",
    "        \"when's\":\"when is\",\n",
    "        \"where'd\":\"where did\",\n",
    "        \"where're\":\"where are\",\n",
    "        \"where's\":\"where is\",\n",
    "        \"where've\":\"where have\",\n",
    "        \"which's\":\"which is\",\n",
    "        \"who'd\":\"who would\",\n",
    "        \"who'd've\":\"who would have\",\n",
    "        \"who'll\":\"who will\",\n",
    "        \"who're\":\"who are\",\n",
    "        \"who's\":\"who is\",\n",
    "        \"who've\":\"who have\",\n",
    "        \"why'd\":\"why did\",\n",
    "        \"why're\":\"why are\",\n",
    "        \"why's\":\"why is\",\n",
    "        \"won't\":\"will not\",\n",
    "        \"wouldn't\":\"would not\",\n",
    "        \"would've\":\"would have\",\n",
    "        \"y'all\":\"you all\",\n",
    "        \"you'd\":\"you would\",\n",
    "        \"you'll\":\"you will\",\n",
    "        \"you're\":\"you are\",\n",
    "        \"you've\":\"you have\",\n",
    "        \"Whatcha\":\"What are you\",\n",
    "        \"luv\":\"love\",\n",
    "        \"sux\":\"sucks\"\n",
    "        }"
   ]
  },
  {
   "cell_type": "markdown",
   "metadata": {
    "colab_type": "text",
    "id": "XeUA8F3I4ewo"
   },
   "source": [
    "##### Cleaning"
   ]
  },
  {
   "cell_type": "code",
   "execution_count": 14,
   "metadata": {
    "colab": {
     "base_uri": "https://localhost:8080/",
     "height": 35
    },
    "colab_type": "code",
    "id": "8usHgE57H00j",
    "outputId": "166cde3d-0626-4b55-ab04-fea19b99d57a"
   },
   "outputs": [
    {
     "name": "stdout",
     "output_type": "stream",
     "text": [
      "['lot', 'of', 'rock', 'thumbs', 'up', 'fell', 'fromm', 'the', 'skies', 'smiley', 'he', 'will', 'consider', 'taken', 'an', 'umbrella', 'love']\n"
     ]
    }
   ],
   "source": [
    "lemmatizer = WordNetLemmatizer()\n",
    "\n",
    "def tweet_cleaner(tweet):\n",
    "\n",
    "    #remove references\n",
    "    pat1 = r'@[A-Za-z0-9]+'\n",
    "    #remove links\n",
    "    pat2 = r\"(\\w+:\\/\\/\\S+)\"\n",
    "    combined_pat1 = r'|'.join((pat1, pat2))\n",
    "\n",
    "    #remove hashtags, numbers\n",
    "    pat4 = \"(#[A-Za-z0-9]+)\" #r'\\^[a-zA-Z!]\\s+' \n",
    "    # Substituting multiple spaces with single space\n",
    "    pat5 = r'\\s+'\n",
    "    combined_pat2 = r'|'.join((pat4, pat5))\n",
    "\n",
    "    #remove html related tags\n",
    "    tweet = BeautifulSoup(tweet, 'lxml')\n",
    "    tweet = tweet.get_text()\n",
    "    \n",
    "    tweet = re.sub(combined_pat1, '', tweet)\n",
    "    tweet = re.sub(combined_pat2, ' ', tweet)\n",
    "\n",
    "    try:\n",
    "        #replace possibe faulty characters\n",
    "        tweet = tweet.replace(u\"\\ufffd\", \"?\")\n",
    "    except:\n",
    "        tweet = tweet\n",
    "    tweet = tweet.lower()\n",
    "    \n",
    "    #CONTRACTIONS source: https://en.wikipedia.org/wiki/Contraction_%28grammar%29\n",
    "    CONTRACTIONS = load_dict_contractions()\n",
    "    #Deal with smileys\n",
    "    #source: https://en.wikipedia.org/wiki/List_of_emoticons\n",
    "    SMILEY = load_dict_smileys()  \n",
    "\n",
    "    tweet = tweet.replace(\"’\",\"'\")\n",
    "    words = tweet.split()\n",
    "    reformed = [CONTRACTIONS[word] if word in CONTRACTIONS else word for word in words] #replace contractions\n",
    "    reformed2 = [SMILEY[word] if word in SMILEY else word for word in reformed] #replace smileys\n",
    "    reformed2 = [lemmatizer.lemmatize(word) for word in reformed2] #lemmatize\n",
    "    tweet = \" \".join(reformed2)\n",
    "    \n",
    "    # Standardizing words\n",
    "    tweet = ''.join(''.join(s)[:2] for _, s in itertools.groupby(tweet))\n",
    "\n",
    "    #Deal with emojis\n",
    "    tweet = emoji.demojize(tweet)\n",
    "\n",
    "    #Removal of Punctuation\n",
    "    tweet = ' '.join(re.sub(\"[\\.\\,\\!\\?\\:\\;\\-\\=]\", \" \", tweet).split())\n",
    "    tweet = ' '.join(re.sub(\"\\s+\", \" \", tweet).split())\n",
    "    #keep only letters\n",
    "    tweet = re.sub(\"[^a-zA-Z!]\", \" \", tweet)\n",
    "    #lemmatize\n",
    "    #words = tweet.split()\n",
    "    #tweet = [lemmatizer.lemmatize(word) for word in words]\n",
    "    #tweet = \" \".join(reformed)\n",
    "    # Substituting multiple spaces with single space\n",
    "    #tweet = ' '.join(re.sub(\"\\s+\", \" \", tweet).split())\n",
    "    return tweet.split()\n",
    "\n",
    "#test cleaner\n",
    "print(tweet_cleaner(\"@someone Lots of rocks 👍 fell     frommmmm the skies.... :-) He'll consider taken an umbrella <3 ?! 95345!! #rocksfell  https://www.fsdf.gr http://asdfsdf/w\"))"
   ]
  },
  {
   "cell_type": "markdown",
   "metadata": {
    "colab_type": "text",
    "id": "fNK-iSgvtksK"
   },
   "source": [
    "#### Clean dataset"
   ]
  },
  {
   "cell_type": "code",
   "execution_count": 15,
   "metadata": {
    "colab": {
     "base_uri": "https://localhost:8080/",
     "height": 187
    },
    "colab_type": "code",
    "id": "QWIX2AuSTVIe",
    "outputId": "099a7b3a-5148-444a-e0df-06bf765f6996"
   },
   "outputs": [
    {
     "name": "stdout",
     "output_type": "stream",
     "text": [
      "Time passed 55 seconds\n"
     ]
    },
    {
     "data": {
      "text/html": [
       "<div>\n",
       "<style scoped>\n",
       "    .dataframe tbody tr th:only-of-type {\n",
       "        vertical-align: middle;\n",
       "    }\n",
       "\n",
       "    .dataframe tbody tr th {\n",
       "        vertical-align: top;\n",
       "    }\n",
       "\n",
       "    .dataframe thead th {\n",
       "        text-align: right;\n",
       "    }\n",
       "</style>\n",
       "<table border=\"1\" class=\"dataframe\">\n",
       "  <thead>\n",
       "    <tr style=\"text-align: right;\">\n",
       "      <th></th>\n",
       "      <th>sentiment</th>\n",
       "      <th>text</th>\n",
       "    </tr>\n",
       "  </thead>\n",
       "  <tbody>\n",
       "    <tr>\n",
       "      <th>286431</th>\n",
       "      <td>0</td>\n",
       "      <td>[watching, the, andrea, yates, true, e, hollywood, story, it, sad]</td>\n",
       "    </tr>\n",
       "    <tr>\n",
       "      <th>1177700</th>\n",
       "      <td>1</td>\n",
       "      <td>[bout, to, head, out, to, golden, corral, for, a, buffet, fix]</td>\n",
       "    </tr>\n",
       "    <tr>\n",
       "      <th>300248</th>\n",
       "      <td>0</td>\n",
       "      <td>[i, cant, take, the, hurt]</td>\n",
       "    </tr>\n",
       "    <tr>\n",
       "      <th>909362</th>\n",
       "      <td>1</td>\n",
       "      <td>[overwhelming, lead, for, strawberry, lemonade, my, husband, voted, for, banana, foster, tho]</td>\n",
       "    </tr>\n",
       "  </tbody>\n",
       "</table>\n",
       "</div>"
      ],
      "text/plain": [
       "         sentiment                                                                                           text\n",
       "286431           0                             [watching, the, andrea, yates, true, e, hollywood, story, it, sad]\n",
       "1177700          1                                 [bout, to, head, out, to, golden, corral, for, a, buffet, fix]\n",
       "300248           0                                                                     [i, cant, take, the, hurt]\n",
       "909362           1  [overwhelming, lead, for, strawberry, lemonade, my, husband, voted, for, banana, foster, tho]"
      ]
     },
     "execution_count": 15,
     "metadata": {
      "tags": []
     },
     "output_type": "execute_result"
    }
   ],
   "source": [
    "# set N for sample size\n",
    "N = 100000\n",
    "\n",
    "start_time = time.time()\n",
    "\n",
    "# shuffle\n",
    "tweets_final = tweets_final.sample(frac=1, random_state=94)\n",
    "\n",
    "# get a subspace of the original dataset and preproccess it\n",
    "tweets_final = tweets_final[:N]\n",
    "tweets_final['text'] = tweets_final['text'].apply(lambda x : tweet_cleaner(x))\n",
    "\n",
    "elapsed_time = time.time() - start_time\n",
    "\n",
    "print('Time passed %0.0f seconds' % elapsed_time)\n",
    "\n",
    "# drop empty sentences\n",
    "tweets_final = tweets_final[(tweets_final['text']!='')]\n",
    "tweets_final.head(4)"
   ]
  },
  {
   "cell_type": "markdown",
   "metadata": {
    "colab_type": "text",
    "id": "49FqdzrsFweT"
   },
   "source": [
    "#### Train, Dev & Test split"
   ]
  },
  {
   "cell_type": "code",
   "execution_count": 16,
   "metadata": {
    "colab": {},
    "colab_type": "code",
    "id": "D4HqvJHNdcbO"
   },
   "outputs": [],
   "source": [
    "train_set, test_dev_set = train_test_split(tweets_final, test_size=0.2, random_state=94)\n",
    "dev_set, test_set = train_test_split(test_dev_set, test_size=0.5, random_state=94)"
   ]
  },
  {
   "cell_type": "markdown",
   "metadata": {
    "colab_type": "text",
    "id": "3kL7jlmA0a4z"
   },
   "source": [
    "### Some statistics on the datasets\n"
   ]
  },
  {
   "cell_type": "code",
   "execution_count": null,
   "metadata": {
    "colab": {
     "base_uri": "https://localhost:8080/",
     "height": 68
    },
    "colab_type": "code",
    "id": "4HsYGM6e37d2",
    "outputId": "ac4f784c-cb8a-4df1-ebc0-feb3a77538cf"
   },
   "outputs": [
    {
     "name": "stdout",
     "output_type": "stream",
     "text": [
      "Training set contains: \t 80000  documents.\n",
      "Dev set contains: \t 10000  documents.\n",
      "Test set contains: \t 10000  documents.\n"
     ]
    }
   ],
   "source": [
    "print(\"Training set contains: \\t\", len(train_set),\" documents.\")\n",
    "print(\"Dev set contains: \\t\", len(dev_set),\" documents.\")\n",
    "print(\"Test set contains: \\t\", len(test_set),\" documents.\")"
   ]
  },
  {
   "cell_type": "code",
   "execution_count": 17,
   "metadata": {
    "colab": {
     "base_uri": "https://localhost:8080/",
     "height": 70
    },
    "colab_type": "code",
    "id": "7-J-LLGr0cbJ",
    "outputId": "d6642901-3038-41a7-ad96-c895b4d15680"
   },
   "outputs": [
    {
     "name": "stdout",
     "output_type": "stream",
     "text": [
      "X train mean: \t12.91 \twith std: \t7.14 \tand max:\t46\n",
      "X dev mean: \t12.95 \twith std: \t7.14 \tand max:\t34\n",
      "X test mean: \t12.98 \twith std: \t7.16 \tand max:\t41\n"
     ]
    }
   ],
   "source": [
    "# Get mean and std for length on training set\n",
    "print('X train mean: \\t{0:0.2f} \\twith std: \\t{1:0.2f} \\tand max:\\t{2:0d}'.format(\n",
    "     np.mean([len(x) for x in train_set.text])\n",
    "    ,np.std([len(x) for x in train_set.text])\n",
    "    ,np.max([len(x) for x in train_set.text])))\n",
    "# Get mean and std for length on development set\n",
    "print('X dev mean: \\t{0:0.2f} \\twith std: \\t{1:0.2f} \\tand max:\\t{2:0d}'.format(\n",
    "     np.mean([len(x) for x in dev_set.text])\n",
    "    ,np.std([len(x) for x in dev_set.text])\n",
    "    ,np.max([len(x) for x in dev_set.text])))\n",
    "# Get mean and std for length on test set\n",
    "print('X test mean: \\t{0:0.2f} \\twith std: \\t{1:0.2f} \\tand max:\\t{2:0d}'.format(\n",
    "     np.mean([len(x) for x in test_set.text])\n",
    "    ,np.std([len(x) for x in test_set.text])\n",
    "    ,np.max([len(x) for x in test_set.text])))"
   ]
  },
  {
   "cell_type": "code",
   "execution_count": 18,
   "metadata": {
    "colab": {},
    "colab_type": "code",
    "id": "rX0LelMtpUeQ"
   },
   "outputs": [],
   "source": [
    "X_train_tokenized = train_set.text.to_list()\n",
    "y_train =  train_set.sentiment.to_list()\n",
    "\n",
    "X_dev_tokenized = dev_set.text.to_list()\n",
    "y_dev =  dev_set.sentiment.to_list()\n",
    "\n",
    "X_test_tokenized = test_set.text.to_list()\n",
    "y_test =  test_set.sentiment.to_list()"
   ]
  },
  {
   "cell_type": "markdown",
   "metadata": {
    "colab_type": "text",
    "id": "C7lvz7lFqlaU"
   },
   "source": [
    "#### Tokenize, convert text (sequence of words) to sequence of indexes and PAD the sequences"
   ]
  },
  {
   "cell_type": "code",
   "execution_count": 19,
   "metadata": {
    "colab": {},
    "colab_type": "code",
    "id": "EBOW0uIUqi2b"
   },
   "outputs": [],
   "source": [
    "import tensorflow as tf\n",
    "from tensorflow.keras.preprocessing.text import Tokenizer\n",
    "from tensorflow.keras.preprocessing.sequence import pad_sequences\n",
    "\n",
    "MAX_WORDS = 50000\n",
    "MAX_SEQUENCE_LENGTH = 50\n",
    "EMBEDDING_DIM = fasttext_embed.shape[1]\n",
    "# Keras tokenizer uses \\s for separating tokens\n",
    "tokenizer = Tokenizer(num_words=MAX_WORDS,oov_token='__UNK__')\n",
    "tokenizer.fit_on_texts([\" \".join(x) for x in X_train_tokenized])\n",
    "\n",
    "train_seqs = tokenizer.texts_to_sequences([\" \".join(x) for x in X_train_tokenized])\n",
    "dev_seqs = tokenizer.texts_to_sequences([\" \".join(x) for x in X_dev_tokenized])\n",
    "test_seqs = tokenizer.texts_to_sequences([\" \".join(x) for x in X_test_tokenized])\n",
    "\n",
    "train_data = pad_sequences(train_seqs, maxlen=MAX_SEQUENCE_LENGTH,padding='post')\n",
    "dev_data = pad_sequences(dev_seqs, maxlen=MAX_SEQUENCE_LENGTH, padding='post')\n",
    "test_data = pad_sequences(test_seqs, maxlen=MAX_SEQUENCE_LENGTH, padding='post')"
   ]
  },
  {
   "cell_type": "code",
   "execution_count": null,
   "metadata": {
    "colab": {
     "base_uri": "https://localhost:8080/",
     "height": 87
    },
    "colab_type": "code",
    "id": "j8jY2XBuw42W",
    "outputId": "97ff8498-9300-4c0c-c46c-d85014a56fe2"
   },
   "outputs": [
    {
     "name": "stdout",
     "output_type": "stream",
     "text": [
      "[  32   28 2759    2   20 1601   96  558  269   26  451   32 6963 1373\n",
      "  941   44   25 4708    2 2137  255  331    0    0    0    0    0    0\n",
      "    0    0    0    0    0    0    0    0    0    0    0    0    0    0\n",
      "    0    0    0    0    0    0    0    0]\n"
     ]
    }
   ],
   "source": [
    "print(train_data[3048])"
   ]
  },
  {
   "cell_type": "code",
   "execution_count": 20,
   "metadata": {
    "colab": {
     "base_uri": "https://localhost:8080/",
     "height": 35
    },
    "colab_type": "code",
    "id": "tMhkfKxsxNB_",
    "outputId": "866097a8-141c-4fb2-dc25-35b3be877d2a"
   },
   "outputs": [
    {
     "name": "stdout",
     "output_type": "stream",
     "text": [
      "Found 42266 unique tokens.\n"
     ]
    }
   ],
   "source": [
    "word_index = tokenizer.word_index\n",
    "print('Found %s unique tokens.' % len(word_index))"
   ]
  },
  {
   "cell_type": "markdown",
   "metadata": {
    "colab_type": "text",
    "id": "yhv_RnP3xTY4"
   },
   "source": [
    "#### Initialize embedding matrix with fasttext pre-trained embedings**"
   ]
  },
  {
   "cell_type": "code",
   "execution_count": 21,
   "metadata": {
    "colab": {},
    "colab_type": "code",
    "id": "7yRAihi5xQuE"
   },
   "outputs": [],
   "source": [
    "embedding_matrix = np.zeros((MAX_WORDS+2, EMBEDDING_DIM))\n",
    "for word, i in word_index.items():\n",
    "    if i > MAX_WORDS:\n",
    "            continue\n",
    "    try:\n",
    "        embedding_vector = fasttext_embed[fasttext_word_to_index[word],:]\n",
    "        embedding_matrix[i] = embedding_vector\n",
    "    except:\n",
    "        pass"
   ]
  },
  {
   "cell_type": "code",
   "execution_count": null,
   "metadata": {
    "colab": {
     "base_uri": "https://localhost:8080/",
     "height": 34
    },
    "colab_type": "code",
    "id": "vic1LniExQ2i",
    "outputId": "a95b98c7-99e9-4680-c121-4812dd29f77b"
   },
   "outputs": [
    {
     "data": {
      "text/plain": [
       "(50002, 300)"
      ]
     },
     "execution_count": 21,
     "metadata": {
      "tags": []
     },
     "output_type": "execute_result"
    }
   ],
   "source": [
    "embedding_matrix.shape"
   ]
  },
  {
   "cell_type": "markdown",
   "metadata": {
    "colab_type": "text",
    "id": "JgNf0cOfWE3d"
   },
   "source": [
    "#### Transform y vectors for keras fit"
   ]
  },
  {
   "cell_type": "code",
   "execution_count": 23,
   "metadata": {
    "colab": {},
    "colab_type": "code",
    "id": "5N20Nzpdyq8r"
   },
   "outputs": [],
   "source": [
    "# make lists to arrays\n",
    "y_train = np.array(y_train)\n",
    "y_dev = np.array(y_dev)\n",
    "y_test = np.array(y_test)\n",
    "\n",
    "\"\"\"\n",
    " prepare two-dim y vectors for keras fit\n",
    " in order to have 2 values for predict_proba we have DENSE 2 output in keras\n",
    " thus it expects a two dimensional y vector. We create it stacking vertically the \n",
    " suplement of y\n",
    "\"\"\"\n",
    "y_train2 = np.vstack((1-y_train, y_train)).T\n",
    "y_dev2 = np.vstack(( 1-y_dev, y_dev)).T\n",
    "y_test2 = np.vstack((1-y_test, y_test )).T"
   ]
  },
  {
   "cell_type": "markdown",
   "metadata": {
    "colab_type": "text",
    "id": "DTLFdDd0EeMS"
   },
   "source": [
    "### Macro Average - Precision, Recall & F1 scores"
   ]
  },
  {
   "cell_type": "code",
   "execution_count": 24,
   "metadata": {
    "colab": {},
    "colab_type": "code",
    "id": "pbD2s-j8IIFi"
   },
   "outputs": [],
   "source": [
    "def get_scores(y_true, y_scores, threshold):\n",
    "  \"\"\"\n",
    "  input:\n",
    "    y_true: array with gound truth\n",
    "    y_scores: array-like, shape = [n_samples, n_classes], the probability of the sample for each class in the model\n",
    "    threshold: classification threshold in order to classify to positive class\n",
    "\n",
    "  output:\n",
    "    precision: dictionary with scores for all classes + macro precision\n",
    "    recall: dictionary with scores for all classes + macro recall\n",
    "    f1: dictionary with scores for all classes + macro f1\n",
    "\n",
    "  \"\"\"\n",
    "  N_labels = y_scores.shape[1] # number of classes\n",
    "  \n",
    "  precision = {}\n",
    "  recall = {}\n",
    "  f1 = {}\n",
    "\n",
    "  for label in range(N_labels):\n",
    "    \n",
    "    # create array with predictions based on which class is considered positive and a threshold\n",
    "    y_pred = np.array([int(label if elem >= threshold else 1-label) for elem in y_scores[:,label]])\n",
    "  \n",
    "    # calculate True Positive, False Positive, True Negative, False Negative\n",
    "    TP = 0\n",
    "    FP = 0\n",
    "    TN = 0\n",
    "    FN = 0\n",
    "\n",
    "    for i in range(len(y_pred)): \n",
    "      if y_true[i]==y_pred[i]==label:\n",
    "        TP += 1\n",
    "      if y_pred[i]==label and y_true[i]!=y_pred[i]:\n",
    "        FP += 1\n",
    "      if y_pred[i]==1-label and y_true[i]!=y_pred[i]:\n",
    "        FN += 1\n",
    "    precision[label] = 0 if (TP + FP) == 0 else TP / (TP + FP) \n",
    "    recall[label] = 0 if (TP + FN) == 0 else TP / (TP + FN)\n",
    "    f1[label] = 0 if (precision[label] + recall[label]) ==0 else 2 * (precision[label] * recall[label]) / (precision[label] + recall[label]) \n",
    "\n",
    "  precision['macro'] = sum(precision.values())/N_labels\n",
    "  recall['macro'] = sum(recall.values())/N_labels\n",
    "  f1['macro'] = sum(f1.values())/N_labels\n",
    "  \n",
    "  return precision, recall, f1\n",
    "\n",
    "def print_scores(estimator, X, y_true, threshold, is_keras=True):\n",
    "  if is_keras:\n",
    "    y_pred = estimator.predict(X)\n",
    "  else:\n",
    "    y_pred = estimator.predict_proba(X)\n",
    "    \n",
    "  prec_dict, rec_dict, f1_dict = get_scores(y_true, y_pred, threshold)\n",
    "  scores_df = pd.DataFrame.from_dict({'precision': prec_dict, 'recall': rec_dict, 'f1': f1_dict})\n",
    "  print(tabulate(scores_df.round(3), headers='keys', tablefmt='psql'))"
   ]
  },
  {
   "cell_type": "markdown",
   "metadata": {
    "colab_type": "text",
    "id": "JF3LjfC2Vzab"
   },
   "source": [
    "#### Print Classifier scores"
   ]
  },
  {
   "cell_type": "code",
   "execution_count": 25,
   "metadata": {
    "colab": {},
    "colab_type": "code",
    "id": "gbc9Q0cYVy10"
   },
   "outputs": [],
   "source": [
    "def print_classifier_scores(estimator, est_name, X_train, y_train\n",
    "                            ,X_dev, y_dev\n",
    "                            ,X_test,y_test\n",
    "                            , thres, is_keras=True):\n",
    "\n",
    "  print(\"{}- Train scores:\".format(est_name))\n",
    "  print_scores(estimator, X_train, y_train, thres, is_keras=is_keras)\n",
    "\n",
    "  print(\"---------------------------------------------------------\")\n",
    "  print(\"{}- Dev scores:\".format(est_name))\n",
    "  print_scores(estimator, X_dev ,y_dev, thres, is_keras=is_keras)\n",
    "\n",
    "  print(\"---------------------------------------------------------\")\n",
    "  print(\"{}- Test scores:\".format(est_name))\n",
    "  print_scores(estimator, X_test, y_test, thres, is_keras=is_keras)"
   ]
  },
  {
   "cell_type": "markdown",
   "metadata": {
    "colab_type": "text",
    "id": "RD4QWjpwZi1u"
   },
   "source": [
    "### Custom Class that transforms matrix of indexes to matrix of centroids"
   ]
  },
  {
   "cell_type": "code",
   "execution_count": 26,
   "metadata": {
    "colab": {},
    "colab_type": "code",
    "id": "6bVbCqPfLZ0B"
   },
   "outputs": [],
   "source": [
    "class Indexes_to_Centroids(BaseEstimator, TransformerMixin):\n",
    "  \n",
    "  def __init__(self, emb_mtrx):\n",
    "    self.emb_mtrx = emb_mtrx\n",
    "  \n",
    "  def fit(self, X, y=None):    \n",
    "    return self\n",
    "  \n",
    "  def transform(self, X, y=None):\n",
    "    self.X_transformed = np.zeros((X.shape[0], self.emb_mtrx.shape[1]))\n",
    "    \n",
    "    for i, sent in enumerate(X):\n",
    "      \n",
    "      sent_embds = [self.emb_mtrx[indx,:] for indx in sent if indx != 0]\n",
    "  \n",
    "      # check if sentence empty\n",
    "      if not sent_embds:\n",
    "        # __UNK__ embedding for empty sentences\n",
    "        sent_centroid = self.emb_mtrx[1,:]\n",
    "      # else average embeddings\n",
    "      else:\n",
    "        sent_centroid = np.average(sent_embds,axis=0)\n",
    "  \n",
    "      # set row to the centroid\n",
    "      self.X_transformed[i] = sent_centroid\n",
    "    return self.X_transformed"
   ]
  },
  {
   "cell_type": "markdown",
   "metadata": {
    "colab_type": "text",
    "id": "ojY9bXhTBzPw"
   },
   "source": [
    "### Most probable classifier as Baseline"
   ]
  },
  {
   "cell_type": "code",
   "execution_count": 33,
   "metadata": {
    "colab": {
     "base_uri": "https://localhost:8080/",
     "height": 479
    },
    "colab_type": "code",
    "id": "xLbSHGizBzWS",
    "outputId": "a504f35c-2935-47aa-c1e5-9d0b8de097cc"
   },
   "outputs": [
    {
     "name": "stdout",
     "output_type": "stream",
     "text": [
      "Baseline- Train scores:\n",
      "+-------+-------------+----------+-------+\n",
      "|       |   precision |   recall |    f1 |\n",
      "|-------+-------------+----------+-------|\n",
      "| 0     |       0     |      0   | 0     |\n",
      "| 1     |       0.501 |      1   | 0.668 |\n",
      "| macro |       0.251 |      0.5 | 0.334 |\n",
      "+-------+-------------+----------+-------+\n",
      "---------------------------------------------------------\n",
      "Baseline- Dev scores:\n",
      "+-------+-------------+----------+-------+\n",
      "|       |   precision |   recall |    f1 |\n",
      "|-------+-------------+----------+-------|\n",
      "| 0     |       0     |      0   | 0     |\n",
      "| 1     |       0.504 |      1   | 0.671 |\n",
      "| macro |       0.252 |      0.5 | 0.335 |\n",
      "+-------+-------------+----------+-------+\n",
      "---------------------------------------------------------\n",
      "Baseline- Test scores:\n",
      "+-------+-------------+----------+-------+\n",
      "|       |   precision |   recall |    f1 |\n",
      "|-------+-------------+----------+-------|\n",
      "| 0     |       0     |      0   | 0     |\n",
      "| 1     |       0.488 |      1   | 0.656 |\n",
      "| macro |       0.244 |      0.5 | 0.328 |\n",
      "+-------+-------------+----------+-------+\n"
     ]
    }
   ],
   "source": [
    "base_pipeline = Pipeline([\n",
    "                          ('indexes_to_centroids', Indexes_to_Centroids(embedding_matrix))\n",
    "                          , ('clf',DummyClassifier(strategy=\"most_frequent\"))\n",
    "                          ])\n",
    "# fit on training set and print scores\n",
    "base_pipeline.fit(train_data, y_train)\n",
    "\n",
    "print_classifier_scores(base_pipeline, 'Baseline', train_data, y_train\n",
    "  , dev_data, y_dev\n",
    "  , test_data, y_test,0.5, is_keras=False)"
   ]
  },
  {
   "cell_type": "markdown",
   "metadata": {
    "colab_type": "text",
    "id": "gnQfstCIYUoN"
   },
   "source": [
    "### Logistic Regression Classifier"
   ]
  },
  {
   "cell_type": "code",
   "execution_count": 34,
   "metadata": {
    "colab": {
     "base_uri": "https://localhost:8080/",
     "height": 479
    },
    "colab_type": "code",
    "id": "MVe9y2orEevs",
    "outputId": "fc2b37f7-5874-4cd7-bf39-a5572fecef32"
   },
   "outputs": [
    {
     "name": "stdout",
     "output_type": "stream",
     "text": [
      "SGD classifier- Train scores:\n",
      "+-------+-------------+----------+-------+\n",
      "|       |   precision |   recall |    f1 |\n",
      "|-------+-------------+----------+-------|\n",
      "| 0     |       0.741 |    0.739 | 0.74  |\n",
      "| 1     |       0.741 |    0.743 | 0.742 |\n",
      "| macro |       0.741 |    0.741 | 0.741 |\n",
      "+-------+-------------+----------+-------+\n",
      "---------------------------------------------------------\n",
      "SGD classifier- Dev scores:\n",
      "+-------+-------------+----------+-------+\n",
      "|       |   precision |   recall |    f1 |\n",
      "|-------+-------------+----------+-------|\n",
      "| 0     |       0.733 |    0.741 | 0.737 |\n",
      "| 1     |       0.743 |    0.735 | 0.739 |\n",
      "| macro |       0.738 |    0.738 | 0.738 |\n",
      "+-------+-------------+----------+-------+\n",
      "---------------------------------------------------------\n",
      "SGD classifier- Test scores:\n",
      "+-------+-------------+----------+-------+\n",
      "|       |   precision |   recall |    f1 |\n",
      "|-------+-------------+----------+-------|\n",
      "| 0     |       0.749 |    0.749 | 0.749 |\n",
      "| 1     |       0.736 |    0.736 | 0.736 |\n",
      "| macro |       0.743 |    0.743 | 0.743 |\n",
      "+-------+-------------+----------+-------+\n"
     ]
    }
   ],
   "source": [
    "lg_pipeline = Pipeline([\n",
    "                          ('indexes_to_centroids', Indexes_to_Centroids(embedding_matrix))\n",
    "                          , ('clf',SGDClassifier(loss=\"log\", max_iter=5000, penalty= 'l2', alpha= 0.0001))\n",
    "                          ])\n",
    "\n",
    "lg_pipeline.fit(train_data, y_train)\n",
    "print_classifier_scores(lg_pipeline, 'SGD classifier', train_data, y_train\n",
    "  , dev_data, y_dev\n",
    "  , test_data, y_test,0.5, is_keras=False)"
   ]
  },
  {
   "cell_type": "markdown",
   "metadata": {
    "colab_type": "text",
    "id": "mdNtSx8skxUg"
   },
   "source": [
    "#### Custom Keras callback for calculating f1, precision, recall at the end of each epoch"
   ]
  },
  {
   "cell_type": "code",
   "execution_count": 27,
   "metadata": {
    "colab": {},
    "colab_type": "code",
    "id": "gd78QZgokt_Q"
   },
   "outputs": [],
   "source": [
    "class Metrics(tf.keras.callbacks.Callback):\n",
    "    def __init__(self, valid_data):\n",
    "        super(Metrics, self).__init__()\n",
    "        self.validation_data = valid_data\n",
    "\n",
    "    def on_epoch_end(self, epoch, logs=None):\n",
    "        logs = logs or {}\n",
    "        val_predict = np.argmax(self.model.predict(self.validation_data[0]), -1)\n",
    "        val_targ = self.validation_data[1]\n",
    "        if len(val_targ.shape) == 2 and val_targ.shape[1] != 1:\n",
    "            val_targ = np.argmax(val_targ, -1)\n",
    "        val_targ = tf.cast(val_targ,dtype=tf.float32)\n",
    "        \n",
    "\n",
    "        _val_f1 = f1_score(val_targ, val_predict,average=\"weighted\")\n",
    "        _val_recall = recall_score(val_targ, val_predict,average=\"weighted\")\n",
    "        _val_precision = precision_score(val_targ, val_predict,average=\"weighted\")\n",
    "\n",
    "        logs['val_f1'] = _val_f1\n",
    "        logs['val_recall'] = _val_recall\n",
    "        logs['val_precision'] = _val_precision\n",
    "        print(\" — val_f1: %f — val_precision: %f — val_recall: %f\" % (_val_f1, _val_precision, _val_recall))\n",
    "        return"
   ]
  },
  {
   "cell_type": "markdown",
   "metadata": {
    "colab_type": "text",
    "id": "LHlY8fQvztSM"
   },
   "source": [
    "#### Custom keras layer for linear and deep self-attention over RNNs output states"
   ]
  },
  {
   "cell_type": "code",
   "execution_count": 28,
   "metadata": {
    "colab": {},
    "colab_type": "code",
    "id": "iPFxqxlbzqAl"
   },
   "outputs": [],
   "source": [
    "import os\n",
    "os.environ['TF_CPP_MIN_LOG_LEVEL'] = '3'\n",
    "import tensorflow as tf\n",
    "import tensorflow.keras.backend as K\n",
    "from tensorflow.keras import initializers, regularizers, constraints\n",
    "from tensorflow.keras.layers import Layer\n",
    "import numpy as np\n",
    "\n",
    "\n",
    "def dot_product(x, kernel):\n",
    "    \"\"\"\n",
    "    Wrapper for dot product operation, in order to be compatible with both\n",
    "    Theano and Tensorflow\n",
    "    Args:\n",
    "        x (): input\n",
    "        kernel (): weights\n",
    "    Returns:\n",
    "    \"\"\"\n",
    "    if K.backend() == 'tensorflow':\n",
    "      return K.squeeze(K.dot(x, K.expand_dims(kernel)), axis=-1)\n",
    "    else:\n",
    "      return K.dot(x, kernel)\n",
    "\n",
    "\n",
    "class LinearAttention(Layer):\n",
    "    def __init__(self,\n",
    "                 kernel_regularizer=None, bias_regularizer=None,\n",
    "                 W_constraint=None, b_constraint=None,\n",
    "                 bias=True,\n",
    "                 return_attention=False,\n",
    "                 **kwargs):\n",
    "        \n",
    "        self.supports_masking = True\n",
    "        self.init = initializers.get('glorot_uniform')\n",
    "\n",
    "        self.W_regularizer = regularizers.get(kernel_regularizer)\n",
    "        self.b_regularizer = regularizers.get(bias_regularizer)\n",
    "\n",
    "        self.W_constraint = constraints.get(W_constraint)\n",
    "        self.b_constraint = constraints.get(b_constraint)\n",
    "\n",
    "        self.bias = bias\n",
    "        self.return_attention = return_attention\n",
    "        super(LinearAttention, self).__init__(**kwargs)\n",
    "\n",
    "    def build(self, input_shape):\n",
    "        assert len(input_shape) == 3\n",
    "\n",
    "        self.W = self.add_weight(shape=(input_shape[-1],),\n",
    "                                 initializer=self.init,\n",
    "                                 name='{}_W'.format(self.name),\n",
    "                                 regularizer=self.W_regularizer,\n",
    "                                 constraint=self.W_constraint)\n",
    "        if self.bias:\n",
    "            self.b = self.add_weight(shape=(1,),\n",
    "                                     initializer='zero',\n",
    "                                     name='{}_b'.format(self.name),\n",
    "                                     regularizer=self.b_regularizer,\n",
    "                                     constraint=self.b_constraint)\n",
    "        else:\n",
    "            self.b = None\n",
    "\n",
    "        self.built = True\n",
    "\n",
    "    def compute_mask(self, inputs, mask=None):\n",
    "        # do not pass the mask to the next layers\n",
    "        if self.return_attention:\n",
    "            return [None, None]\n",
    "        return None\n",
    "\n",
    "    def call(self, x, mask=None):\n",
    "        \n",
    "        # eij = Wx + b\n",
    "        eij = dot_product(x, self.W)\n",
    "\n",
    "        if self.bias:\n",
    "            eij += self.b\n",
    "\n",
    "        # Apply mask\n",
    "        if mask is not None:\n",
    "            eij *= K.cast(mask, K.floatx())\n",
    "\n",
    "        # a = softmax(eij)\n",
    "        a = K.expand_dims(K.softmax(eij, axis=-1))\n",
    "        weighted_input = x * a\n",
    "        result = K.sum(weighted_input, axis=1)\n",
    "\n",
    "        if self.return_attention:\n",
    "            return [result, a]\n",
    "        return result\n",
    "\n",
    "    def compute_output_shape(self, input_shape):\n",
    "        if self.return_attention:\n",
    "            return [(input_shape[0], input_shape[-1]),\n",
    "                    (input_shape[0], input_shape[1])]\n",
    "        else:\n",
    "            return input_shape[0], input_shape[-1]\n",
    "\n",
    "\n",
    "class DeepAttention(Layer):\n",
    "    def __init__(self,\n",
    "                 kernel_regularizer=None, u_regularizer=None, bias_regularizer=None,\n",
    "                 W_constraint=None, u_constraint=None, b_constraint=None,\n",
    "                 bias=True,\n",
    "                 return_attention=False,\n",
    "                 **kwargs):\n",
    "\n",
    "        self.supports_masking = True\n",
    "        self.init = initializers.get('glorot_uniform')\n",
    "\n",
    "        self.W_regularizer = regularizers.get(kernel_regularizer)\n",
    "        self.u_regularizer = regularizers.get(u_regularizer)\n",
    "        self.b1_regularizer = regularizers.get(bias_regularizer)\n",
    "        self.b2_regularizer = regularizers.get(bias_regularizer)\n",
    "\n",
    "        self.W_constraint = constraints.get(W_constraint)\n",
    "        self.u_constraint = constraints.get(u_constraint)\n",
    "        self.b1_constraint = constraints.get(b_constraint)\n",
    "        self.b2_constraint = constraints.get(b_constraint)\n",
    "\n",
    "        self.bias = bias\n",
    "        self.return_attention = return_attention\n",
    "        super(DeepAttention, self).__init__(**kwargs)\n",
    "\n",
    "    def build(self, input_shape):\n",
    "        assert len(input_shape) == 3\n",
    "\n",
    "        self.W = self.add_weight(shape=(input_shape[-1], input_shape[-1],),\n",
    "                                 initializer=self.init,\n",
    "                                 name='{}_W'.format(self.name),\n",
    "                                 regularizer=self.W_regularizer,\n",
    "                                 constraint=self.W_constraint)\n",
    "        if self.bias:\n",
    "            self.b1 = self.add_weight(shape=(input_shape[-1],),\n",
    "                                     initializer='zero',\n",
    "                                     name='{}_b1'.format(self.name),\n",
    "                                     regularizer=self.b1_regularizer,\n",
    "                                     constraint=self.b1_constraint)\n",
    "            self.b2 = self.add_weight(shape=(1,),\n",
    "                                     initializer='zero',\n",
    "                                     name='{}_b2'.format(self.name),\n",
    "                                     regularizer=self.b2_regularizer,\n",
    "                                     constraint=self.b2_constraint)\n",
    "        else:\n",
    "            self.b1 = None\n",
    "            self.b2 = None\n",
    "\n",
    "        self.u = self.add_weight(shape=(input_shape[-1],),\n",
    "                                 initializer=self.init,\n",
    "                                 name='{}_u'.format(self.name),\n",
    "                                 regularizer=self.u_regularizer,\n",
    "                                 constraint=self.u_constraint)\n",
    "\n",
    "        self.built = True\n",
    "\n",
    "\n",
    "    def compute_mask(self, inputs, mask=None):\n",
    "        # do not pass the mask to the next layers\n",
    "        if self.return_attention:\n",
    "            return [None, None]\n",
    "        return None\n",
    "\n",
    "    def call(self, x, mask=None):\n",
    "        # uit = tanh(Wx + b)\n",
    "        uit = dot_product(x, self.W)\n",
    "\n",
    "        if self.bias:\n",
    "            uit += self.b1\n",
    "\n",
    "        uit = K.tanh(uit)\n",
    "\n",
    "        # ait = softmax(Ueij)\n",
    "        eij = dot_product(uit, self.u)\n",
    "        if self.bias:\n",
    "            eij += self.b2\n",
    "\n",
    "        # Apply mask\n",
    "        if mask is not None:\n",
    "            eij *= K.cast(mask, K.floatx())\n",
    "\n",
    "        a = K.expand_dims(K.softmax(eij, axis=-1))\n",
    "        \n",
    "        weighted_input = x * a\n",
    "        result = K.sum(weighted_input, axis=1)\n",
    "\n",
    "        if self.return_attention:\n",
    "            return [result, a]\n",
    "        return result\n",
    "\n",
    "    def compute_output_shape(self, input_shape):\n",
    "        if self.return_attention:\n",
    "            return [(input_shape[0], input_shape[-1]),\n",
    "                    (input_shape[0], input_shape[1])]\n",
    "        else:\n",
    "            return input_shape[0], input_shape[-1]"
   ]
  },
  {
   "cell_type": "markdown",
   "metadata": {
    "colab_type": "text",
    "id": "xtZzom96z0Cc"
   },
   "source": [
    "#### Create and train a BiLSTM + deep self-attention + MLP model"
   ]
  },
  {
   "cell_type": "code",
   "execution_count": 29,
   "metadata": {
    "colab": {
     "base_uri": "https://localhost:8080/",
     "height": 1000
    },
    "colab_type": "code",
    "id": "3Tcy0AmwzyJj",
    "outputId": "4d7c2173-8d53-4400-bc1d-d20bd2b62094"
   },
   "outputs": [
    {
     "name": "stdout",
     "output_type": "stream",
     "text": [
      "WARNING:tensorflow:Layer lstm will not use cuDNN kernel since it doesn't meet the cuDNN kernel criteria. It will use generic GPU kernel as fallback when running on GPU\n",
      "WARNING:tensorflow:Layer lstm will not use cuDNN kernel since it doesn't meet the cuDNN kernel criteria. It will use generic GPU kernel as fallback when running on GPU\n",
      "WARNING:tensorflow:Layer lstm will not use cuDNN kernel since it doesn't meet the cuDNN kernel criteria. It will use generic GPU kernel as fallback when running on GPU\n",
      "Model: \"model\"\n",
      "_________________________________________________________________\n",
      "Layer (type)                 Output Shape              Param #   \n",
      "=================================================================\n",
      "input_1 (InputLayer)         [(None, 50)]              0         \n",
      "_________________________________________________________________\n",
      "embedding (Embedding)        (None, 50, 300)           15000600  \n",
      "_________________________________________________________________\n",
      "dropout (Dropout)            (None, 50, 300)           0         \n",
      "_________________________________________________________________\n",
      "bidirectional (Bidirectional (None, 50, 800)           2243200   \n",
      "_________________________________________________________________\n",
      "dropout_1 (Dropout)          (None, 50, 800)           0         \n",
      "_________________________________________________________________\n",
      "deep_attention (DeepAttentio [(None, 800), (None, 50,  641601    \n",
      "_________________________________________________________________\n",
      "dropout_2 (Dropout)          (None, 800)               0         \n",
      "_________________________________________________________________\n",
      "dense (Dense)                (None, 300)               240300    \n",
      "_________________________________________________________________\n",
      "dropout_3 (Dropout)          (None, 300)               0         \n",
      "_________________________________________________________________\n",
      "dense_1 (Dense)              (None, 2)                 602       \n",
      "=================================================================\n",
      "Total params: 18,126,303\n",
      "Trainable params: 3,125,703\n",
      "Non-trainable params: 15,000,600\n",
      "_________________________________________________________________\n",
      "None\n",
      "Epoch 1/30\n",
      "625/625 [==============================] - ETA: 0s - loss: 0.5374 - accuracy: 0.7290 — val_f1: 0.775404 — val_precision: 0.775475 — val_recall: 0.775400\n",
      "\n",
      "Epoch 00001: val_f1 improved from -inf to 0.77540, saving model to /content/gdrive/My Drive/checkpoints/BiLSTM_attn.hdf5\n",
      "625/625 [==============================] - 117s 188ms/step - loss: 0.5374 - accuracy: 0.7290 - val_loss: 0.4762 - val_accuracy: 0.7754 - val_f1: 0.7754 - val_recall: 0.7754 - val_precision: 0.7755\n",
      "Epoch 2/30\n",
      "625/625 [==============================] - ETA: 0s - loss: 0.4897 - accuracy: 0.7639 — val_f1: 0.786498 — val_precision: 0.787528 — val_recall: 0.786600\n",
      "\n",
      "Epoch 00002: val_f1 improved from 0.77540 to 0.78650, saving model to /content/gdrive/My Drive/checkpoints/BiLSTM_attn.hdf5\n",
      "625/625 [==============================] - 118s 189ms/step - loss: 0.4897 - accuracy: 0.7639 - val_loss: 0.4573 - val_accuracy: 0.7866 - val_f1: 0.7865 - val_recall: 0.7866 - val_precision: 0.7875\n",
      "Epoch 3/30\n",
      "625/625 [==============================] - ETA: 0s - loss: 0.4724 - accuracy: 0.7757 — val_f1: 0.776327 — val_precision: 0.786555 — val_recall: 0.777800\n",
      "\n",
      "Epoch 00003: val_f1 did not improve from 0.78650\n",
      "625/625 [==============================] - 118s 189ms/step - loss: 0.4724 - accuracy: 0.7757 - val_loss: 0.4618 - val_accuracy: 0.7778 - val_f1: 0.7763 - val_recall: 0.7778 - val_precision: 0.7866\n",
      "Epoch 4/30\n",
      "625/625 [==============================] - ETA: 0s - loss: 0.4605 - accuracy: 0.7824 — val_f1: 0.793429 — val_precision: 0.795056 — val_recall: 0.793600\n",
      "\n",
      "Epoch 00004: val_f1 improved from 0.78650 to 0.79343, saving model to /content/gdrive/My Drive/checkpoints/BiLSTM_attn.hdf5\n",
      "625/625 [==============================] - 122s 194ms/step - loss: 0.4605 - accuracy: 0.7824 - val_loss: 0.4466 - val_accuracy: 0.7936 - val_f1: 0.7934 - val_recall: 0.7936 - val_precision: 0.7951\n",
      "Epoch 5/30\n",
      "625/625 [==============================] - ETA: 0s - loss: 0.4513 - accuracy: 0.7878 — val_f1: 0.797604 — val_precision: 0.797642 — val_recall: 0.797600\n",
      "\n",
      "Epoch 00005: val_f1 improved from 0.79343 to 0.79760, saving model to /content/gdrive/My Drive/checkpoints/BiLSTM_attn.hdf5\n",
      "625/625 [==============================] - 121s 194ms/step - loss: 0.4513 - accuracy: 0.7878 - val_loss: 0.4354 - val_accuracy: 0.7976 - val_f1: 0.7976 - val_recall: 0.7976 - val_precision: 0.7976\n",
      "Epoch 6/30\n",
      "625/625 [==============================] - ETA: 0s - loss: 0.4431 - accuracy: 0.7917 — val_f1: 0.799845 — val_precision: 0.800544 — val_recall: 0.799900\n",
      "\n",
      "Epoch 00006: val_f1 improved from 0.79760 to 0.79984, saving model to /content/gdrive/My Drive/checkpoints/BiLSTM_attn.hdf5\n",
      "625/625 [==============================] - 118s 189ms/step - loss: 0.4431 - accuracy: 0.7917 - val_loss: 0.4380 - val_accuracy: 0.7999 - val_f1: 0.7998 - val_recall: 0.7999 - val_precision: 0.8005\n",
      "Epoch 7/30\n",
      "625/625 [==============================] - ETA: 0s - loss: 0.4352 - accuracy: 0.7965 — val_f1: 0.797668 — val_precision: 0.800058 — val_recall: 0.798100\n",
      "\n",
      "Epoch 00007: val_f1 did not improve from 0.79984\n",
      "625/625 [==============================] - 114s 182ms/step - loss: 0.4352 - accuracy: 0.7965 - val_loss: 0.4363 - val_accuracy: 0.7981 - val_f1: 0.7977 - val_recall: 0.7981 - val_precision: 0.8001\n",
      "Epoch 8/30\n",
      "625/625 [==============================] - ETA: 0s - loss: 0.4284 - accuracy: 0.8016 — val_f1: 0.800301 — val_precision: 0.801389 — val_recall: 0.800400\n",
      "\n",
      "Epoch 00008: val_f1 improved from 0.79984 to 0.80030, saving model to /content/gdrive/My Drive/checkpoints/BiLSTM_attn.hdf5\n",
      "625/625 [==============================] - 114s 182ms/step - loss: 0.4284 - accuracy: 0.8016 - val_loss: 0.4321 - val_accuracy: 0.8004 - val_f1: 0.8003 - val_recall: 0.8004 - val_precision: 0.8014\n",
      "Epoch 9/30\n",
      "625/625 [==============================] - ETA: 0s - loss: 0.4183 - accuracy: 0.8067 — val_f1: 0.803200 — val_precision: 0.803199 — val_recall: 0.803200\n",
      "\n",
      "Epoch 00009: val_f1 improved from 0.80030 to 0.80320, saving model to /content/gdrive/My Drive/checkpoints/BiLSTM_attn.hdf5\n",
      "625/625 [==============================] - 113s 181ms/step - loss: 0.4183 - accuracy: 0.8067 - val_loss: 0.4285 - val_accuracy: 0.8032 - val_f1: 0.8032 - val_recall: 0.8032 - val_precision: 0.8032\n",
      "Epoch 10/30\n",
      "625/625 [==============================] - ETA: 0s - loss: 0.4141 - accuracy: 0.8090 — val_f1: 0.806503 — val_precision: 0.807548 — val_recall: 0.806700\n",
      "\n",
      "Epoch 00010: val_f1 improved from 0.80320 to 0.80650, saving model to /content/gdrive/My Drive/checkpoints/BiLSTM_attn.hdf5\n",
      "625/625 [==============================] - 114s 182ms/step - loss: 0.4141 - accuracy: 0.8090 - val_loss: 0.4320 - val_accuracy: 0.8067 - val_f1: 0.8065 - val_recall: 0.8067 - val_precision: 0.8075\n",
      "Epoch 11/30\n",
      "625/625 [==============================] - ETA: 0s - loss: 0.4056 - accuracy: 0.8139 — val_f1: 0.805829 — val_precision: 0.806696 — val_recall: 0.805900\n",
      "\n",
      "Epoch 00011: val_f1 did not improve from 0.80650\n",
      "625/625 [==============================] - 113s 181ms/step - loss: 0.4056 - accuracy: 0.8139 - val_loss: 0.4314 - val_accuracy: 0.8059 - val_f1: 0.8058 - val_recall: 0.8059 - val_precision: 0.8067\n",
      "Epoch 12/30\n",
      "625/625 [==============================] - ETA: 0s - loss: 0.3975 - accuracy: 0.8192 — val_f1: 0.807997 — val_precision: 0.807998 — val_recall: 0.808000\n",
      "\n",
      "Epoch 00012: val_f1 improved from 0.80650 to 0.80800, saving model to /content/gdrive/My Drive/checkpoints/BiLSTM_attn.hdf5\n",
      "625/625 [==============================] - 112s 180ms/step - loss: 0.3975 - accuracy: 0.8192 - val_loss: 0.4287 - val_accuracy: 0.8080 - val_f1: 0.8080 - val_recall: 0.8080 - val_precision: 0.8080\n",
      "Epoch 13/30\n",
      "625/625 [==============================] - ETA: 0s - loss: 0.3912 - accuracy: 0.8220 — val_f1: 0.806199 — val_precision: 0.806346 — val_recall: 0.806200\n",
      "\n",
      "Epoch 00013: val_f1 did not improve from 0.80800\n",
      "625/625 [==============================] - 114s 182ms/step - loss: 0.3912 - accuracy: 0.8220 - val_loss: 0.4325 - val_accuracy: 0.8062 - val_f1: 0.8062 - val_recall: 0.8062 - val_precision: 0.8063\n",
      "Epoch 14/30\n",
      "625/625 [==============================] - ETA: 0s - loss: 0.3863 - accuracy: 0.8253 — val_f1: 0.807801 — val_precision: 0.807921 — val_recall: 0.807800\n",
      "\n",
      "Epoch 00014: val_f1 did not improve from 0.80800\n",
      "625/625 [==============================] - 112s 180ms/step - loss: 0.3863 - accuracy: 0.8253 - val_loss: 0.4274 - val_accuracy: 0.8078 - val_f1: 0.8078 - val_recall: 0.8078 - val_precision: 0.8079\n",
      "Epoch 15/30\n",
      "625/625 [==============================] - ETA: 0s - loss: 0.3773 - accuracy: 0.8291 — val_f1: 0.805655 — val_precision: 0.807185 — val_recall: 0.805800\n",
      "\n",
      "Epoch 00015: val_f1 did not improve from 0.80800\n",
      "625/625 [==============================] - 113s 181ms/step - loss: 0.3773 - accuracy: 0.8291 - val_loss: 0.4340 - val_accuracy: 0.8058 - val_f1: 0.8057 - val_recall: 0.8058 - val_precision: 0.8072\n",
      "Epoch 16/30\n",
      "625/625 [==============================] - ETA: 0s - loss: 0.3680 - accuracy: 0.8334 — val_f1: 0.804029 — val_precision: 0.805767 — val_recall: 0.804200\n",
      "\n",
      "Epoch 00016: val_f1 did not improve from 0.80800\n",
      "625/625 [==============================] - 113s 181ms/step - loss: 0.3680 - accuracy: 0.8334 - val_loss: 0.4442 - val_accuracy: 0.8042 - val_f1: 0.8040 - val_recall: 0.8042 - val_precision: 0.8058\n",
      "Epoch 17/30\n",
      "625/625 [==============================] - ETA: 0s - loss: 0.3598 - accuracy: 0.8376 — val_f1: 0.808820 — val_precision: 0.809180 — val_recall: 0.808900\n",
      "\n",
      "Epoch 00017: val_f1 improved from 0.80800 to 0.80882, saving model to /content/gdrive/My Drive/checkpoints/BiLSTM_attn.hdf5\n",
      "625/625 [==============================] - 112s 179ms/step - loss: 0.3598 - accuracy: 0.8376 - val_loss: 0.4408 - val_accuracy: 0.8089 - val_f1: 0.8088 - val_recall: 0.8089 - val_precision: 0.8092\n",
      "Epoch 18/30\n",
      "625/625 [==============================] - ETA: 0s - loss: 0.3529 - accuracy: 0.8412 — val_f1: 0.807341 — val_precision: 0.808107 — val_recall: 0.807400\n",
      "\n",
      "Epoch 00018: val_f1 did not improve from 0.80882\n",
      "625/625 [==============================] - 114s 182ms/step - loss: 0.3529 - accuracy: 0.8412 - val_loss: 0.4430 - val_accuracy: 0.8074 - val_f1: 0.8073 - val_recall: 0.8074 - val_precision: 0.8081\n",
      "Epoch 19/30\n",
      "625/625 [==============================] - ETA: 0s - loss: 0.3440 - accuracy: 0.8468 — val_f1: 0.806754 — val_precision: 0.807393 — val_recall: 0.806800\n",
      "\n",
      "Epoch 00019: val_f1 did not improve from 0.80882\n",
      "625/625 [==============================] - 112s 180ms/step - loss: 0.3440 - accuracy: 0.8468 - val_loss: 0.4404 - val_accuracy: 0.8068 - val_f1: 0.8068 - val_recall: 0.8068 - val_precision: 0.8074\n",
      "Epoch 20/30\n",
      "625/625 [==============================] - ETA: 0s - loss: 0.3369 - accuracy: 0.8492 — val_f1: 0.804904 — val_precision: 0.804941 — val_recall: 0.804900\n",
      "\n",
      "Epoch 00020: val_f1 did not improve from 0.80882\n",
      "625/625 [==============================] - 112s 180ms/step - loss: 0.3369 - accuracy: 0.8492 - val_loss: 0.4735 - val_accuracy: 0.8049 - val_f1: 0.8049 - val_recall: 0.8049 - val_precision: 0.8049\n",
      "Epoch 21/30\n",
      "625/625 [==============================] - ETA: 0s - loss: 0.3261 - accuracy: 0.8572 — val_f1: 0.804868 — val_precision: 0.804969 — val_recall: 0.804900\n",
      "\n",
      "Epoch 00021: val_f1 did not improve from 0.80882\n",
      "625/625 [==============================] - 112s 180ms/step - loss: 0.3261 - accuracy: 0.8572 - val_loss: 0.4548 - val_accuracy: 0.8049 - val_f1: 0.8049 - val_recall: 0.8049 - val_precision: 0.8050\n",
      "Epoch 22/30\n",
      "625/625 [==============================] - ETA: 0s - loss: 0.3185 - accuracy: 0.8595 — val_f1: 0.801260 — val_precision: 0.801818 — val_recall: 0.801300\n",
      "\n",
      "Epoch 00022: val_f1 did not improve from 0.80882\n",
      "625/625 [==============================] - 112s 179ms/step - loss: 0.3185 - accuracy: 0.8595 - val_loss: 0.4650 - val_accuracy: 0.8013 - val_f1: 0.8013 - val_recall: 0.8013 - val_precision: 0.8018\n",
      "Epoch 23/30\n",
      "625/625 [==============================] - ETA: 0s - loss: 0.3102 - accuracy: 0.8623 — val_f1: 0.805401 — val_precision: 0.805516 — val_recall: 0.805400\n",
      "\n",
      "Epoch 00023: val_f1 did not improve from 0.80882\n",
      "625/625 [==============================] - 112s 179ms/step - loss: 0.3102 - accuracy: 0.8623 - val_loss: 0.4627 - val_accuracy: 0.8054 - val_f1: 0.8054 - val_recall: 0.8054 - val_precision: 0.8055\n",
      "Epoch 24/30\n",
      "625/625 [==============================] - ETA: 0s - loss: 0.3012 - accuracy: 0.8686 — val_f1: 0.808166 — val_precision: 0.808281 — val_recall: 0.808200\n",
      "\n",
      "Epoch 00024: val_f1 did not improve from 0.80882\n",
      "625/625 [==============================] - 112s 179ms/step - loss: 0.3012 - accuracy: 0.8686 - val_loss: 0.4806 - val_accuracy: 0.8082 - val_f1: 0.8082 - val_recall: 0.8082 - val_precision: 0.8083\n",
      "Epoch 25/30\n",
      "625/625 [==============================] - ETA: 0s - loss: 0.2932 - accuracy: 0.8724 — val_f1: 0.806536 — val_precision: 0.806798 — val_recall: 0.806600\n",
      "\n",
      "Epoch 00025: val_f1 did not improve from 0.80882\n",
      "625/625 [==============================] - 112s 179ms/step - loss: 0.2932 - accuracy: 0.8724 - val_loss: 0.4661 - val_accuracy: 0.8066 - val_f1: 0.8065 - val_recall: 0.8066 - val_precision: 0.8068\n",
      "Epoch 26/30\n",
      "625/625 [==============================] - ETA: 0s - loss: 0.2860 - accuracy: 0.8760 — val_f1: 0.801475 — val_precision: 0.802796 — val_recall: 0.801600\n",
      "\n",
      "Epoch 00026: val_f1 did not improve from 0.80882\n",
      "625/625 [==============================] - 112s 179ms/step - loss: 0.2860 - accuracy: 0.8760 - val_loss: 0.4943 - val_accuracy: 0.8016 - val_f1: 0.8015 - val_recall: 0.8016 - val_precision: 0.8028\n",
      "Epoch 27/30\n",
      "625/625 [==============================] - ETA: 0s - loss: 0.2782 - accuracy: 0.8802 — val_f1: 0.796012 — val_precision: 0.796978 — val_recall: 0.796100\n",
      "\n",
      "Epoch 00027: val_f1 did not improve from 0.80882\n",
      "625/625 [==============================] - 112s 180ms/step - loss: 0.2782 - accuracy: 0.8802 - val_loss: 0.5459 - val_accuracy: 0.7961 - val_f1: 0.7960 - val_recall: 0.7961 - val_precision: 0.7970\n",
      "Epoch 28/30\n",
      "625/625 [==============================] - ETA: 0s - loss: 0.2683 - accuracy: 0.8856 — val_f1: 0.800564 — val_precision: 0.801794 — val_recall: 0.800800\n",
      "\n",
      "Epoch 00028: val_f1 did not improve from 0.80882\n",
      "625/625 [==============================] - 113s 181ms/step - loss: 0.2683 - accuracy: 0.8856 - val_loss: 0.5204 - val_accuracy: 0.8008 - val_f1: 0.8006 - val_recall: 0.8008 - val_precision: 0.8018\n",
      "Epoch 29/30\n",
      "625/625 [==============================] - ETA: 0s - loss: 0.2626 - accuracy: 0.8873 — val_f1: 0.795067 — val_precision: 0.797201 — val_recall: 0.795300\n",
      "\n",
      "Epoch 00029: val_f1 did not improve from 0.80882\n",
      "625/625 [==============================] - 114s 182ms/step - loss: 0.2626 - accuracy: 0.8873 - val_loss: 0.5188 - val_accuracy: 0.7953 - val_f1: 0.7951 - val_recall: 0.7953 - val_precision: 0.7972\n",
      "Epoch 30/30\n",
      "625/625 [==============================] - ETA: 0s - loss: 0.2548 - accuracy: 0.8904 — val_f1: 0.795859 — val_precision: 0.797271 — val_recall: 0.796000\n",
      "\n",
      "Epoch 00030: val_f1 did not improve from 0.80882\n",
      "625/625 [==============================] - 114s 182ms/step - loss: 0.2548 - accuracy: 0.8904 - val_loss: 0.5344 - val_accuracy: 0.7960 - val_f1: 0.7959 - val_recall: 0.7960 - val_precision: 0.7973\n"
     ]
    }
   ],
   "source": [
    "import os\n",
    "os.environ['TF_CPP_MIN_LOG_LEVEL'] = '3'\n",
    "import tensorflow as tf\n",
    "from tensorflow.keras.callbacks import ModelCheckpoint\n",
    "from tensorflow.keras.layers import Dense, Dropout, Bidirectional, LSTM, Embedding, Input\n",
    "from tensorflow.keras.optimizers import Adam\n",
    "import tensorflow.keras.backend as K\n",
    "from tensorflow.keras import Model\n",
    "\n",
    "\n",
    "LSTM_SIZE = 400\n",
    "DENSE = 300\n",
    "\n",
    "with tf.device('/device:GPU:0'):\n",
    "\n",
    "  inputs = Input((MAX_SEQUENCE_LENGTH,))\n",
    "  embeddings = Embedding(MAX_WORDS+2,EMBEDDING_DIM, weights=[embedding_matrix], \n",
    "                      input_length=MAX_SEQUENCE_LENGTH, mask_zero=True, trainable=False)(inputs)\n",
    "  drop_emb = Dropout(0.33)(embeddings)\n",
    "  bilstm = Bidirectional(LSTM(units=LSTM_SIZE, return_sequences=True,recurrent_dropout = 0.33))(drop_emb)\n",
    "  drop_encodings = Dropout(0.33)(bilstm)\n",
    "  x, attn = DeepAttention(return_attention=True)(drop_encodings)\n",
    "  #x, attn = LinearAttention(return_attention=True)(drop_encodings)\n",
    "  drop_x = Dropout(0.33)(x)\n",
    "  hidden = Dense(units=DENSE, activation=\"relu\")(drop_x)\n",
    "  drop_out = Dropout(0.33)(hidden)\n",
    "  out = Dense(units=2, activation=\"softmax\")(drop_out)\n",
    "  model = Model(inputs, out)\n",
    "  print(model.summary())\n",
    "\n",
    "  model.compile(loss='categorical_crossentropy',\n",
    "                    optimizer=Adam(lr=0.001),\n",
    "                    metrics=[\"accuracy\"])\n",
    "\n",
    "  if not os.path.exists('/content/gdrive/My Drive/checkpoints'):\n",
    "    os.makedirs('/content/gdrive/My Drive/checkpoints')\n",
    "\n",
    "  checkpoint = ModelCheckpoint('/content/gdrive/My Drive/checkpoints/BiLSTM_attn.hdf5',\n",
    "                                                 monitor='val_f1', \n",
    "                                                 mode='max', verbose=2,\n",
    "                                                 save_best_only=True,\n",
    "                                                 save_weights_only=True)\n",
    "\n",
    "  history = model.fit(train_data, y_train2,\n",
    "                validation_data=(dev_data, y_dev2),\n",
    "                batch_size=128,\n",
    "                epochs=30,\n",
    "                shuffle=True,\n",
    "                callbacks=[Metrics(valid_data=(dev_data, y_dev2)),\n",
    "                checkpoint])"
   ]
  },
  {
   "cell_type": "markdown",
   "metadata": {
    "colab_type": "text",
    "id": "ejISuumUJRwN"
   },
   "source": [
    "#### Visualize Model's Training History\n"
   ]
  },
  {
   "cell_type": "code",
   "execution_count": 31,
   "metadata": {
    "colab": {
     "base_uri": "https://localhost:8080/",
     "height": 730
    },
    "colab_type": "code",
    "id": "hOmNuZcOJCiX",
    "outputId": "b730c51a-301a-4d00-9948-376808571bb9"
   },
   "outputs": [
    {
     "data": {
      "image/png": "[encoded data removed]",
      "text/plain": [
       "<Figure size 864x864 with 3 Axes>"
      ]
     },
     "metadata": {
      "needs_background": "light",
      "tags": []
     },
     "output_type": "display_data"
    }
   ],
   "source": [
    "# summarize history for accuracy\n",
    "\n",
    "fig, ax = plt.subplots(figsize=(12,12))\n",
    "ax = fig.add_subplot(2,1,1)\n",
    "\n",
    "ax.plot(history.history['accuracy'])\n",
    "ax.plot(history.history['val_accuracy'])\n",
    "ax.set_title('model accuracy')\n",
    "ax.set_ylabel('accuracy')\n",
    "ax.set_xlabel('epoch')\n",
    "ax.legend(['train', 'dev'], loc='upper left')\n",
    "\n",
    "ax = fig.add_subplot(2,1,2)\n",
    "# summarize history for loss\n",
    "ax.plot(history.history['loss'])\n",
    "ax.plot(history.history['val_loss'])\n",
    "ax.set_title('model loss')\n",
    "ax.set_ylabel('loss')\n",
    "ax.set_xlabel('epoch')\n",
    "ax.legend(['train', 'dev'], loc='upper right')\n",
    "fig.savefig(\"/content/gdrive/My Drive/checkpoints/History_self-attention_rnn.pdf\")\n",
    "plt.show()\n",
    "\n"
   ]
  },
  {
   "cell_type": "markdown",
   "metadata": {
    "colab_type": "text",
    "id": "8ZODMvP_0bKF"
   },
   "source": [
    "#### Evaluate performance of BiLSTM + deep self-attention + MLP model on dev data\n"
   ]
  },
  {
   "cell_type": "code",
   "execution_count": 30,
   "metadata": {
    "colab": {
     "base_uri": "https://localhost:8080/",
     "height": 710
    },
    "colab_type": "code",
    "id": "b9adHX220fi8",
    "outputId": "fc0ad665-9ef4-4db7-f8dd-47944aa469aa"
   },
   "outputs": [
    {
     "name": "stdout",
     "output_type": "stream",
     "text": [
      "WARNING:tensorflow:Layer lstm_1 will not use cuDNN kernel since it doesn't meet the cuDNN kernel criteria. It will use generic GPU kernel as fallback when running on GPU\n",
      "WARNING:tensorflow:Layer lstm_1 will not use cuDNN kernel since it doesn't meet the cuDNN kernel criteria. It will use generic GPU kernel as fallback when running on GPU\n",
      "WARNING:tensorflow:Layer lstm_1 will not use cuDNN kernel since it doesn't meet the cuDNN kernel criteria. It will use generic GPU kernel as fallback when running on GPU\n",
      "Dev set performance\n",
      "              precision    recall  f1-score   support\n",
      "\n",
      "           0       0.83      0.80      0.81      5123\n",
      "           1       0.80      0.83      0.81      4877\n",
      "\n",
      "    accuracy                           0.81     10000\n",
      "   macro avg       0.81      0.81      0.81     10000\n",
      "weighted avg       0.81      0.81      0.81     10000\n",
      "\n",
      "Keras RNN classifier- Train scores:\n",
      "+-------+-------------+----------+-------+\n",
      "|       |   precision |   recall |    f1 |\n",
      "|-------+-------------+----------+-------|\n",
      "| 0     |       0.882 |    0.852 | 0.867 |\n",
      "| 1     |       0.858 |    0.886 | 0.872 |\n",
      "| macro |       0.87  |    0.869 | 0.869 |\n",
      "+-------+-------------+----------+-------+\n",
      "---------------------------------------------------------\n",
      "Keras RNN classifier- Dev scores:\n",
      "+-------+-------------+----------+-------+\n",
      "|       |   precision |   recall |    f1 |\n",
      "|-------+-------------+----------+-------|\n",
      "| 0     |       0.818 |    0.791 | 0.804 |\n",
      "| 1     |       0.801 |    0.827 | 0.814 |\n",
      "| macro |       0.809 |    0.809 | 0.809 |\n",
      "+-------+-------------+----------+-------+\n",
      "---------------------------------------------------------\n",
      "Keras RNN classifier- Test scores:\n",
      "+-------+-------------+----------+-------+\n",
      "|       |   precision |   recall |    f1 |\n",
      "|-------+-------------+----------+-------|\n",
      "| 0     |       0.834 |    0.795 | 0.814 |\n",
      "| 1     |       0.795 |    0.834 | 0.814 |\n",
      "| macro |       0.814 |    0.814 | 0.814 |\n",
      "+-------+-------------+----------+-------+\n"
     ]
    }
   ],
   "source": [
    "import os\n",
    "os.environ['TF_CPP_MIN_LOG_LEVEL'] = '3'\n",
    "import tensorflow as tf\n",
    "from tensorflow.keras.callbacks import ModelCheckpoint\n",
    "from tensorflow.keras.layers import Dense, Dropout, Bidirectional, LSTM, Embedding, Input\n",
    "from tensorflow.keras.optimizers import Adam\n",
    "import tensorflow.keras.backend as K\n",
    "from tensorflow.keras import Model\n",
    "from sklearn.metrics import classification_report\n",
    "\n",
    "LSTM_SIZE = 400\n",
    "DENSE = 300\n",
    "\n",
    "with tf.device('/device:GPU:0'):\n",
    "\n",
    "  inputs = Input((MAX_SEQUENCE_LENGTH,))\n",
    "  embeddings = Embedding(MAX_WORDS+2,EMBEDDING_DIM, weights=[embedding_matrix], \n",
    "                      input_length=MAX_SEQUENCE_LENGTH, mask_zero=True, trainable=False)(inputs)\n",
    "  bilstm = Bidirectional(LSTM(units=LSTM_SIZE, return_sequences=True,recurrent_dropout = 0.33))(embeddings)\n",
    "  x, attn = DeepAttention(return_attention=True)(bilstm)\n",
    "  hidden = Dense(units=DENSE, activation=\"relu\")(x)\n",
    "  out = Dense(units=2, activation=\"softmax\")(hidden)\n",
    "  model = Model(inputs, out)\n",
    "  #load weights from the pre-trained model\n",
    "  model.load_weights(\"/content/gdrive/My Drive/checkpoints/BiLSTM_attn.hdf5\")\n",
    "  \n",
    "  print(\"Dev set performance\")\n",
    "  predictions = np.argmax(model.predict(test_data), -1)\n",
    "  print(classification_report(y_test, predictions)) #, target_names=twenty_train.target_names\n",
    "\n",
    "  print_classifier_scores(model, 'Keras RNN classifier', train_data, y_train\n",
    "  , dev_data, y_dev\n",
    "  , test_data, y_test,0.5)"
   ]
  },
  {
   "cell_type": "markdown",
   "metadata": {
    "colab_type": "text",
    "id": "Q27wBrdXeth0"
   },
   "source": [
    "### Precision - Recall Curve\n"
   ]
  },
  {
   "cell_type": "code",
   "execution_count": 35,
   "metadata": {
    "colab": {
     "base_uri": "https://localhost:8080/",
     "height": 981
    },
    "colab_type": "code",
    "id": "nuGqY_2uercj",
    "outputId": "9434a9de-46e0-4056-a88e-1fe0de550139"
   },
   "outputs": [
    {
     "data": {
      "image/png": "[encoded data removed]",
      "text/plain": [
       "<Figure size 864x576 with 1 Axes>"
      ]
     },
     "metadata": {
      "needs_background": "light",
      "tags": []
     },
     "output_type": "display_data"
    },
    {
     "data": {
      "image/png": "[encoded data removed]",
      "text/plain": [
       "<Figure size 864x576 with 1 Axes>"
      ]
     },
     "metadata": {
      "needs_background": "light",
      "tags": []
     },
     "output_type": "display_data"
    }
   ],
   "source": [
    "def plot_precision_recall_curve(estimator, estimator_name, X, y_true, is_keras=True):\n",
    "  # predict using given estimator\n",
    "\n",
    "  if is_keras:\n",
    "    y_pred = estimator.predict(X)\n",
    "  else:\n",
    "    y_pred = estimator.predict_proba(X)\n",
    "  precisions = []\n",
    "  recalls = []\n",
    "  \n",
    "  # thresholds list\n",
    "  thres = np.linspace(0,1,1000)\n",
    "\n",
    "  # keep scores for each threshold\n",
    "  for t in thres:\n",
    "    prec_dict, rec_dict, _ = get_scores(y_true, y_pred, t)\n",
    "\n",
    "    precisions.append(prec_dict['macro'])\n",
    "    recalls.append(rec_dict['macro'])\n",
    "\n",
    "  # calculate area-under-curve\n",
    "  area = auc(recalls, precisions)\n",
    "\n",
    "  # plot\n",
    "  fig, ax = plt.subplots(figsize=(12,8))\n",
    "  ax.set_title('Macro Precision-Recall Curve for %s: AUC=%0.3f' % (estimator_name,area))\n",
    "  ax.plot(recalls, precisions, marker='.', label=estimator_name)\n",
    "  ax.plot(thres,np.zeros(len(thres)), linestyle='--', label='No Skill')\n",
    "  ax.set_xlim(0,1)\n",
    "  ax.legend()\n",
    "  fig.savefig(\"/content/gdrive/My Drive/checkpoints/\"+str(estimator_name)+\"_PR_CURVE.pdf\")\n",
    "\n",
    "\n",
    "pipeline_list = [\n",
    "                 [lg_pipeline,'Logistic Regression',False]\n",
    "                ,[model,'Sentiment Keras RNN',True]\n",
    "               ]\n",
    "\n",
    "for pipe in pipeline_list:\n",
    "  plot_precision_recall_curve(pipe[0], pipe[1], test_data, y_test, is_keras=pipe[2])"
   ]
  },
  {
   "cell_type": "markdown",
   "metadata": {
    "colab_type": "text",
    "id": "TvaW8CjXHagM"
   },
   "source": [
    "#### Bootstrap Statistical Significance Tests"
   ]
  },
  {
   "cell_type": "code",
   "execution_count": null,
   "metadata": {
    "colab": {
     "base_uri": "https://localhost:8080/",
     "height": 68
    },
    "colab_type": "code",
    "id": "zCSTTXlaZj-x",
    "outputId": "41af118c-13c8-41ab-f329-9761aa18a5f7"
   },
   "outputs": [
    {
     "name": "stdout",
     "output_type": "stream",
     "text": [
      "Base macro-f1: 0.3278\n",
      "SGD macro-f1: 0.7398\n",
      "Keras macro-f1: 0.8106\n"
     ]
    }
   ],
   "source": [
    "# Initialize classifiers ##########################################\n",
    "# Base\n",
    "y_pred = base_pipeline.predict_proba(test_data)\n",
    "_, _, bs_f1 = get_scores(y_test, y_pred, 0.5)\n",
    "print('Base macro-f1: {:.4f}'.format( bs_f1['macro']))\n",
    "\n",
    "# SGD\n",
    "y_pred = lg_pipeline.predict_proba(test_data)\n",
    "_, _, sgd_f1 = get_scores(y_test, y_pred, 0.5)\n",
    "print('SGD macro-f1: {:.4f}'.format(sgd_f1['macro']))\n",
    "\n",
    "# Keras\n",
    "y_pred = model.predict(test_data)\n",
    "_, _, ks_f1 = get_scores(y_test, y_pred, 0.5)\n",
    "print('Keras macro-f1: {:.4f}'.format( ks_f1['macro']))"
   ]
  },
  {
   "cell_type": "code",
   "execution_count": null,
   "metadata": {
    "colab": {
     "base_uri": "https://localhost:8080/",
     "height": 68
    },
    "colab_type": "code",
    "id": "tNlIgHPqHiNW",
    "outputId": "147605f2-ff4d-400f-b6df-f99eec568a01"
   },
   "outputs": [
    {
     "name": "stdout",
     "output_type": "stream",
     "text": [
      "Keras vs Baseline, p_value:  0.0000\n",
      "Keras vs Logistic Regression, p_value: 0.0000\n",
      "Elapsed time 3234 seconds\n"
     ]
    }
   ],
   "source": [
    "# Bootstrapping significance test ###################################\n",
    "\n",
    "def bootstrap_sign_test(best_estimator, comp_estimator, X, y, b, N):\n",
    "  \"\"\"\n",
    "  Input:\n",
    "    best_estimator: best scoring keras estimator in terms of macro-f1\n",
    "    comp_estimator: pipeline to be compared with the best\n",
    "    X: array with X dataset\n",
    "    y: \n",
    "    b: number of sampling datasets\n",
    "    N: size of sampling datasets\n",
    "\n",
    "  Output:\n",
    "    p_value: p-value for the bootstrapping significance test\n",
    "  \"\"\"\n",
    "  y1 = best_estimator.predict(X)\n",
    "  _, _, e1_f1 = get_scores(y, y1, 0.5)\n",
    "\n",
    "  y2 = comp_estimator.predict_proba(X)\n",
    "  _, _, e2_f1 = get_scores(y, y2, 0.5)\n",
    "  \n",
    "  # calculate true difference\n",
    "  delta = e1_f1['macro'] - e2_f1['macro']\n",
    "\n",
    "  diffs = []\n",
    "\n",
    "  # calculate a diff for each simulated sample dataset\n",
    "  for i in range(b):\n",
    "    # generate N random indexes with replacement\n",
    "    random_idx = np.random.choice(X.shape[0], N, replace=True) \n",
    "    bootstrap = X[random_idx, :]\n",
    "    y_best = best_estimator.predict( bootstrap )\n",
    "    y_comp = comp_estimator.predict_proba( bootstrap )\n",
    "\n",
    "    _, _, best_f1 = get_scores(y[random_idx], y_best, 0.5)\n",
    "    _, _, comp_f1 = get_scores(y[random_idx], y_comp, 0.5)\n",
    "    diffs.append(best_f1['macro'] - comp_f1['macro'])\n",
    "  \n",
    "  # calculate p-value\n",
    "  s = 0\n",
    "  for i in range(b):\n",
    "    if diffs[i] > 2 * delta:\n",
    "      s += 1\n",
    "  p_value = s/b\n",
    "  \n",
    "  return p_value\n",
    "\n",
    "# print p-values\n",
    "start_time = time.time()\n",
    "\n",
    "print('Keras vs Baseline, p_value:  {:.4f}' .format( bootstrap_sign_test(model, base_pipeline, test_data, y_test, b = 1000, N = 1000) ))\n",
    "print('Keras vs Logistic Regression, p_value: {:.4f}' .format( bootstrap_sign_test(model, lg_pipeline, test_data, y_test, b = 1000, N = 1000) ))\n",
    "\n",
    "elapsed_time = time.time() - start_time\n",
    "\n",
    "print('Elapsed time {:.0f} seconds'.format(elapsed_time))"
   ]
  },
  {
   "cell_type": "markdown",
   "metadata": {
    "colab_type": "text",
    "id": "4ok-0yQWD-7n"
   },
   "source": [
    "#### Learning Curves"
   ]
  },
  {
   "cell_type": "code",
   "execution_count": null,
   "metadata": {
    "colab": {
     "base_uri": "https://localhost:8080/",
     "height": 598
    },
    "colab_type": "code",
    "id": "37qeZKNGw_TH",
    "outputId": "80a95491-e585-4e45-bb7e-fcf0fd0e4ca4"
   },
   "outputs": [
    {
     "name": "stdout",
     "output_type": "stream",
     "text": [
      "Process ended for trainsize: 10.0 % :\n",
      "Process ended for trainsize: 32.5 % :\n",
      "Process ended for trainsize: 55.00000000000001 % :\n",
      "Process ended for trainsize: 77.5 % :\n",
      "Process ended for trainsize: 100.0 % :\n"
     ]
    },
    {
     "data": {
      "image/png": "[encoded data removed]",
      "text/plain": [
       "<Figure size 864x576 with 1 Axes>"
      ]
     },
     "metadata": {
      "needs_background": "light",
      "tags": []
     },
     "output_type": "display_data"
    }
   ],
   "source": [
    "def plot_learning_curve(estimator, title, X, y, X_dev, y_dev, ylim=None, train_sizes=np.linspace(.1, 1.0, 5), is_keras=False):\n",
    "  \n",
    "  total_length = X.shape[0] \n",
    "  fig, ax = plt.subplots(figsize=(12,8))\n",
    "  ax.set_title(title)\n",
    "  if ylim is not None:\n",
    "    ax.set_ylim(*ylim)\n",
    "  ax.set_xlabel(\"Training examples\")\n",
    "  ax.set_ylabel(\"Macro F1-score\")\n",
    "\n",
    "  f1_train = []\n",
    "  f1_dev = []\n",
    "\n",
    "  # for each training subset, fit and predict\n",
    "  for t_sz in train_sizes:\n",
    "    X_subset = X[:int(t_sz * total_length)]\n",
    "    y_subset = y[:int(t_sz * total_length)]\n",
    "\n",
    "    # make y 2-dim if estimator is keras\n",
    "    if is_keras==True:\n",
    "      # fit MLP estimator\n",
    "      y_subset2 = np.vstack(( 1-y_subset, y_subset)).T\n",
    "      y_dev2 = np.vstack(( 1-y_dev, y_dev)).T\n",
    "      \n",
    "      estimator.compile(loss='categorical_crossentropy',\n",
    "                    optimizer=Adam(lr=0.001),\n",
    "                    metrics=[\"accuracy\"])\n",
    "      \n",
    "      estimator.fit(X_subset, y_subset2,\n",
    "              batch_size=128,\n",
    "              epochs=30,\n",
    "              verbose = 0,\n",
    "              #callbacks=my_callbacks, we dont need callbacks now\n",
    "              #validation_data=(X_dev, y_dev2),\n",
    "              shuffle=True)\n",
    "    else:\n",
    "        # fit sklearn estimator\n",
    "        estimator.fit(X_subset, y_subset2)\n",
    "    \n",
    "    if is_keras==True:  \n",
    "      y_pred = estimator.predict(X_subset)\n",
    "      y_pred_dev = estimator.predict(X_dev)\n",
    "    else:\n",
    "      y_pred = estimator.predict_proba(X_subset)\n",
    "      y_pred_dev = estimator.predict_proba(X_dev)\n",
    "\n",
    "    _, _, f1_dict = get_scores(y_subset, y_pred, 0.5)\n",
    "    _, _, f1_dict_dev = get_scores(y_dev, y_pred_dev, 0.5)\n",
    "    f1_train.append(f1_dict['macro'])\n",
    "    f1_dev.append(f1_dict_dev['macro'])\n",
    "    print(\"Process ended for trainsize: {.2f} % :\".format(t_sz*100))\n",
    "\n",
    "  ax.grid()\n",
    "  ax.plot(train_sizes, f1_train, 'o-', color=\"b\",\n",
    "            label=\"Training score\")\n",
    "  ax.plot(train_sizes, f1_dev, 'o-', color=\"orange\",\n",
    "            label=\"Cross-validation score\")\n",
    "\n",
    "  ax.legend(loc=\"lower right\")\n",
    "  fig.savefig(\"/content/gdrive/My Drive/checkpoints/\"+title+'.pdf')\n",
    "\n",
    "start_time = time.time()\n",
    "plot_learning_curve(model, \"Learning Curves (Keras)\"\n",
    "                    , train_data, y_train\n",
    "                    , dev_data, y_dev\n",
    "                    , train_sizes = np.linspace(.1, 1.0, 5)\n",
    "                    ,is_keras = True\n",
    "                    )\n",
    "elapsed_time = time.time() - start_time\n",
    "\n",
    "print('Elapsed time {:.0f} seconds'.format(elapsed_time))"
   ]
  },
  {
   "cell_type": "markdown",
   "metadata": {
    "colab_type": "text",
    "id": "WwIncvGN-vMh"
   },
   "source": [
    "### Appendix A - Randomized GridSearch"
   ]
  },
  {
   "cell_type": "code",
   "execution_count": null,
   "metadata": {
    "colab": {
     "base_uri": "https://localhost:8080/",
     "height": 1000
    },
    "colab_type": "code",
    "id": "ZTYBJba2uP-_",
    "outputId": "63cc6fc0-6162-4d86-9bfd-ae2f31daabc9"
   },
   "outputs": [
    {
     "name": "stdout",
     "output_type": "stream",
     "text": [
      "Fitting 3 folds for each of 8 candidates, totalling 24 fits\n",
      "[CV] lstm_sz=400, is_deep=True, drp4=0.4, drp3=0.33, drp2=0.4, drp1=0.33, dns_sz=300 \n"
     ]
    },
    {
     "name": "stderr",
     "output_type": "stream",
     "text": [
      "[Parallel(n_jobs=1)]: Using backend SequentialBackend with 1 concurrent workers.\n"
     ]
    },
    {
     "name": "stdout",
     "output_type": "stream",
     "text": [
      "WARNING:tensorflow:Layer lstm_1 will not use cuDNN kernel since it doesn't meet the cuDNN kernel criteria. It will use generic GPU kernel as fallback when running on GPU\n",
      "WARNING:tensorflow:Layer lstm_1 will not use cuDNN kernel since it doesn't meet the cuDNN kernel criteria. It will use generic GPU kernel as fallback when running on GPU\n",
      "WARNING:tensorflow:Layer lstm_1 will not use cuDNN kernel since it doesn't meet the cuDNN kernel criteria. It will use generic GPU kernel as fallback when running on GPU\n",
      "Epoch 1/20\n",
      "1667/1667 [==============================] - 584s 350ms/step - loss: 0.5465 - accuracy: 0.7234\n",
      "Epoch 2/20\n",
      "1667/1667 [==============================] - 581s 348ms/step - loss: 0.4932 - accuracy: 0.7637\n",
      "Epoch 3/20\n",
      "1667/1667 [==============================] - 579s 347ms/step - loss: 0.4744 - accuracy: 0.7743\n",
      "Epoch 4/20\n",
      "1667/1667 [==============================] - 579s 348ms/step - loss: 0.4613 - accuracy: 0.7805\n",
      "Epoch 5/20\n",
      "1667/1667 [==============================] - 581s 349ms/step - loss: 0.4501 - accuracy: 0.7883\n",
      "Epoch 6/20\n",
      "1667/1667 [==============================] - 582s 349ms/step - loss: 0.4401 - accuracy: 0.7956\n",
      "Epoch 7/20\n",
      "1667/1667 [==============================] - 581s 348ms/step - loss: 0.4310 - accuracy: 0.7993\n",
      "Epoch 8/20\n",
      "1667/1667 [==============================] - 575s 345ms/step - loss: 0.4205 - accuracy: 0.8061\n",
      "Epoch 9/20\n",
      "1667/1667 [==============================] - 571s 343ms/step - loss: 0.4093 - accuracy: 0.8122\n",
      "Epoch 10/20\n",
      "1667/1667 [==============================] - 570s 342ms/step - loss: 0.3970 - accuracy: 0.8186\n",
      "Epoch 11/20\n",
      "1667/1667 [==============================] - 568s 341ms/step - loss: 0.3883 - accuracy: 0.8240\n",
      "Epoch 12/20\n",
      "1667/1667 [==============================] - 564s 338ms/step - loss: 0.3782 - accuracy: 0.8276\n",
      "Epoch 13/20\n",
      "1667/1667 [==============================] - 575s 345ms/step - loss: 0.3689 - accuracy: 0.8342\n",
      "Epoch 14/20\n",
      "1667/1667 [==============================] - 568s 341ms/step - loss: 0.3550 - accuracy: 0.8405\n",
      "Epoch 15/20\n",
      "1667/1667 [==============================] - 570s 342ms/step - loss: 0.3401 - accuracy: 0.8487\n",
      "Epoch 16/20\n",
      "1667/1667 [==============================] - 571s 343ms/step - loss: 0.3291 - accuracy: 0.8527\n",
      "Epoch 17/20\n",
      "1667/1667 [==============================] - 564s 338ms/step - loss: 0.3209 - accuracy: 0.8583\n",
      "Epoch 18/20\n",
      "1667/1667 [==============================] - 566s 339ms/step - loss: 0.3087 - accuracy: 0.8661\n",
      "Epoch 19/20\n",
      "1667/1667 [==============================] - 563s 338ms/step - loss: 0.2980 - accuracy: 0.8701\n",
      "Epoch 20/20\n",
      "1667/1667 [==============================] - 570s 342ms/step - loss: 0.2882 - accuracy: 0.8745\n",
      "834/834 [==============================] - 37s 44ms/step\n",
      "[CV]  lstm_sz=400, is_deep=True, drp4=0.4, drp3=0.33, drp2=0.4, drp1=0.33, dns_sz=300, score=0.804, total=191.9min\n",
      "[CV] lstm_sz=400, is_deep=True, drp4=0.4, drp3=0.33, drp2=0.4, drp1=0.33, dns_sz=300 \n",
      "WARNING:tensorflow:Layer lstm_2 will not use cuDNN kernel since it doesn't meet the cuDNN kernel criteria. It will use generic GPU kernel as fallback when running on GPU\n",
      "WARNING:tensorflow:Layer lstm_2 will not use cuDNN kernel since it doesn't meet the cuDNN kernel criteria. It will use generic GPU kernel as fallback when running on GPU\n",
      "WARNING:tensorflow:Layer lstm_2 will not use cuDNN kernel since it doesn't meet the cuDNN kernel criteria. It will use generic GPU kernel as fallback when running on GPU\n"
     ]
    },
    {
     "name": "stderr",
     "output_type": "stream",
     "text": [
      "[Parallel(n_jobs=1)]: Done   1 out of   1 | elapsed: 191.9min remaining:    0.0s\n"
     ]
    },
    {
     "name": "stdout",
     "output_type": "stream",
     "text": [
      "Epoch 1/20\n",
      "1667/1667 [==============================] - 572s 343ms/step - loss: 0.5444 - accuracy: 0.7242\n",
      "Epoch 2/20\n",
      "1667/1667 [==============================] - 562s 337ms/step - loss: 0.4914 - accuracy: 0.7645\n",
      "Epoch 3/20\n",
      "1667/1667 [==============================] - 555s 333ms/step - loss: 0.4749 - accuracy: 0.7754\n",
      "Epoch 4/20\n",
      "1667/1667 [==============================] - 563s 337ms/step - loss: 0.4611 - accuracy: 0.7818\n",
      "Epoch 5/20\n",
      "1667/1667 [==============================] - 559s 335ms/step - loss: 0.4482 - accuracy: 0.7889\n",
      "Epoch 6/20\n",
      "1667/1667 [==============================] - 558s 335ms/step - loss: 0.4410 - accuracy: 0.7940\n",
      "Epoch 7/20\n",
      "1667/1667 [==============================] - 568s 341ms/step - loss: 0.4310 - accuracy: 0.7986\n",
      "Epoch 8/20\n",
      "1667/1667 [==============================] - 591s 354ms/step - loss: 0.4217 - accuracy: 0.8062\n",
      "Epoch 9/20\n",
      "1667/1667 [==============================] - 589s 353ms/step - loss: 0.4111 - accuracy: 0.8116\n",
      "Epoch 10/20\n",
      "1667/1667 [==============================] - 583s 350ms/step - loss: 0.4018 - accuracy: 0.8159\n",
      "Epoch 11/20\n",
      "1667/1667 [==============================] - 591s 354ms/step - loss: 0.3891 - accuracy: 0.8227\n",
      "Epoch 12/20\n",
      "1667/1667 [==============================] - 606s 363ms/step - loss: 0.3803 - accuracy: 0.8269\n",
      "Epoch 13/20\n",
      "1667/1667 [==============================] - 594s 357ms/step - loss: 0.3684 - accuracy: 0.8334\n",
      "Epoch 14/20\n",
      "1667/1667 [==============================] - 601s 361ms/step - loss: 0.3574 - accuracy: 0.8389\n",
      "Epoch 15/20\n",
      "1667/1667 [==============================] - 576s 346ms/step - loss: 0.3443 - accuracy: 0.8461\n",
      "Epoch 16/20\n",
      "1667/1667 [==============================] - 576s 346ms/step - loss: 0.3352 - accuracy: 0.8513\n",
      "Epoch 17/20\n",
      "1667/1667 [==============================] - 585s 351ms/step - loss: 0.3237 - accuracy: 0.8575\n",
      "Epoch 18/20\n",
      "1667/1667 [==============================] - 584s 350ms/step - loss: 0.3105 - accuracy: 0.8649\n",
      "Epoch 19/20\n",
      "1667/1667 [==============================] - 584s 350ms/step - loss: 0.2985 - accuracy: 0.8705\n",
      "Epoch 20/20\n",
      "1667/1667 [==============================] - 578s 347ms/step - loss: 0.2895 - accuracy: 0.8747\n",
      "834/834 [==============================] - 37s 44ms/step\n",
      "[CV]  lstm_sz=400, is_deep=True, drp4=0.4, drp3=0.33, drp2=0.4, drp1=0.33, dns_sz=300, score=0.795, total=193.7min\n",
      "[CV] lstm_sz=400, is_deep=True, drp4=0.4, drp3=0.33, drp2=0.4, drp1=0.33, dns_sz=300 \n",
      "WARNING:tensorflow:Layer lstm_3 will not use cuDNN kernel since it doesn't meet the cuDNN kernel criteria. It will use generic GPU kernel as fallback when running on GPU\n",
      "WARNING:tensorflow:Layer lstm_3 will not use cuDNN kernel since it doesn't meet the cuDNN kernel criteria. It will use generic GPU kernel as fallback when running on GPU\n",
      "WARNING:tensorflow:Layer lstm_3 will not use cuDNN kernel since it doesn't meet the cuDNN kernel criteria. It will use generic GPU kernel as fallback when running on GPU\n"
     ]
    },
    {
     "name": "stderr",
     "output_type": "stream",
     "text": [
      "[Parallel(n_jobs=1)]: Done   2 out of   2 | elapsed: 385.6min remaining:    0.0s\n"
     ]
    },
    {
     "name": "stdout",
     "output_type": "stream",
     "text": [
      "Epoch 1/20\n",
      "1667/1667 [==============================] - 579s 347ms/step - loss: 0.5529 - accuracy: 0.7175\n",
      "Epoch 2/20\n",
      "1667/1667 [==============================] - 567s 340ms/step - loss: 0.4954 - accuracy: 0.7600\n",
      "Epoch 3/20\n",
      "1667/1667 [==============================] - 574s 344ms/step - loss: 0.4785 - accuracy: 0.7716\n",
      "Epoch 4/20\n",
      "1667/1667 [==============================] - 577s 346ms/step - loss: 0.4632 - accuracy: 0.7827\n",
      "Epoch 5/20\n",
      "1667/1667 [==============================] - 582s 349ms/step - loss: 0.4489 - accuracy: 0.7906\n",
      "Epoch 6/20\n",
      "1667/1667 [==============================] - 615s 369ms/step - loss: 0.4414 - accuracy: 0.7935\n",
      "Epoch 7/20\n",
      "1667/1667 [==============================] - 625s 375ms/step - loss: 0.4288 - accuracy: 0.8010\n",
      "Epoch 8/20\n",
      "1667/1667 [==============================] - 594s 356ms/step - loss: 0.4188 - accuracy: 0.8068\n",
      "Epoch 9/20\n",
      "1667/1667 [==============================] - 624s 374ms/step - loss: 0.4098 - accuracy: 0.8139\n",
      "Epoch 10/20\n",
      "1667/1667 [==============================] - 639s 384ms/step - loss: 0.3971 - accuracy: 0.8189\n",
      "Epoch 11/20\n",
      "1667/1667 [==============================] - 621s 373ms/step - loss: 0.3847 - accuracy: 0.8247\n",
      "Epoch 12/20\n",
      "1667/1667 [==============================] - 592s 355ms/step - loss: 0.3767 - accuracy: 0.8313\n",
      "Epoch 13/20\n",
      "1667/1667 [==============================] - 589s 353ms/step - loss: 0.3623 - accuracy: 0.8369\n",
      "Epoch 14/20\n",
      "1667/1667 [==============================] - 573s 343ms/step - loss: 0.3507 - accuracy: 0.8454\n",
      "Epoch 15/20\n",
      "1667/1667 [==============================] - 608s 365ms/step - loss: 0.3399 - accuracy: 0.8512\n",
      "Epoch 16/20\n",
      "1667/1667 [==============================] - 607s 364ms/step - loss: 0.3283 - accuracy: 0.8552\n",
      "Epoch 17/20\n",
      "1667/1667 [==============================] - 582s 349ms/step - loss: 0.3167 - accuracy: 0.8612\n",
      "Epoch 18/20\n",
      "1667/1667 [==============================] - 596s 357ms/step - loss: 0.3019 - accuracy: 0.8685\n",
      "Epoch 19/20\n",
      " 906/1667 [===============>..............] - ETA: 4:32 - loss: 0.2855 - accuracy: 0.8784"
     ]
    }
   ],
   "source": [
    "import warnings\n",
    "import sklearn.exceptions\n",
    "warnings.filterwarnings(\"ignore\", category=sklearn.exceptions.UndefinedMetricWarning)\n",
    "warnings.simplefilter(action='ignore', category=FutureWarning)\n",
    "import os\n",
    "os.environ['TF_CPP_MIN_LOG_LEVEL'] = '3'\n",
    "import tensorflow as tf\n",
    "from tensorflow.keras.callbacks import ModelCheckpoint\n",
    "from tensorflow.keras.layers import Dense, Dropout, Bidirectional, LSTM, Embedding, Input\n",
    "from tensorflow.keras.optimizers import Adam\n",
    "import tensorflow.keras.backend as K\n",
    "from tensorflow.keras import Model\n",
    "\n",
    "def my_model(drp1, drp2, drp3, drp4, lstm_sz, dns_sz, is_deep):\n",
    "\n",
    "  inputs = Input((MAX_SEQUENCE_LENGTH,))\n",
    "  embeddings = Embedding(MAX_WORDS+2,EMBEDDING_DIM, weights=[embedding_matrix], \n",
    "                      input_length=MAX_SEQUENCE_LENGTH, mask_zero=True, trainable=False)(inputs)\n",
    "  drop_emb = Dropout(drp1)(embeddings)\n",
    "  bilstm = Bidirectional(LSTM(units=lstm_sz, return_sequences=True,recurrent_dropout = 0.33))(drop_emb)\n",
    "  drop_encodings = Dropout(drp2)(bilstm)\n",
    "\n",
    "  if is_deep:\n",
    "    x, attn = DeepAttention(return_attention=True)(drop_encodings)\n",
    "  else:\n",
    "    x, attn = LinearAttention(return_attention=True)(drop_encodings)\n",
    "\n",
    "  drop_x = Dropout(drp3)(x)\n",
    "  hidden = Dense(units=dns_sz, activation=\"relu\")(drop_x)\n",
    "  drop_out = Dropout(drp4)(hidden)\n",
    "  out = Dense(units=2, activation=\"softmax\")(drop_out)\n",
    "  model = Model(inputs, out)\n",
    "\n",
    "  model.compile(loss='categorical_crossentropy',\n",
    "                    optimizer=Adam(lr=0.001),\n",
    "                    metrics=[\"accuracy\"])\n",
    "\n",
    "  return model\n",
    "\n",
    "from sklearn.model_selection import GridSearchCV\n",
    "from keras.wrappers.scikit_learn import KerasClassifier\n",
    "from sklearn.model_selection import RandomizedSearchCV\n",
    "\n",
    "drp1 = [0.33, 0.4]\n",
    "drp2 = [0.33, 0.4]\n",
    "drp3 = [0.33, 0.4]\n",
    "drp4 = [0.33, 0.4]\n",
    "\n",
    "lstm_sz = [300, 400]\n",
    "dns_sz = [200, 300, 400]\n",
    "is_deep = [True, False]\n",
    "\n",
    "\n",
    "model = KerasClassifier(build_fn = my_model, epochs = 20, batch_size = 32, verbose = 1)\n",
    "\n",
    "param_grid = dict(drp1 = drp1, drp2 = drp2, drp3 = drp3, drp4 = drp4, lstm_sz = lstm_sz, dns_sz = dns_sz, is_deep = is_deep)\n",
    "\n",
    "grid = RandomizedSearchCV(estimator = model, n_iter = 8\n",
    "                          , param_distributions = param_grid\n",
    "                          , n_jobs = 1, cv = 3, verbose = 3\n",
    "                          , scoring = 'f1_macro')\n",
    "\n",
    "grid_result = grid.fit(train_data, y_train)\n",
    "\n",
    "# summarize results\n",
    "print(\"Best: %f using %s\" % (grid_result.best_score_, grid_result.best_params_))\n",
    "means = grid_result.cv_results_['mean_test_score']\n",
    "stds = grid_result.cv_results_['std_test_score']\n",
    "params = grid_result.cv_results_['params']\n",
    "for mean, stdev, param in zip(means, stds, params):\n",
    "    print(\"%f (%f) with: %r\" % (mean, stdev, param))"
   ]
  }
 ],
 "metadata": {
  "accelerator": "GPU",
  "colab": {
   "collapsed_sections": [
    "3DUeficR4Gs4"
   ],
   "include_colab_link": true,
   "name": "Galanos_Kyrkos_Saltos_TA_4th_Assignment.ipynb",
   "provenance": []
  },
  "kernelspec": {
   "display_name": "Python 3",
   "language": "python",
   "name": "python3"
  },
  "language_info": {
   "codemirror_mode": {
    "name": "ipython",
    "version": 3
   },
   "file_extension": ".py",
   "mimetype": "text/x-python",
   "name": "python",
   "nbconvert_exporter": "python",
   "pygments_lexer": "ipython3",
   "version": "3.7.3"
  }
 },
 "nbformat": 4,
 "nbformat_minor": 1
}
